{
  "nbformat": 4,
  "nbformat_minor": 0,
  "metadata": {
    "anaconda-cloud": {},
    "kernelspec": {
      "display_name": "Python 3",
      "language": "python",
      "name": "python3"
    },
    "language_info": {
      "codemirror_mode": {
        "name": "ipython",
        "version": 3
      },
      "file_extension": ".py",
      "mimetype": "text/x-python",
      "name": "python",
      "nbconvert_exporter": "python",
      "pygments_lexer": "ipython3",
      "version": "3.6.5"
    },
    "colab": {
      "name": "Datasets Builder.ipynb",
      "provenance": [],
      "include_colab_link": true
    }
  },
  "cells": [
    {
      "cell_type": "markdown",
      "metadata": {
        "id": "view-in-github",
        "colab_type": "text"
      },
      "source": [
        "<a href=\"https://colab.research.google.com/github/0201shj/CNN-Cats-Dogs/blob/main/Datasets_Builder.ipynb\" target=\"_parent\"><img src=\"https://colab.research.google.com/assets/colab-badge.svg\" alt=\"Open In Colab\"/></a>"
      ]
    },
    {
      "cell_type": "code",
      "metadata": {
        "id": "fOO0IMrMoMHZ"
      },
      "source": [
        "import glob\n",
        "import numpy as np\n",
        "import os\n",
        "import shutil\n",
        "from utils import log_progress\n",
        "\n",
        "np.random.seed(42)"
      ],
      "execution_count": null,
      "outputs": []
    },
    {
      "cell_type": "code",
      "metadata": {
        "id": "9gdkQBYtoMHh",
        "outputId": "1b42b9ab-ff40-40dc-d599-be0f5da358e7"
      },
      "source": [
        "files = glob.glob('train/*')\n",
        "\n",
        "cat_files = [fn for fn in files if 'cat' in fn]\n",
        "dog_files = [fn for fn in files if 'dog' in fn]\n",
        "len(cat_files), len(dog_files)"
      ],
      "execution_count": null,
      "outputs": [
        {
          "output_type": "execute_result",
          "data": {
            "text/plain": [
              "(12411, 12500)"
            ]
          },
          "metadata": {
            "tags": []
          },
          "execution_count": 2
        }
      ]
    },
    {
      "cell_type": "code",
      "metadata": {
        "id": "fCicZ7h-oMHj",
        "outputId": "5734bdfb-3452-48e8-f91c-abdde8d82d00"
      },
      "source": [
        "cat_train = np.random.choice(cat_files, size=1500, replace=False)\n",
        "dog_train = np.random.choice(dog_files, size=1500, replace=False)\n",
        "cat_files = list(set(cat_files) - set(cat_train))\n",
        "dog_files = list(set(dog_files) - set(dog_train))\n",
        "\n",
        "cat_val = np.random.choice(cat_files, size=500, replace=False)\n",
        "dog_val = np.random.choice(dog_files, size=500, replace=False)\n",
        "cat_files = list(set(cat_files) - set(cat_val))\n",
        "dog_files = list(set(dog_files) - set(dog_val))\n",
        "\n",
        "cat_test = np.random.choice(cat_files, size=500, replace=False)\n",
        "dog_test = np.random.choice(dog_files, size=500, replace=False)\n",
        "\n",
        "print('Cat datasets:', cat_train.shape, cat_val.shape, cat_test.shape)\n",
        "print('Dog datasets:', dog_train.shape, dog_val.shape, dog_test.shape)"
      ],
      "execution_count": null,
      "outputs": [
        {
          "output_type": "stream",
          "text": [
            "Cat datasets: (1500,) (500,) (500,)\n",
            "Dog datasets: (1500,) (500,) (500,)\n"
          ],
          "name": "stdout"
        }
      ]
    },
    {
      "cell_type": "code",
      "metadata": {
        "colab": {
          "referenced_widgets": [
            "abc02b82fddd411891a7b2647ec3a32e",
            "5139c843dbb74742a9bfd659b80baf44",
            "01818e3a49524c3d95d3f2241892a435"
          ]
        },
        "id": "utUsBsBpoMHk",
        "outputId": "b5394dfd-4684-439f-d5ea-1f4e8be9f7b0"
      },
      "source": [
        "train_dir = 'training_data'\n",
        "val_dir = 'validation_data'\n",
        "test_dir = 'test_data'\n",
        "\n",
        "train_files = np.concatenate([cat_train, dog_train])\n",
        "validate_files = np.concatenate([cat_val, dog_val])\n",
        "test_files = np.concatenate([cat_test, dog_test])\n",
        "\n",
        "os.mkdir(train_dir) if not os.path.isdir(train_dir) else None\n",
        "os.mkdir(val_dir) if not os.path.isdir(val_dir) else None\n",
        "os.mkdir(test_dir) if not os.path.isdir(test_dir) else None\n",
        "\n",
        "for fn in log_progress(train_files, name='Training Images'):\n",
        "    shutil.copy(fn, train_dir)\n",
        "\n",
        "for fn in log_progress(validate_files, name='Validation Images'):\n",
        "    shutil.copy(fn, val_dir)\n",
        "    \n",
        "for fn in log_progress(test_files, name='Test Images'):\n",
        "    shutil.copy(fn, test_dir)"
      ],
      "execution_count": null,
      "outputs": [
        {
          "output_type": "display_data",
          "data": {
            "application/vnd.jupyter.widget-view+json": {
              "model_id": "abc02b82fddd411891a7b2647ec3a32e",
              "version_major": 2,
              "version_minor": 0
            },
            "text/plain": [
              "VBox(children=(HTML(value=''), IntProgress(value=0, max=3000)))"
            ]
          },
          "metadata": {
            "tags": []
          }
        },
        {
          "output_type": "display_data",
          "data": {
            "application/vnd.jupyter.widget-view+json": {
              "model_id": "5139c843dbb74742a9bfd659b80baf44",
              "version_major": 2,
              "version_minor": 0
            },
            "text/plain": [
              "VBox(children=(HTML(value=''), IntProgress(value=0, max=1000)))"
            ]
          },
          "metadata": {
            "tags": []
          }
        },
        {
          "output_type": "display_data",
          "data": {
            "application/vnd.jupyter.widget-view+json": {
              "model_id": "01818e3a49524c3d95d3f2241892a435",
              "version_major": 2,
              "version_minor": 0
            },
            "text/plain": [
              "VBox(children=(HTML(value=''), IntProgress(value=0, max=1000)))"
            ]
          },
          "metadata": {
            "tags": []
          }
        }
      ]
    },
    {
      "cell_type": "code",
      "metadata": {
        "id": "LtdjDfcaoMHk"
      },
      "source": [
        ""
      ],
      "execution_count": null,
      "outputs": []
    }
  ]
}