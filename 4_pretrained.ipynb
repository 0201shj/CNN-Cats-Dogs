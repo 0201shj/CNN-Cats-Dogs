{
  "nbformat": 4,
  "nbformat_minor": 0,
  "metadata": {
    "accelerator": "GPU",
    "colab": {
      "name": "4-pretrained.ipynb",
      "provenance": [],
      "include_colab_link": true
    },
    "kernelspec": {
      "display_name": "Python 3",
      "language": "python",
      "name": "python3"
    },
    "language_info": {
      "codemirror_mode": {
        "name": "ipython",
        "version": 3
      },
      "file_extension": ".py",
      "mimetype": "text/x-python",
      "name": "python",
      "nbconvert_exporter": "python",
      "pygments_lexer": "ipython3",
      "version": "3.7.6"
    }
  },
  "cells": [
    {
      "cell_type": "markdown",
      "metadata": {
        "id": "view-in-github",
        "colab_type": "text"
      },
      "source": [
        "<a href=\"https://colab.research.google.com/github/0201shj/CNN-Cats-Dogs/blob/main/4_pretrained.ipynb\" target=\"_parent\"><img src=\"https://colab.research.google.com/assets/colab-badge.svg\" alt=\"Open In Colab\"/></a>"
      ]
    },
    {
      "cell_type": "code",
      "metadata": {
        "id": "6giq8ls1A3jN"
      },
      "source": [
        "%matplotlib inline"
      ],
      "execution_count": null,
      "outputs": []
    },
    {
      "cell_type": "code",
      "metadata": {
        "id": "AEJfrotXA58E"
      },
      "source": [
        "!unzip training_data.zip"
      ],
      "execution_count": null,
      "outputs": []
    },
    {
      "cell_type": "code",
      "metadata": {
        "id": "O5M05p_pA5rd"
      },
      "source": [
        "!unzip validation_data.zip"
      ],
      "execution_count": null,
      "outputs": []
    },
    {
      "cell_type": "code",
      "metadata": {
        "id": "KPy5I5SBA3jW"
      },
      "source": [
        "import glob\n",
        "import numpy as np\n",
        "import matplotlib.pyplot as plt\n",
        "from tensorflow.keras.preprocessing.image import ImageDataGenerator, load_img, img_to_array, array_to_img"
      ],
      "execution_count": null,
      "outputs": []
    },
    {
      "cell_type": "code",
      "metadata": {
        "colab": {
          "base_uri": "https://localhost:8080/"
        },
        "id": "eZImnfGOA3jX",
        "outputId": "ceba6b9e-f97b-48db-b76d-6efdd0089fdb"
      },
      "source": [
        "IMG_DIM = (150, 150)\n",
        "\n",
        "train_files = glob.glob('training_data/*')\n",
        "train_imgs = [img_to_array(load_img(img, target_size=IMG_DIM)) for img in train_files]\n",
        "train_imgs = np.array(train_imgs)\n",
        "train_labels = [fn.split('/')[1].split('.')[0].strip() for fn in train_files]\n",
        "\n",
        "validation_files = glob.glob('validation_data/*')\n",
        "validation_imgs = [img_to_array(load_img(img, target_size=IMG_DIM)) for img in validation_files]\n",
        "validation_imgs = np.array(validation_imgs)\n",
        "validation_labels = [fn.split('/')[1].split('.')[0].strip() for fn in validation_files]\n",
        "\n",
        "print('Train dataset shape:', train_imgs.shape, \n",
        "      '\\tValidation dataset shape:', validation_imgs.shape)"
      ],
      "execution_count": null,
      "outputs": [
        {
          "output_type": "stream",
          "text": [
            "Train dataset shape: (3000, 150, 150, 3) \tValidation dataset shape: (1000, 150, 150, 3)\n"
          ],
          "name": "stdout"
        }
      ]
    },
    {
      "cell_type": "code",
      "metadata": {
        "id": "OiDa5o60A3jX"
      },
      "source": [
        "train_imgs_scaled = train_imgs.astype('float32')\n",
        "validation_imgs_scaled = validation_imgs.astype('float32')\n",
        "train_imgs_scaled /= 255\n",
        "validation_imgs_scaled /= 255"
      ],
      "execution_count": null,
      "outputs": []
    },
    {
      "cell_type": "code",
      "metadata": {
        "colab": {
          "base_uri": "https://localhost:8080/"
        },
        "id": "COLKZn79A3jY",
        "outputId": "2e36b705-2392-4723-b53c-f3dff2f8be4d"
      },
      "source": [
        "batch_size = 50\n",
        "num_classes = 2\n",
        "epochs = 150\n",
        "input_shape = (150, 150, 3)\n",
        "\n",
        "from sklearn.preprocessing import LabelEncoder\n",
        "\n",
        "le = LabelEncoder()\n",
        "le.fit(train_labels)\n",
        "# encode wine type labels\n",
        "train_labels_enc = le.transform(train_labels)\n",
        "validation_labels_enc = le.transform(validation_labels)\n",
        "\n",
        "print(train_labels[0:5], train_labels_enc[0:5])"
      ],
      "execution_count": null,
      "outputs": [
        {
          "output_type": "stream",
          "text": [
            "['dog', 'cat', 'dog', 'cat', 'cat'] [1 0 1 0 0]\n"
          ],
          "name": "stdout"
        }
      ]
    },
    {
      "cell_type": "code",
      "metadata": {
        "colab": {
          "base_uri": "https://localhost:8080/"
        },
        "id": "9fVVMivMA3jZ",
        "outputId": "e13af694-94b1-47ab-8320-80eeff7267aa"
      },
      "source": [
        "\n",
        "from tensorflow.keras.applications import vgg16\n",
        "from tensorflow.keras.models import Model\n",
        "import tensorflow.keras\n",
        "\n",
        "vgg = vgg16.VGG16(include_top=False, weights='imagenet',\n",
        "                                     input_shape=input_shape)\n",
        "\n",
        "output = vgg.layers[-1].output\n",
        "output = tensorflow.keras.layers.Flatten()(output)\n",
        "\n",
        "vgg_model = Model(vgg.input, output)\n",
        "vgg_model.trainable = False\n",
        "\n",
        "for layer in vgg_model.layers:\n",
        "    layer.trainable = False\n",
        "\n",
        "vgg_model.summary()\n"
      ],
      "execution_count": null,
      "outputs": [
        {
          "output_type": "stream",
          "text": [
            "Downloading data from https://storage.googleapis.com/tensorflow/keras-applications/vgg16/vgg16_weights_tf_dim_ordering_tf_kernels_notop.h5\n",
            "58892288/58889256 [==============================] - 0s 0us/step\n",
            "Model: \"model\"\n",
            "_________________________________________________________________\n",
            "Layer (type)                 Output Shape              Param #   \n",
            "=================================================================\n",
            "input_1 (InputLayer)         [(None, 150, 150, 3)]     0         \n",
            "_________________________________________________________________\n",
            "block1_conv1 (Conv2D)        (None, 150, 150, 64)      1792      \n",
            "_________________________________________________________________\n",
            "block1_conv2 (Conv2D)        (None, 150, 150, 64)      36928     \n",
            "_________________________________________________________________\n",
            "block1_pool (MaxPooling2D)   (None, 75, 75, 64)        0         \n",
            "_________________________________________________________________\n",
            "block2_conv1 (Conv2D)        (None, 75, 75, 128)       73856     \n",
            "_________________________________________________________________\n",
            "block2_conv2 (Conv2D)        (None, 75, 75, 128)       147584    \n",
            "_________________________________________________________________\n",
            "block2_pool (MaxPooling2D)   (None, 37, 37, 128)       0         \n",
            "_________________________________________________________________\n",
            "block3_conv1 (Conv2D)        (None, 37, 37, 256)       295168    \n",
            "_________________________________________________________________\n",
            "block3_conv2 (Conv2D)        (None, 37, 37, 256)       590080    \n",
            "_________________________________________________________________\n",
            "block3_conv3 (Conv2D)        (None, 37, 37, 256)       590080    \n",
            "_________________________________________________________________\n",
            "block3_pool (MaxPooling2D)   (None, 18, 18, 256)       0         \n",
            "_________________________________________________________________\n",
            "block4_conv1 (Conv2D)        (None, 18, 18, 512)       1180160   \n",
            "_________________________________________________________________\n",
            "block4_conv2 (Conv2D)        (None, 18, 18, 512)       2359808   \n",
            "_________________________________________________________________\n",
            "block4_conv3 (Conv2D)        (None, 18, 18, 512)       2359808   \n",
            "_________________________________________________________________\n",
            "block4_pool (MaxPooling2D)   (None, 9, 9, 512)         0         \n",
            "_________________________________________________________________\n",
            "block5_conv1 (Conv2D)        (None, 9, 9, 512)         2359808   \n",
            "_________________________________________________________________\n",
            "block5_conv2 (Conv2D)        (None, 9, 9, 512)         2359808   \n",
            "_________________________________________________________________\n",
            "block5_conv3 (Conv2D)        (None, 9, 9, 512)         2359808   \n",
            "_________________________________________________________________\n",
            "block5_pool (MaxPooling2D)   (None, 4, 4, 512)         0         \n",
            "_________________________________________________________________\n",
            "flatten (Flatten)            (None, 8192)              0         \n",
            "=================================================================\n",
            "Total params: 14,714,688\n",
            "Trainable params: 0\n",
            "Non-trainable params: 14,714,688\n",
            "_________________________________________________________________\n"
          ],
          "name": "stdout"
        }
      ]
    },
    {
      "cell_type": "code",
      "metadata": {
        "colab": {
          "base_uri": "https://localhost:8080/",
          "height": 694
        },
        "id": "T9SDjC3EA3jZ",
        "outputId": "6654ab66-3c8c-456f-be74-c06e69425432"
      },
      "source": [
        "import pandas as pd\n",
        "pd.set_option('max_colwidth', -1)\n",
        "\n",
        "layers = [(layer, layer.name, layer.trainable) for layer in vgg_model.layers]\n",
        "pd.DataFrame(layers, columns=['Layer Type', 'Layer Name', 'Layer Trainable'])"
      ],
      "execution_count": null,
      "outputs": [
        {
          "output_type": "stream",
          "text": [
            "/usr/local/lib/python3.6/dist-packages/ipykernel_launcher.py:2: FutureWarning: Passing a negative integer is deprecated in version 1.0 and will not be supported in future version. Instead, use None to not limit the column width.\n",
            "  \n"
          ],
          "name": "stderr"
        },
        {
          "output_type": "execute_result",
          "data": {
            "text/html": [
              "<div>\n",
              "<style scoped>\n",
              "    .dataframe tbody tr th:only-of-type {\n",
              "        vertical-align: middle;\n",
              "    }\n",
              "\n",
              "    .dataframe tbody tr th {\n",
              "        vertical-align: top;\n",
              "    }\n",
              "\n",
              "    .dataframe thead th {\n",
              "        text-align: right;\n",
              "    }\n",
              "</style>\n",
              "<table border=\"1\" class=\"dataframe\">\n",
              "  <thead>\n",
              "    <tr style=\"text-align: right;\">\n",
              "      <th></th>\n",
              "      <th>Layer Type</th>\n",
              "      <th>Layer Name</th>\n",
              "      <th>Layer Trainable</th>\n",
              "    </tr>\n",
              "  </thead>\n",
              "  <tbody>\n",
              "    <tr>\n",
              "      <th>0</th>\n",
              "      <td>&lt;tensorflow.python.keras.engine.input_layer.InputLayer object at 0x7f1e0a472748&gt;</td>\n",
              "      <td>input_1</td>\n",
              "      <td>False</td>\n",
              "    </tr>\n",
              "    <tr>\n",
              "      <th>1</th>\n",
              "      <td>&lt;tensorflow.python.keras.layers.convolutional.Conv2D object at 0x7f1e0a4a4dd8&gt;</td>\n",
              "      <td>block1_conv1</td>\n",
              "      <td>False</td>\n",
              "    </tr>\n",
              "    <tr>\n",
              "      <th>2</th>\n",
              "      <td>&lt;tensorflow.python.keras.layers.convolutional.Conv2D object at 0x7f1e0a454f98&gt;</td>\n",
              "      <td>block1_conv2</td>\n",
              "      <td>False</td>\n",
              "    </tr>\n",
              "    <tr>\n",
              "      <th>3</th>\n",
              "      <td>&lt;tensorflow.python.keras.layers.pooling.MaxPooling2D object at 0x7f1e09c19f98&gt;</td>\n",
              "      <td>block1_pool</td>\n",
              "      <td>False</td>\n",
              "    </tr>\n",
              "    <tr>\n",
              "      <th>4</th>\n",
              "      <td>&lt;tensorflow.python.keras.layers.convolutional.Conv2D object at 0x7f1e00155048&gt;</td>\n",
              "      <td>block2_conv1</td>\n",
              "      <td>False</td>\n",
              "    </tr>\n",
              "    <tr>\n",
              "      <th>5</th>\n",
              "      <td>&lt;tensorflow.python.keras.layers.convolutional.Conv2D object at 0x7f1e00155e80&gt;</td>\n",
              "      <td>block2_conv2</td>\n",
              "      <td>False</td>\n",
              "    </tr>\n",
              "    <tr>\n",
              "      <th>6</th>\n",
              "      <td>&lt;tensorflow.python.keras.layers.pooling.MaxPooling2D object at 0x7f1e0015b7f0&gt;</td>\n",
              "      <td>block2_pool</td>\n",
              "      <td>False</td>\n",
              "    </tr>\n",
              "    <tr>\n",
              "      <th>7</th>\n",
              "      <td>&lt;tensorflow.python.keras.layers.convolutional.Conv2D object at 0x7f1e001614e0&gt;</td>\n",
              "      <td>block3_conv1</td>\n",
              "      <td>False</td>\n",
              "    </tr>\n",
              "    <tr>\n",
              "      <th>8</th>\n",
              "      <td>&lt;tensorflow.python.keras.layers.convolutional.Conv2D object at 0x7f1e00166470&gt;</td>\n",
              "      <td>block3_conv2</td>\n",
              "      <td>False</td>\n",
              "    </tr>\n",
              "    <tr>\n",
              "      <th>9</th>\n",
              "      <td>&lt;tensorflow.python.keras.layers.convolutional.Conv2D object at 0x7f1e00166320&gt;</td>\n",
              "      <td>block3_conv3</td>\n",
              "      <td>False</td>\n",
              "    </tr>\n",
              "    <tr>\n",
              "      <th>10</th>\n",
              "      <td>&lt;tensorflow.python.keras.layers.pooling.MaxPooling2D object at 0x7f1e0016bc88&gt;</td>\n",
              "      <td>block3_pool</td>\n",
              "      <td>False</td>\n",
              "    </tr>\n",
              "    <tr>\n",
              "      <th>11</th>\n",
              "      <td>&lt;tensorflow.python.keras.layers.convolutional.Conv2D object at 0x7f1e00175dd8&gt;</td>\n",
              "      <td>block4_conv1</td>\n",
              "      <td>False</td>\n",
              "    </tr>\n",
              "    <tr>\n",
              "      <th>12</th>\n",
              "      <td>&lt;tensorflow.python.keras.layers.convolutional.Conv2D object at 0x7f1e000fe518&gt;</td>\n",
              "      <td>block4_conv2</td>\n",
              "      <td>False</td>\n",
              "    </tr>\n",
              "    <tr>\n",
              "      <th>13</th>\n",
              "      <td>&lt;tensorflow.python.keras.layers.convolutional.Conv2D object at 0x7f1e000fe6a0&gt;</td>\n",
              "      <td>block4_conv3</td>\n",
              "      <td>False</td>\n",
              "    </tr>\n",
              "    <tr>\n",
              "      <th>14</th>\n",
              "      <td>&lt;tensorflow.python.keras.layers.pooling.MaxPooling2D object at 0x7f1e00105eb8&gt;</td>\n",
              "      <td>block4_pool</td>\n",
              "      <td>False</td>\n",
              "    </tr>\n",
              "    <tr>\n",
              "      <th>15</th>\n",
              "      <td>&lt;tensorflow.python.keras.layers.convolutional.Conv2D object at 0x7f1e0010ab70&gt;</td>\n",
              "      <td>block5_conv1</td>\n",
              "      <td>False</td>\n",
              "    </tr>\n",
              "    <tr>\n",
              "      <th>16</th>\n",
              "      <td>&lt;tensorflow.python.keras.layers.convolutional.Conv2D object at 0x7f1e00105128&gt;</td>\n",
              "      <td>block5_conv2</td>\n",
              "      <td>False</td>\n",
              "    </tr>\n",
              "    <tr>\n",
              "      <th>17</th>\n",
              "      <td>&lt;tensorflow.python.keras.layers.convolutional.Conv2D object at 0x7f1e00110e48&gt;</td>\n",
              "      <td>block5_conv3</td>\n",
              "      <td>False</td>\n",
              "    </tr>\n",
              "    <tr>\n",
              "      <th>18</th>\n",
              "      <td>&lt;tensorflow.python.keras.layers.pooling.MaxPooling2D object at 0x7f1e0011b550&gt;</td>\n",
              "      <td>block5_pool</td>\n",
              "      <td>False</td>\n",
              "    </tr>\n",
              "    <tr>\n",
              "      <th>19</th>\n",
              "      <td>&lt;tensorflow.python.keras.layers.core.Flatten object at 0x7f1e0010a8d0&gt;</td>\n",
              "      <td>flatten</td>\n",
              "      <td>False</td>\n",
              "    </tr>\n",
              "  </tbody>\n",
              "</table>\n",
              "</div>"
            ],
            "text/plain": [
              "                                                                          Layer Type  ... Layer Trainable\n",
              "0   <tensorflow.python.keras.engine.input_layer.InputLayer object at 0x7f1e0a472748>  ...  False         \n",
              "1   <tensorflow.python.keras.layers.convolutional.Conv2D object at 0x7f1e0a4a4dd8>    ...  False         \n",
              "2   <tensorflow.python.keras.layers.convolutional.Conv2D object at 0x7f1e0a454f98>    ...  False         \n",
              "3   <tensorflow.python.keras.layers.pooling.MaxPooling2D object at 0x7f1e09c19f98>    ...  False         \n",
              "4   <tensorflow.python.keras.layers.convolutional.Conv2D object at 0x7f1e00155048>    ...  False         \n",
              "5   <tensorflow.python.keras.layers.convolutional.Conv2D object at 0x7f1e00155e80>    ...  False         \n",
              "6   <tensorflow.python.keras.layers.pooling.MaxPooling2D object at 0x7f1e0015b7f0>    ...  False         \n",
              "7   <tensorflow.python.keras.layers.convolutional.Conv2D object at 0x7f1e001614e0>    ...  False         \n",
              "8   <tensorflow.python.keras.layers.convolutional.Conv2D object at 0x7f1e00166470>    ...  False         \n",
              "9   <tensorflow.python.keras.layers.convolutional.Conv2D object at 0x7f1e00166320>    ...  False         \n",
              "10  <tensorflow.python.keras.layers.pooling.MaxPooling2D object at 0x7f1e0016bc88>    ...  False         \n",
              "11  <tensorflow.python.keras.layers.convolutional.Conv2D object at 0x7f1e00175dd8>    ...  False         \n",
              "12  <tensorflow.python.keras.layers.convolutional.Conv2D object at 0x7f1e000fe518>    ...  False         \n",
              "13  <tensorflow.python.keras.layers.convolutional.Conv2D object at 0x7f1e000fe6a0>    ...  False         \n",
              "14  <tensorflow.python.keras.layers.pooling.MaxPooling2D object at 0x7f1e00105eb8>    ...  False         \n",
              "15  <tensorflow.python.keras.layers.convolutional.Conv2D object at 0x7f1e0010ab70>    ...  False         \n",
              "16  <tensorflow.python.keras.layers.convolutional.Conv2D object at 0x7f1e00105128>    ...  False         \n",
              "17  <tensorflow.python.keras.layers.convolutional.Conv2D object at 0x7f1e00110e48>    ...  False         \n",
              "18  <tensorflow.python.keras.layers.pooling.MaxPooling2D object at 0x7f1e0011b550>    ...  False         \n",
              "19  <tensorflow.python.keras.layers.core.Flatten object at 0x7f1e0010a8d0>            ...  False         \n",
              "\n",
              "[20 rows x 3 columns]"
            ]
          },
          "metadata": {
            "tags": []
          },
          "execution_count": 10
        }
      ]
    },
    {
      "cell_type": "code",
      "metadata": {
        "colab": {
          "base_uri": "https://localhost:8080/"
        },
        "id": "OvJvrtrgA3ja",
        "outputId": "25f51b73-c99e-4765-ce1d-74f2349c4b32"
      },
      "source": [
        "print(\"Trainable layers:\", vgg_model.trainable_weights)"
      ],
      "execution_count": null,
      "outputs": [
        {
          "output_type": "stream",
          "text": [
            "Trainable layers: []\n"
          ],
          "name": "stdout"
        }
      ]
    },
    {
      "cell_type": "code",
      "metadata": {
        "colab": {
          "base_uri": "https://localhost:8080/",
          "height": 304
        },
        "id": "J_Zbyst4A3ja",
        "outputId": "5e128655-acd7-48b0-f82e-1d858fc34b42"
      },
      "source": [
        "bottleneck_feature_example = vgg.predict(train_imgs_scaled[0:1])\n",
        "print(bottleneck_feature_example.shape)\n",
        "plt.imshow(bottleneck_feature_example[0][:,:,0])"
      ],
      "execution_count": null,
      "outputs": [
        {
          "output_type": "stream",
          "text": [
            "(1, 4, 4, 512)\n"
          ],
          "name": "stdout"
        },
        {
          "output_type": "execute_result",
          "data": {
            "text/plain": [
              "<matplotlib.image.AxesImage at 0x7f1dabfe77f0>"
            ]
          },
          "metadata": {
            "tags": []
          },
          "execution_count": 12
        },
        {
          "output_type": "display_data",
          "data": {
            "image/png": "[encoded data removed]",
            "text/plain": [
              "<Figure size 432x288 with 1 Axes>"
            ]
          },
          "metadata": {
            "tags": []
          }
        }
      ]
    },
    {
      "cell_type": "code",
      "metadata": {
        "id": "_8LY2OOaA3jb"
      },
      "source": [
        "def get_bottleneck_features(model, input_imgs):\n",
        "    \n",
        "    features = model.predict(input_imgs, verbose=0)\n",
        "    return features"
      ],
      "execution_count": null,
      "outputs": []
    },
    {
      "cell_type": "code",
      "metadata": {
        "colab": {
          "background_save": true,
          "base_uri": "https://localhost:8080/"
        },
        "id": "8sekjWocA3jb",
        "outputId": "a61279b3-248c-4e39-dd49-55615045f12c"
      },
      "source": [
        "train_features_vgg = get_bottleneck_features(vgg_model, train_imgs_scaled)\n",
        "validation_features_vgg = get_bottleneck_features(vgg_model, validation_imgs_scaled)\n",
        "\n",
        "print('Train Bottleneck Features:', train_features_vgg.shape, \n",
        "      '\\tValidation Bottleneck Features:', validation_features_vgg.shape)"
      ],
      "execution_count": null,
      "outputs": [
        {
          "output_type": "stream",
          "text": [
            "Train Bottleneck Features: (3000, 8192) \tValidation Bottleneck Features: (1000, 8192)\n"
          ],
          "name": "stdout"
        }
      ]
    },
    {
      "cell_type": "code",
      "metadata": {
        "colab": {
          "base_uri": "https://localhost:8080/"
        },
        "id": "oXhFf4HLA3jc",
        "outputId": "6fc06a04-2dc3-43db-96f4-6857c9c741da"
      },
      "source": [
        "from tensorflow.keras.layers import Conv2D, MaxPooling2D, Flatten, Dense, Dropout, InputLayer\n",
        "from tensorflow.keras.models import Sequential\n",
        "from tensorflow.keras import optimizers\n",
        "\n",
        "input_shape = vgg_model.output_shape[1]\n",
        "\n",
        "model = Sequential()\n",
        "model.add(InputLayer(input_shape=(input_shape,)))\n",
        "model.add(Dense(512, activation='relu', input_dim=input_shape))\n",
        "model.add(Dropout(0.3))\n",
        "model.add(Dense(512, activation='relu'))\n",
        "model.add(Dropout(0.3))\n",
        "model.add(Dense(1, activation='sigmoid'))\n",
        "\n",
        "model.compile(loss='binary_crossentropy',\n",
        "              optimizer=optimizers.RMSprop(lr=1e-4),\n",
        "              metrics=['accuracy'])\n",
        "\n",
        "model.summary()"
      ],
      "execution_count": null,
      "outputs": [
        {
          "output_type": "stream",
          "text": [
            "Model: \"sequential\"\n",
            "_________________________________________________________________\n",
            "Layer (type)                 Output Shape              Param #   \n",
            "=================================================================\n",
            "dense (Dense)                (None, 512)               4194816   \n",
            "_________________________________________________________________\n",
            "dropout (Dropout)            (None, 512)               0         \n",
            "_________________________________________________________________\n",
            "dense_1 (Dense)              (None, 512)               262656    \n",
            "_________________________________________________________________\n",
            "dropout_1 (Dropout)          (None, 512)               0         \n",
            "_________________________________________________________________\n",
            "dense_2 (Dense)              (None, 1)                 513       \n",
            "=================================================================\n",
            "Total params: 4,457,985\n",
            "Trainable params: 4,457,985\n",
            "Non-trainable params: 0\n",
            "_________________________________________________________________\n"
          ],
          "name": "stdout"
        }
      ]
    },
    {
      "cell_type": "code",
      "metadata": {
        "colab": {
          "base_uri": "https://localhost:8080/"
        },
        "id": "UV-VPb-lA3jc",
        "outputId": "a13a991b-8860-434b-b90e-0bf5544d954e"
      },
      "source": [
        "history = model.fit(x=train_features_vgg, y=train_labels_enc,\n",
        "                    validation_data=(validation_features_vgg, validation_labels_enc),\n",
        "                    batch_size=batch_size,\n",
        "                    epochs=epochs,\n",
        "                    verbose=1)"
      ],
      "execution_count": null,
      "outputs": [
        {
          "output_type": "stream",
          "text": [
            "Epoch 1/150\n",
            "60/60 [==============================] - 1s 11ms/step - loss: 0.5951 - accuracy: 0.6778 - val_loss: 0.2985 - val_accuracy: 0.8710\n",
            "Epoch 2/150\n",
            "60/60 [==============================] - 0s 6ms/step - loss: 0.3188 - accuracy: 0.8578 - val_loss: 0.2919 - val_accuracy: 0.8690\n",
            "Epoch 3/150\n",
            "60/60 [==============================] - 0s 5ms/step - loss: 0.2494 - accuracy: 0.8981 - val_loss: 0.2429 - val_accuracy: 0.9020\n",
            "Epoch 4/150\n",
            "60/60 [==============================] - 0s 5ms/step - loss: 0.2387 - accuracy: 0.9005 - val_loss: 0.2400 - val_accuracy: 0.8910\n",
            "Epoch 5/150\n",
            "60/60 [==============================] - 0s 7ms/step - loss: 0.1849 - accuracy: 0.9240 - val_loss: 0.2389 - val_accuracy: 0.8940\n",
            "Epoch 6/150\n",
            "60/60 [==============================] - 0s 5ms/step - loss: 0.1659 - accuracy: 0.9383 - val_loss: 0.3009 - val_accuracy: 0.8710\n",
            "Epoch 7/150\n",
            "60/60 [==============================] - 0s 5ms/step - loss: 0.1481 - accuracy: 0.9414 - val_loss: 0.2858 - val_accuracy: 0.8780\n",
            "Epoch 8/150\n",
            "60/60 [==============================] - 0s 5ms/step - loss: 0.1157 - accuracy: 0.9516 - val_loss: 0.2566 - val_accuracy: 0.8950\n",
            "Epoch 9/150\n",
            "60/60 [==============================] - 0s 5ms/step - loss: 0.0963 - accuracy: 0.9602 - val_loss: 0.3373 - val_accuracy: 0.8760\n",
            "Epoch 10/150\n",
            "60/60 [==============================] - 0s 5ms/step - loss: 0.0986 - accuracy: 0.9659 - val_loss: 0.3670 - val_accuracy: 0.8820\n",
            "Epoch 11/150\n",
            "60/60 [==============================] - 0s 5ms/step - loss: 0.0629 - accuracy: 0.9780 - val_loss: 0.2783 - val_accuracy: 0.9000\n",
            "Epoch 12/150\n",
            "60/60 [==============================] - 0s 5ms/step - loss: 0.0553 - accuracy: 0.9820 - val_loss: 0.3710 - val_accuracy: 0.8860\n",
            "Epoch 13/150\n",
            "60/60 [==============================] - 0s 5ms/step - loss: 0.0469 - accuracy: 0.9855 - val_loss: 0.2940 - val_accuracy: 0.9000\n",
            "Epoch 14/150\n",
            "60/60 [==============================] - 0s 6ms/step - loss: 0.0286 - accuracy: 0.9920 - val_loss: 0.4395 - val_accuracy: 0.8810\n",
            "Epoch 15/150\n",
            "60/60 [==============================] - 0s 6ms/step - loss: 0.0346 - accuracy: 0.9890 - val_loss: 0.3235 - val_accuracy: 0.8960\n",
            "Epoch 16/150\n",
            "60/60 [==============================] - 0s 5ms/step - loss: 0.0212 - accuracy: 0.9930 - val_loss: 0.3553 - val_accuracy: 0.8970\n",
            "Epoch 17/150\n",
            "60/60 [==============================] - 0s 6ms/step - loss: 0.0247 - accuracy: 0.9928 - val_loss: 0.3682 - val_accuracy: 0.8970\n",
            "Epoch 18/150\n",
            "60/60 [==============================] - 0s 5ms/step - loss: 0.0314 - accuracy: 0.9880 - val_loss: 0.3938 - val_accuracy: 0.9000\n",
            "Epoch 19/150\n",
            "60/60 [==============================] - 0s 5ms/step - loss: 0.0156 - accuracy: 0.9960 - val_loss: 0.3956 - val_accuracy: 0.8970\n",
            "Epoch 20/150\n",
            "60/60 [==============================] - 0s 5ms/step - loss: 0.0134 - accuracy: 0.9952 - val_loss: 0.4175 - val_accuracy: 0.8940\n",
            "Epoch 21/150\n",
            "60/60 [==============================] - 0s 5ms/step - loss: 0.0261 - accuracy: 0.9914 - val_loss: 0.4435 - val_accuracy: 0.8960\n",
            "Epoch 22/150\n",
            "60/60 [==============================] - 0s 5ms/step - loss: 0.0150 - accuracy: 0.9954 - val_loss: 0.4695 - val_accuracy: 0.8960\n",
            "Epoch 23/150\n",
            "60/60 [==============================] - 0s 5ms/step - loss: 0.0189 - accuracy: 0.9945 - val_loss: 1.0328 - val_accuracy: 0.8500\n",
            "Epoch 24/150\n",
            "60/60 [==============================] - 0s 5ms/step - loss: 0.0797 - accuracy: 0.9783 - val_loss: 0.5042 - val_accuracy: 0.8940\n",
            "Epoch 25/150\n",
            "60/60 [==============================] - 0s 5ms/step - loss: 0.0260 - accuracy: 0.9919 - val_loss: 0.4899 - val_accuracy: 0.9000\n",
            "Epoch 26/150\n",
            "60/60 [==============================] - 0s 5ms/step - loss: 0.0126 - accuracy: 0.9951 - val_loss: 0.5717 - val_accuracy: 0.8920\n",
            "Epoch 27/150\n",
            "60/60 [==============================] - 0s 5ms/step - loss: 0.0205 - accuracy: 0.9947 - val_loss: 0.5311 - val_accuracy: 0.8940\n",
            "Epoch 28/150\n",
            "60/60 [==============================] - 0s 5ms/step - loss: 0.0048 - accuracy: 0.9985 - val_loss: 0.5185 - val_accuracy: 0.8940\n",
            "Epoch 29/150\n",
            "60/60 [==============================] - 0s 5ms/step - loss: 5.8660e-04 - accuracy: 1.0000 - val_loss: 0.5391 - val_accuracy: 0.8920\n",
            "Epoch 30/150\n",
            "60/60 [==============================] - 0s 5ms/step - loss: 0.0282 - accuracy: 0.9939 - val_loss: 0.5575 - val_accuracy: 0.8940\n",
            "Epoch 31/150\n",
            "60/60 [==============================] - 0s 5ms/step - loss: 0.0043 - accuracy: 0.9990 - val_loss: 0.6018 - val_accuracy: 0.8970\n",
            "Epoch 32/150\n",
            "60/60 [==============================] - 0s 5ms/step - loss: 4.0924e-04 - accuracy: 1.0000 - val_loss: 0.6157 - val_accuracy: 0.8960\n",
            "Epoch 33/150\n",
            "60/60 [==============================] - 0s 6ms/step - loss: 0.0260 - accuracy: 0.9941 - val_loss: 0.5835 - val_accuracy: 0.9000\n",
            "Epoch 34/150\n",
            "60/60 [==============================] - 0s 6ms/step - loss: 0.0030 - accuracy: 0.9990 - val_loss: 0.6287 - val_accuracy: 0.8940\n",
            "Epoch 35/150\n",
            "60/60 [==============================] - 0s 6ms/step - loss: 1.7610e-04 - accuracy: 1.0000 - val_loss: 0.6128 - val_accuracy: 0.9050\n",
            "Epoch 36/150\n",
            "60/60 [==============================] - 0s 6ms/step - loss: 0.0135 - accuracy: 0.9965 - val_loss: 0.6169 - val_accuracy: 0.9010\n",
            "Epoch 37/150\n",
            "60/60 [==============================] - 0s 6ms/step - loss: 1.0283e-04 - accuracy: 1.0000 - val_loss: 0.6550 - val_accuracy: 0.8990\n",
            "Epoch 38/150\n",
            "60/60 [==============================] - 0s 6ms/step - loss: 0.0282 - accuracy: 0.9879 - val_loss: 0.6167 - val_accuracy: 0.9000\n",
            "Epoch 39/150\n",
            "60/60 [==============================] - 0s 5ms/step - loss: 0.0027 - accuracy: 0.9989 - val_loss: 0.6362 - val_accuracy: 0.8920\n",
            "Epoch 40/150\n",
            "60/60 [==============================] - 0s 5ms/step - loss: 1.7881e-04 - accuracy: 1.0000 - val_loss: 0.6561 - val_accuracy: 0.9030\n",
            "Epoch 41/150\n",
            "60/60 [==============================] - 0s 5ms/step - loss: 0.0021 - accuracy: 0.9995 - val_loss: 0.7346 - val_accuracy: 0.8940\n",
            "Epoch 42/150\n",
            "60/60 [==============================] - 0s 6ms/step - loss: 0.0015 - accuracy: 0.9997 - val_loss: 0.7282 - val_accuracy: 0.8940\n",
            "Epoch 43/150\n",
            "60/60 [==============================] - 0s 6ms/step - loss: 2.4066e-04 - accuracy: 1.0000 - val_loss: 0.7353 - val_accuracy: 0.8940\n",
            "Epoch 44/150\n",
            "60/60 [==============================] - 0s 6ms/step - loss: 0.0077 - accuracy: 0.9984 - val_loss: 0.7372 - val_accuracy: 0.8990\n",
            "Epoch 45/150\n",
            "60/60 [==============================] - 0s 6ms/step - loss: 9.2562e-05 - accuracy: 1.0000 - val_loss: 0.7299 - val_accuracy: 0.8990\n",
            "Epoch 46/150\n",
            "60/60 [==============================] - 0s 6ms/step - loss: 0.0018 - accuracy: 0.9996 - val_loss: 0.7685 - val_accuracy: 0.9010\n",
            "Epoch 47/150\n",
            "60/60 [==============================] - 0s 5ms/step - loss: 3.5910e-05 - accuracy: 1.0000 - val_loss: 0.7768 - val_accuracy: 0.8950\n",
            "Epoch 48/150\n",
            "60/60 [==============================] - 0s 6ms/step - loss: 5.9555e-05 - accuracy: 1.0000 - val_loss: 0.8346 - val_accuracy: 0.8940\n",
            "Epoch 49/150\n",
            "60/60 [==============================] - 0s 6ms/step - loss: 0.0184 - accuracy: 0.9946 - val_loss: 0.7963 - val_accuracy: 0.8920\n",
            "Epoch 50/150\n",
            "60/60 [==============================] - 0s 6ms/step - loss: 2.7517e-05 - accuracy: 1.0000 - val_loss: 0.8283 - val_accuracy: 0.8930\n",
            "Epoch 51/150\n",
            "60/60 [==============================] - 0s 6ms/step - loss: 0.0107 - accuracy: 0.9957 - val_loss: 0.8119 - val_accuracy: 0.8970\n",
            "Epoch 52/150\n",
            "60/60 [==============================] - 0s 5ms/step - loss: 3.0026e-05 - accuracy: 1.0000 - val_loss: 1.1780 - val_accuracy: 0.8740\n",
            "Epoch 53/150\n",
            "60/60 [==============================] - 0s 5ms/step - loss: 0.1266 - accuracy: 0.9813 - val_loss: 0.7790 - val_accuracy: 0.8950\n",
            "Epoch 54/150\n",
            "60/60 [==============================] - 0s 5ms/step - loss: 2.0120e-05 - accuracy: 1.0000 - val_loss: 0.8124 - val_accuracy: 0.8960\n",
            "Epoch 55/150\n",
            "60/60 [==============================] - 0s 5ms/step - loss: 0.0108 - accuracy: 0.9971 - val_loss: 0.7838 - val_accuracy: 0.8980\n",
            "Epoch 56/150\n",
            "60/60 [==============================] - 0s 6ms/step - loss: 1.7790e-05 - accuracy: 1.0000 - val_loss: 0.8197 - val_accuracy: 0.9040\n",
            "Epoch 57/150\n",
            "60/60 [==============================] - 0s 5ms/step - loss: 0.0038 - accuracy: 0.9991 - val_loss: 0.9093 - val_accuracy: 0.8950\n",
            "Epoch 58/150\n",
            "60/60 [==============================] - 0s 5ms/step - loss: 7.4123e-05 - accuracy: 1.0000 - val_loss: 0.8953 - val_accuracy: 0.8980\n",
            "Epoch 59/150\n",
            "60/60 [==============================] - 0s 7ms/step - loss: 1.4694e-05 - accuracy: 1.0000 - val_loss: 0.8954 - val_accuracy: 0.8970\n",
            "Epoch 60/150\n",
            "60/60 [==============================] - 0s 5ms/step - loss: 0.0104 - accuracy: 0.9978 - val_loss: 0.8814 - val_accuracy: 0.8980\n",
            "Epoch 61/150\n",
            "60/60 [==============================] - 0s 5ms/step - loss: 1.5699e-04 - accuracy: 1.0000 - val_loss: 0.8401 - val_accuracy: 0.8960\n",
            "Epoch 62/150\n",
            "60/60 [==============================] - 0s 5ms/step - loss: 8.8099e-06 - accuracy: 1.0000 - val_loss: 0.8728 - val_accuracy: 0.9010\n",
            "Epoch 63/150\n",
            "60/60 [==============================] - 0s 6ms/step - loss: 0.0265 - accuracy: 0.9919 - val_loss: 0.9604 - val_accuracy: 0.8920\n",
            "Epoch 64/150\n",
            "60/60 [==============================] - 0s 6ms/step - loss: 2.1562e-05 - accuracy: 1.0000 - val_loss: 0.9433 - val_accuracy: 0.8930\n",
            "Epoch 65/150\n",
            "60/60 [==============================] - 0s 5ms/step - loss: 0.0029 - accuracy: 0.9994 - val_loss: 0.9141 - val_accuracy: 0.8950\n",
            "Epoch 66/150\n",
            "60/60 [==============================] - 0s 6ms/step - loss: 8.9108e-06 - accuracy: 1.0000 - val_loss: 0.8981 - val_accuracy: 0.9040\n",
            "Epoch 67/150\n",
            "60/60 [==============================] - 0s 6ms/step - loss: 7.4792e-06 - accuracy: 1.0000 - val_loss: 0.9394 - val_accuracy: 0.9020\n",
            "Epoch 68/150\n",
            "60/60 [==============================] - 0s 6ms/step - loss: 0.0364 - accuracy: 0.9917 - val_loss: 0.9048 - val_accuracy: 0.9020\n",
            "Epoch 69/150\n",
            "60/60 [==============================] - 0s 6ms/step - loss: 2.1259e-05 - accuracy: 1.0000 - val_loss: 0.8977 - val_accuracy: 0.9000\n",
            "Epoch 70/150\n",
            "60/60 [==============================] - 0s 5ms/step - loss: 0.0018 - accuracy: 0.9996 - val_loss: 0.9803 - val_accuracy: 0.8930\n",
            "Epoch 71/150\n",
            "60/60 [==============================] - 0s 5ms/step - loss: 8.7214e-05 - accuracy: 1.0000 - val_loss: 0.8682 - val_accuracy: 0.9000\n",
            "Epoch 72/150\n",
            "60/60 [==============================] - 0s 5ms/step - loss: 5.6962e-06 - accuracy: 1.0000 - val_loss: 0.9030 - val_accuracy: 0.8980\n",
            "Epoch 73/150\n",
            "60/60 [==============================] - 0s 5ms/step - loss: 0.0196 - accuracy: 0.9975 - val_loss: 0.8982 - val_accuracy: 0.8990\n",
            "Epoch 74/150\n",
            "60/60 [==============================] - 0s 5ms/step - loss: 6.4463e-06 - accuracy: 1.0000 - val_loss: 0.8869 - val_accuracy: 0.9030\n",
            "Epoch 75/150\n",
            "60/60 [==============================] - 0s 5ms/step - loss: 3.1313e-06 - accuracy: 1.0000 - val_loss: 0.9134 - val_accuracy: 0.8980\n",
            "Epoch 76/150\n",
            "60/60 [==============================] - 0s 5ms/step - loss: 1.1008e-05 - accuracy: 1.0000 - val_loss: 0.9781 - val_accuracy: 0.9010\n",
            "Epoch 77/150\n",
            "60/60 [==============================] - 0s 5ms/step - loss: 0.0283 - accuracy: 0.9914 - val_loss: 0.9844 - val_accuracy: 0.8990\n",
            "Epoch 78/150\n",
            "60/60 [==============================] - 0s 5ms/step - loss: 3.9455e-06 - accuracy: 1.0000 - val_loss: 1.0030 - val_accuracy: 0.8940\n",
            "Epoch 79/150\n",
            "60/60 [==============================] - 0s 5ms/step - loss: 0.0024 - accuracy: 0.9985 - val_loss: 0.9948 - val_accuracy: 0.9010\n",
            "Epoch 80/150\n",
            "60/60 [==============================] - 0s 6ms/step - loss: 2.6763e-04 - accuracy: 0.9998 - val_loss: 0.9861 - val_accuracy: 0.9030\n",
            "Epoch 81/150\n",
            "60/60 [==============================] - 0s 5ms/step - loss: 3.7057e-06 - accuracy: 1.0000 - val_loss: 1.0156 - val_accuracy: 0.9040\n",
            "Epoch 82/150\n",
            "60/60 [==============================] - 0s 5ms/step - loss: 4.3164e-05 - accuracy: 1.0000 - val_loss: 0.9680 - val_accuracy: 0.8970\n",
            "Epoch 83/150\n",
            "60/60 [==============================] - 0s 5ms/step - loss: 1.0335e-05 - accuracy: 1.0000 - val_loss: 1.0311 - val_accuracy: 0.9000\n",
            "Epoch 84/150\n",
            "60/60 [==============================] - 0s 5ms/step - loss: 4.4193e-04 - accuracy: 0.9999 - val_loss: 1.0996 - val_accuracy: 0.9020\n",
            "Epoch 85/150\n",
            "60/60 [==============================] - 0s 5ms/step - loss: 1.1678e-05 - accuracy: 1.0000 - val_loss: 1.1061 - val_accuracy: 0.8980\n",
            "Epoch 86/150\n",
            "60/60 [==============================] - 0s 5ms/step - loss: 2.3515e-06 - accuracy: 1.0000 - val_loss: 1.1074 - val_accuracy: 0.9000\n",
            "Epoch 87/150\n",
            "60/60 [==============================] - 0s 5ms/step - loss: 0.0045 - accuracy: 0.9989 - val_loss: 1.1123 - val_accuracy: 0.8990\n",
            "Epoch 88/150\n",
            "60/60 [==============================] - 0s 5ms/step - loss: 3.2526e-07 - accuracy: 1.0000 - val_loss: 1.1186 - val_accuracy: 0.8990\n",
            "Epoch 89/150\n",
            "60/60 [==============================] - 0s 5ms/step - loss: 0.0014 - accuracy: 0.9998 - val_loss: 1.2327 - val_accuracy: 0.8910\n",
            "Epoch 90/150\n",
            "60/60 [==============================] - 0s 5ms/step - loss: 2.8387e-05 - accuracy: 1.0000 - val_loss: 1.1048 - val_accuracy: 0.8970\n",
            "Epoch 91/150\n",
            "60/60 [==============================] - 0s 5ms/step - loss: 4.7889e-05 - accuracy: 1.0000 - val_loss: 1.0513 - val_accuracy: 0.9040\n",
            "Epoch 92/150\n",
            "60/60 [==============================] - 0s 6ms/step - loss: 1.2259e-06 - accuracy: 1.0000 - val_loss: 1.1745 - val_accuracy: 0.8920\n",
            "Epoch 93/150\n",
            "60/60 [==============================] - 0s 6ms/step - loss: 0.0237 - accuracy: 0.9948 - val_loss: 1.0950 - val_accuracy: 0.8960\n",
            "Epoch 94/150\n",
            "60/60 [==============================] - 0s 6ms/step - loss: 2.2045e-06 - accuracy: 1.0000 - val_loss: 1.0698 - val_accuracy: 0.9000\n",
            "Epoch 95/150\n",
            "60/60 [==============================] - 0s 6ms/step - loss: 3.0471e-06 - accuracy: 1.0000 - val_loss: 1.0881 - val_accuracy: 0.8970\n",
            "Epoch 96/150\n",
            "60/60 [==============================] - 0s 5ms/step - loss: 7.8389e-04 - accuracy: 0.9996 - val_loss: 1.1450 - val_accuracy: 0.9010\n",
            "Epoch 97/150\n",
            "60/60 [==============================] - 0s 5ms/step - loss: 9.4928e-05 - accuracy: 1.0000 - val_loss: 1.1222 - val_accuracy: 0.8950\n",
            "Epoch 98/150\n",
            "60/60 [==============================] - 0s 5ms/step - loss: 1.1551e-06 - accuracy: 1.0000 - val_loss: 1.1121 - val_accuracy: 0.8990\n",
            "Epoch 99/150\n",
            "60/60 [==============================] - 0s 5ms/step - loss: 4.8400e-07 - accuracy: 1.0000 - val_loss: 1.1796 - val_accuracy: 0.8990\n",
            "Epoch 100/150\n",
            "60/60 [==============================] - 0s 5ms/step - loss: 0.0279 - accuracy: 0.9918 - val_loss: 1.0757 - val_accuracy: 0.9010\n",
            "Epoch 101/150\n",
            "60/60 [==============================] - 0s 6ms/step - loss: 7.1070e-07 - accuracy: 1.0000 - val_loss: 1.0721 - val_accuracy: 0.9020\n",
            "Epoch 102/150\n",
            "60/60 [==============================] - 0s 5ms/step - loss: 7.9110e-07 - accuracy: 1.0000 - val_loss: 1.1426 - val_accuracy: 0.9020\n",
            "Epoch 103/150\n",
            "60/60 [==============================] - 0s 5ms/step - loss: 0.0012 - accuracy: 0.9996 - val_loss: 1.3238 - val_accuracy: 0.8940\n",
            "Epoch 104/150\n",
            "60/60 [==============================] - 0s 5ms/step - loss: 7.9582e-05 - accuracy: 1.0000 - val_loss: 1.1924 - val_accuracy: 0.8970\n",
            "Epoch 105/150\n",
            "60/60 [==============================] - 0s 5ms/step - loss: 1.2181e-06 - accuracy: 1.0000 - val_loss: 1.1899 - val_accuracy: 0.8970\n",
            "Epoch 106/150\n",
            "60/60 [==============================] - 0s 5ms/step - loss: 0.0019 - accuracy: 0.9994 - val_loss: 1.1561 - val_accuracy: 0.9010\n",
            "Epoch 107/150\n",
            "60/60 [==============================] - 0s 5ms/step - loss: 9.1697e-07 - accuracy: 1.0000 - val_loss: 1.1413 - val_accuracy: 0.9010\n",
            "Epoch 108/150\n",
            "60/60 [==============================] - 0s 5ms/step - loss: 0.0014 - accuracy: 0.9997 - val_loss: 1.1704 - val_accuracy: 0.8950\n",
            "Epoch 109/150\n",
            "60/60 [==============================] - 0s 5ms/step - loss: 3.1255e-07 - accuracy: 1.0000 - val_loss: 1.1643 - val_accuracy: 0.8980\n",
            "Epoch 110/150\n",
            "60/60 [==============================] - 0s 5ms/step - loss: 8.0172e-07 - accuracy: 1.0000 - val_loss: 1.1732 - val_accuracy: 0.8980\n",
            "Epoch 111/150\n",
            "60/60 [==============================] - 0s 5ms/step - loss: 1.0305e-06 - accuracy: 1.0000 - val_loss: 1.2351 - val_accuracy: 0.8980\n",
            "Epoch 112/150\n",
            "60/60 [==============================] - 0s 5ms/step - loss: 0.0106 - accuracy: 0.9978 - val_loss: 1.2320 - val_accuracy: 0.9020\n",
            "Epoch 113/150\n",
            "60/60 [==============================] - 0s 7ms/step - loss: 3.0146e-07 - accuracy: 1.0000 - val_loss: 1.2175 - val_accuracy: 0.9020\n",
            "Epoch 114/150\n",
            "60/60 [==============================] - 0s 6ms/step - loss: 4.4370e-04 - accuracy: 0.9999 - val_loss: 2.1167 - val_accuracy: 0.8580\n",
            "Epoch 115/150\n",
            "60/60 [==============================] - 0s 6ms/step - loss: 7.1684e-04 - accuracy: 1.0000 - val_loss: 1.2471 - val_accuracy: 0.9000\n",
            "Epoch 116/150\n",
            "60/60 [==============================] - 0s 6ms/step - loss: 3.5734e-07 - accuracy: 1.0000 - val_loss: 1.2239 - val_accuracy: 0.9010\n",
            "Epoch 117/150\n",
            "60/60 [==============================] - 0s 6ms/step - loss: 3.1607e-07 - accuracy: 1.0000 - val_loss: 1.2210 - val_accuracy: 0.8990\n",
            "Epoch 118/150\n",
            "60/60 [==============================] - 0s 6ms/step - loss: 0.0024 - accuracy: 0.9993 - val_loss: 1.3079 - val_accuracy: 0.8970\n",
            "Epoch 119/150\n",
            "60/60 [==============================] - 0s 6ms/step - loss: 2.8077e-06 - accuracy: 1.0000 - val_loss: 1.2871 - val_accuracy: 0.9010\n",
            "Epoch 120/150\n",
            "60/60 [==============================] - 0s 5ms/step - loss: 1.0887e-06 - accuracy: 1.0000 - val_loss: 1.2661 - val_accuracy: 0.9000\n",
            "Epoch 121/150\n",
            "60/60 [==============================] - 0s 5ms/step - loss: 7.0554e-06 - accuracy: 1.0000 - val_loss: 2.6880 - val_accuracy: 0.8470\n",
            "Epoch 122/150\n",
            "60/60 [==============================] - 0s 5ms/step - loss: 0.0048 - accuracy: 0.9985 - val_loss: 1.2746 - val_accuracy: 0.9030\n",
            "Epoch 123/150\n",
            "60/60 [==============================] - 0s 5ms/step - loss: 1.6564e-06 - accuracy: 1.0000 - val_loss: 1.2825 - val_accuracy: 0.8990\n",
            "Epoch 124/150\n",
            "60/60 [==============================] - 0s 5ms/step - loss: 1.8697e-04 - accuracy: 1.0000 - val_loss: 1.2276 - val_accuracy: 0.9000\n",
            "Epoch 125/150\n",
            "60/60 [==============================] - 0s 6ms/step - loss: 1.1436e-06 - accuracy: 1.0000 - val_loss: 1.2243 - val_accuracy: 0.9030\n",
            "Epoch 126/150\n",
            "60/60 [==============================] - 0s 6ms/step - loss: 1.5840e-07 - accuracy: 1.0000 - val_loss: 1.2545 - val_accuracy: 0.9030\n",
            "Epoch 127/150\n",
            "60/60 [==============================] - 0s 5ms/step - loss: 0.0016 - accuracy: 0.9995 - val_loss: 1.2660 - val_accuracy: 0.8980\n",
            "Epoch 128/150\n",
            "60/60 [==============================] - 0s 6ms/step - loss: 4.6912e-06 - accuracy: 1.0000 - val_loss: 1.2540 - val_accuracy: 0.8990\n",
            "Epoch 129/150\n",
            "60/60 [==============================] - 0s 6ms/step - loss: 7.1297e-06 - accuracy: 1.0000 - val_loss: 1.2307 - val_accuracy: 0.9020\n",
            "Epoch 130/150\n",
            "60/60 [==============================] - 0s 6ms/step - loss: 5.5908e-08 - accuracy: 1.0000 - val_loss: 1.2372 - val_accuracy: 0.9030\n",
            "Epoch 131/150\n",
            "60/60 [==============================] - 0s 5ms/step - loss: 6.2417e-08 - accuracy: 1.0000 - val_loss: 1.2495 - val_accuracy: 0.9080\n",
            "Epoch 132/150\n",
            "60/60 [==============================] - 0s 5ms/step - loss: 0.0021 - accuracy: 0.9988 - val_loss: 1.2260 - val_accuracy: 0.9010\n",
            "Epoch 133/150\n",
            "60/60 [==============================] - 0s 5ms/step - loss: 8.4238e-08 - accuracy: 1.0000 - val_loss: 1.2334 - val_accuracy: 0.9010\n",
            "Epoch 134/150\n",
            "60/60 [==============================] - 0s 6ms/step - loss: 3.6124e-08 - accuracy: 1.0000 - val_loss: 1.2588 - val_accuracy: 0.9010\n",
            "Epoch 135/150\n",
            "60/60 [==============================] - 0s 5ms/step - loss: 9.6921e-08 - accuracy: 1.0000 - val_loss: 1.2698 - val_accuracy: 0.9030\n",
            "Epoch 136/150\n",
            "60/60 [==============================] - 0s 5ms/step - loss: 1.3306e-05 - accuracy: 1.0000 - val_loss: 1.3170 - val_accuracy: 0.9000\n",
            "Epoch 137/150\n",
            "60/60 [==============================] - 0s 6ms/step - loss: 2.4016e-08 - accuracy: 1.0000 - val_loss: 1.3182 - val_accuracy: 0.9020\n",
            "Epoch 138/150\n",
            "60/60 [==============================] - 0s 6ms/step - loss: 4.2991e-04 - accuracy: 0.9998 - val_loss: 1.2341 - val_accuracy: 0.9020\n",
            "Epoch 139/150\n",
            "60/60 [==============================] - 0s 5ms/step - loss: 3.5155e-07 - accuracy: 1.0000 - val_loss: 1.2373 - val_accuracy: 0.8980\n",
            "Epoch 140/150\n",
            "60/60 [==============================] - 0s 6ms/step - loss: 3.8191e-08 - accuracy: 1.0000 - val_loss: 1.2413 - val_accuracy: 0.8980\n",
            "Epoch 141/150\n",
            "60/60 [==============================] - 0s 5ms/step - loss: 3.1423e-07 - accuracy: 1.0000 - val_loss: 1.2710 - val_accuracy: 0.9040\n",
            "Epoch 142/150\n",
            "60/60 [==============================] - 0s 5ms/step - loss: 2.1690e-07 - accuracy: 1.0000 - val_loss: 1.2776 - val_accuracy: 0.9010\n",
            "Epoch 143/150\n",
            "60/60 [==============================] - 0s 5ms/step - loss: 4.4696e-08 - accuracy: 1.0000 - val_loss: 1.3003 - val_accuracy: 0.9010\n",
            "Epoch 144/150\n",
            "60/60 [==============================] - 0s 5ms/step - loss: 1.7380e-08 - accuracy: 1.0000 - val_loss: 1.3077 - val_accuracy: 0.9010\n",
            "Epoch 145/150\n",
            "60/60 [==============================] - 0s 5ms/step - loss: 3.6534e-08 - accuracy: 1.0000 - val_loss: 1.3454 - val_accuracy: 0.9010\n",
            "Epoch 146/150\n",
            "60/60 [==============================] - 0s 5ms/step - loss: 7.6976e-08 - accuracy: 1.0000 - val_loss: 1.3397 - val_accuracy: 0.9020\n",
            "Epoch 147/150\n",
            "60/60 [==============================] - 0s 5ms/step - loss: 1.2559e-05 - accuracy: 1.0000 - val_loss: 1.3988 - val_accuracy: 0.9010\n",
            "Epoch 148/150\n",
            "60/60 [==============================] - 0s 5ms/step - loss: 1.9064e-05 - accuracy: 1.0000 - val_loss: 1.3395 - val_accuracy: 0.8970\n",
            "Epoch 149/150\n",
            "60/60 [==============================] - 0s 6ms/step - loss: 7.2851e-07 - accuracy: 1.0000 - val_loss: 1.3314 - val_accuracy: 0.9040\n",
            "Epoch 150/150\n",
            "60/60 [==============================] - 0s 5ms/step - loss: 1.1398e-05 - accuracy: 1.0000 - val_loss: 1.3723 - val_accuracy: 0.8930\n"
          ],
          "name": "stdout"
        }
      ]
    },
    {
      "cell_type": "code",
      "metadata": {
        "id": "P0Fk-e8wA3jd",
        "colab": {
          "base_uri": "https://localhost:8080/",
          "height": 308
        },
        "outputId": "b708168b-5e17-4e2b-b867-cbe566d70c0f"
      },
      "source": [
        "f, (ax1, ax2) = plt.subplots(1, 2, figsize=(12, 4))\n",
        "t = f.suptitle('Pre-trained CNN (Transfer Learning) Performance', fontsize=12)\n",
        "f.subplots_adjust(top=0.85, wspace=0.3)\n",
        "\n",
        "epoch_list = list(range(1,151))\n",
        "ax1.plot(epoch_list, history.history['accuracy'], label='Train Accuracy')\n",
        "ax1.plot(epoch_list, history.history['val_accuracy'], label='Validation Accuracy')\n",
        "ax1.set_xticks(np.arange(0, 151, 5))\n",
        "ax1.set_ylabel('Accuracy Value')\n",
        "ax1.set_xlabel('Epoch')\n",
        "ax1.set_title('Accuracy')\n",
        "l1 = ax1.legend(loc=\"best\")\n",
        "\n",
        "ax2.plot(epoch_list, history.history['loss'], label='Train Loss')\n",
        "ax2.plot(epoch_list, history.history['val_loss'], label='Validation Loss')\n",
        "ax2.set_xticks(np.arange(0, 151, 5))\n",
        "ax2.set_ylabel('Loss Value')\n",
        "ax2.set_xlabel('Epoch')\n",
        "ax2.set_title('Loss')\n",
        "l2 = ax2.legend(loc=\"best\")"
      ],
      "execution_count": 17,
      "outputs": [
        {
          "output_type": "display_data",
          "data": {
            "image/png": "[encoded data removed]",
            "text/plain": [
              "<Figure size 864x288 with 2 Axes>"
            ]
          },
          "metadata": {
            "tags": [],
            "needs_background": "light"
          }
        }
      ]
    },
    {
      "cell_type": "code",
      "metadata": {
        "id": "wHLV0XfKA3jd"
      },
      "source": [
        "model.save('4-pretrained_cnn.h5')"
      ],
      "execution_count": 18,
      "outputs": []
    }
  ]
}