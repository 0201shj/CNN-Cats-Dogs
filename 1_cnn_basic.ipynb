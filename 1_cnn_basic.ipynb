{
  "nbformat": 4,
  "nbformat_minor": 0,
  "metadata": {
    "colab": {
      "name": "1-cnn-basic.ipynb",
      "provenance": [],
      "mount_file_id": "1vhFpBuUnL-WSivaiwLZt3uIygC6eQjv9",
      "authorship_tag": "ABX9TyOevwiC44/nGGxe0KRwmwn6",
      "include_colab_link": true
    },
    "kernelspec": {
      "name": "python3",
      "display_name": "Python 3"
    },
    "accelerator": "GPU",
    "widgets": {
      "application/vnd.jupyter.widget-state+json": {
        "07fc459d0a2743c8bdaecf81140134c6": {
          "model_module": "@jupyter-widgets/controls",
          "model_name": "VBoxModel",
          "state": {
            "_view_name": "VBoxView",
            "_dom_classes": [],
            "_model_name": "VBoxModel",
            "_view_module": "@jupyter-widgets/controls",
            "_model_module_version": "1.5.0",
            "_view_count": null,
            "_view_module_version": "1.5.0",
            "box_style": "",
            "layout": "IPY_MODEL_f9004b003bc94388b8c86a0d036d7857",
            "_model_module": "@jupyter-widgets/controls",
            "children": [
              "IPY_MODEL_d6bf7c551d184341acf896fccd816c4a",
              "IPY_MODEL_5969b038a66a4cc592cd2ed460b25b78"
            ]
          }
        },
        "f9004b003bc94388b8c86a0d036d7857": {
          "model_module": "@jupyter-widgets/base",
          "model_name": "LayoutModel",
          "state": {
            "_view_name": "LayoutView",
            "grid_template_rows": null,
            "right": null,
            "justify_content": null,
            "_view_module": "@jupyter-widgets/base",
            "overflow": null,
            "_model_module_version": "1.2.0",
            "_view_count": null,
            "flex_flow": null,
            "width": null,
            "min_width": null,
            "border": null,
            "align_items": null,
            "bottom": null,
            "_model_module": "@jupyter-widgets/base",
            "top": null,
            "grid_column": null,
            "overflow_y": null,
            "overflow_x": null,
            "grid_auto_flow": null,
            "grid_area": null,
            "grid_template_columns": null,
            "flex": null,
            "_model_name": "LayoutModel",
            "justify_items": null,
            "grid_row": null,
            "max_height": null,
            "align_content": null,
            "visibility": null,
            "align_self": null,
            "height": null,
            "min_height": null,
            "padding": null,
            "grid_auto_rows": null,
            "grid_gap": null,
            "max_width": null,
            "order": null,
            "_view_module_version": "1.2.0",
            "grid_template_areas": null,
            "object_position": null,
            "object_fit": null,
            "grid_auto_columns": null,
            "margin": null,
            "display": null,
            "left": null
          }
        },
        "d6bf7c551d184341acf896fccd816c4a": {
          "model_module": "@jupyter-widgets/controls",
          "model_name": "HTMLModel",
          "state": {
            "_view_name": "HTMLView",
            "style": "IPY_MODEL_5a4004c2def64cfb82015c1555411cd1",
            "_dom_classes": [],
            "description": "",
            "_model_name": "HTMLModel",
            "placeholder": "​",
            "_view_module": "@jupyter-widgets/controls",
            "_model_module_version": "1.5.0",
            "value": "Training Images: 3000",
            "_view_count": null,
            "_view_module_version": "1.5.0",
            "description_tooltip": null,
            "_model_module": "@jupyter-widgets/controls",
            "layout": "IPY_MODEL_eeb6d002c39c4179b513e7dce695dcca"
          }
        },
        "5969b038a66a4cc592cd2ed460b25b78": {
          "model_module": "@jupyter-widgets/controls",
          "model_name": "IntProgressModel",
          "state": {
            "_view_name": "ProgressView",
            "style": "IPY_MODEL_a11e4a69a4a4445dbc23bfc6f97a9ccc",
            "_dom_classes": [],
            "description": "",
            "_model_name": "IntProgressModel",
            "bar_style": "success",
            "max": 3000,
            "_view_module": "@jupyter-widgets/controls",
            "_model_module_version": "1.5.0",
            "value": 3000,
            "_view_count": null,
            "_view_module_version": "1.5.0",
            "orientation": "horizontal",
            "min": 0,
            "description_tooltip": null,
            "_model_module": "@jupyter-widgets/controls",
            "layout": "IPY_MODEL_c14504a887284f59a64258fef165fef8"
          }
        },
        "5a4004c2def64cfb82015c1555411cd1": {
          "model_module": "@jupyter-widgets/controls",
          "model_name": "DescriptionStyleModel",
          "state": {
            "_view_name": "StyleView",
            "_model_name": "DescriptionStyleModel",
            "description_width": "",
            "_view_module": "@jupyter-widgets/base",
            "_model_module_version": "1.5.0",
            "_view_count": null,
            "_view_module_version": "1.2.0",
            "_model_module": "@jupyter-widgets/controls"
          }
        },
        "eeb6d002c39c4179b513e7dce695dcca": {
          "model_module": "@jupyter-widgets/base",
          "model_name": "LayoutModel",
          "state": {
            "_view_name": "LayoutView",
            "grid_template_rows": null,
            "right": null,
            "justify_content": null,
            "_view_module": "@jupyter-widgets/base",
            "overflow": null,
            "_model_module_version": "1.2.0",
            "_view_count": null,
            "flex_flow": null,
            "width": null,
            "min_width": null,
            "border": null,
            "align_items": null,
            "bottom": null,
            "_model_module": "@jupyter-widgets/base",
            "top": null,
            "grid_column": null,
            "overflow_y": null,
            "overflow_x": null,
            "grid_auto_flow": null,
            "grid_area": null,
            "grid_template_columns": null,
            "flex": null,
            "_model_name": "LayoutModel",
            "justify_items": null,
            "grid_row": null,
            "max_height": null,
            "align_content": null,
            "visibility": null,
            "align_self": null,
            "height": null,
            "min_height": null,
            "padding": null,
            "grid_auto_rows": null,
            "grid_gap": null,
            "max_width": null,
            "order": null,
            "_view_module_version": "1.2.0",
            "grid_template_areas": null,
            "object_position": null,
            "object_fit": null,
            "grid_auto_columns": null,
            "margin": null,
            "display": null,
            "left": null
          }
        },
        "a11e4a69a4a4445dbc23bfc6f97a9ccc": {
          "model_module": "@jupyter-widgets/controls",
          "model_name": "ProgressStyleModel",
          "state": {
            "_view_name": "StyleView",
            "_model_name": "ProgressStyleModel",
            "description_width": "",
            "_view_module": "@jupyter-widgets/base",
            "_model_module_version": "1.5.0",
            "_view_count": null,
            "_view_module_version": "1.2.0",
            "bar_color": null,
            "_model_module": "@jupyter-widgets/controls"
          }
        },
        "c14504a887284f59a64258fef165fef8": {
          "model_module": "@jupyter-widgets/base",
          "model_name": "LayoutModel",
          "state": {
            "_view_name": "LayoutView",
            "grid_template_rows": null,
            "right": null,
            "justify_content": null,
            "_view_module": "@jupyter-widgets/base",
            "overflow": null,
            "_model_module_version": "1.2.0",
            "_view_count": null,
            "flex_flow": null,
            "width": null,
            "min_width": null,
            "border": null,
            "align_items": null,
            "bottom": null,
            "_model_module": "@jupyter-widgets/base",
            "top": null,
            "grid_column": null,
            "overflow_y": null,
            "overflow_x": null,
            "grid_auto_flow": null,
            "grid_area": null,
            "grid_template_columns": null,
            "flex": null,
            "_model_name": "LayoutModel",
            "justify_items": null,
            "grid_row": null,
            "max_height": null,
            "align_content": null,
            "visibility": null,
            "align_self": null,
            "height": null,
            "min_height": null,
            "padding": null,
            "grid_auto_rows": null,
            "grid_gap": null,
            "max_width": null,
            "order": null,
            "_view_module_version": "1.2.0",
            "grid_template_areas": null,
            "object_position": null,
            "object_fit": null,
            "grid_auto_columns": null,
            "margin": null,
            "display": null,
            "left": null
          }
        },
        "0e6534d0a25c45c9bac8435146d2f8f3": {
          "model_module": "@jupyter-widgets/controls",
          "model_name": "VBoxModel",
          "state": {
            "_view_name": "VBoxView",
            "_dom_classes": [],
            "_model_name": "VBoxModel",
            "_view_module": "@jupyter-widgets/controls",
            "_model_module_version": "1.5.0",
            "_view_count": null,
            "_view_module_version": "1.5.0",
            "box_style": "",
            "layout": "IPY_MODEL_54c6b26d7cdf4b1fb8e7b07bda4535fa",
            "_model_module": "@jupyter-widgets/controls",
            "children": [
              "IPY_MODEL_711422c5a68a4a17bba1e137cae03cec",
              "IPY_MODEL_eacca8ba660b464fac88ff5c8e4c6b08"
            ]
          }
        },
        "54c6b26d7cdf4b1fb8e7b07bda4535fa": {
          "model_module": "@jupyter-widgets/base",
          "model_name": "LayoutModel",
          "state": {
            "_view_name": "LayoutView",
            "grid_template_rows": null,
            "right": null,
            "justify_content": null,
            "_view_module": "@jupyter-widgets/base",
            "overflow": null,
            "_model_module_version": "1.2.0",
            "_view_count": null,
            "flex_flow": null,
            "width": null,
            "min_width": null,
            "border": null,
            "align_items": null,
            "bottom": null,
            "_model_module": "@jupyter-widgets/base",
            "top": null,
            "grid_column": null,
            "overflow_y": null,
            "overflow_x": null,
            "grid_auto_flow": null,
            "grid_area": null,
            "grid_template_columns": null,
            "flex": null,
            "_model_name": "LayoutModel",
            "justify_items": null,
            "grid_row": null,
            "max_height": null,
            "align_content": null,
            "visibility": null,
            "align_self": null,
            "height": null,
            "min_height": null,
            "padding": null,
            "grid_auto_rows": null,
            "grid_gap": null,
            "max_width": null,
            "order": null,
            "_view_module_version": "1.2.0",
            "grid_template_areas": null,
            "object_position": null,
            "object_fit": null,
            "grid_auto_columns": null,
            "margin": null,
            "display": null,
            "left": null
          }
        },
        "711422c5a68a4a17bba1e137cae03cec": {
          "model_module": "@jupyter-widgets/controls",
          "model_name": "HTMLModel",
          "state": {
            "_view_name": "HTMLView",
            "style": "IPY_MODEL_22ccfdd9d3cd4438af47716f2f8af127",
            "_dom_classes": [],
            "description": "",
            "_model_name": "HTMLModel",
            "placeholder": "​",
            "_view_module": "@jupyter-widgets/controls",
            "_model_module_version": "1.5.0",
            "value": "Validation Images: 1000",
            "_view_count": null,
            "_view_module_version": "1.5.0",
            "description_tooltip": null,
            "_model_module": "@jupyter-widgets/controls",
            "layout": "IPY_MODEL_788247b7797d45aeb07f98636c30cf42"
          }
        },
        "eacca8ba660b464fac88ff5c8e4c6b08": {
          "model_module": "@jupyter-widgets/controls",
          "model_name": "IntProgressModel",
          "state": {
            "_view_name": "ProgressView",
            "style": "IPY_MODEL_c1fefe0000f74aa88e89be75629e0396",
            "_dom_classes": [],
            "description": "",
            "_model_name": "IntProgressModel",
            "bar_style": "success",
            "max": 1000,
            "_view_module": "@jupyter-widgets/controls",
            "_model_module_version": "1.5.0",
            "value": 1000,
            "_view_count": null,
            "_view_module_version": "1.5.0",
            "orientation": "horizontal",
            "min": 0,
            "description_tooltip": null,
            "_model_module": "@jupyter-widgets/controls",
            "layout": "IPY_MODEL_5e5e1e78653a4cbd8865dca73031ff67"
          }
        },
        "22ccfdd9d3cd4438af47716f2f8af127": {
          "model_module": "@jupyter-widgets/controls",
          "model_name": "DescriptionStyleModel",
          "state": {
            "_view_name": "StyleView",
            "_model_name": "DescriptionStyleModel",
            "description_width": "",
            "_view_module": "@jupyter-widgets/base",
            "_model_module_version": "1.5.0",
            "_view_count": null,
            "_view_module_version": "1.2.0",
            "_model_module": "@jupyter-widgets/controls"
          }
        },
        "788247b7797d45aeb07f98636c30cf42": {
          "model_module": "@jupyter-widgets/base",
          "model_name": "LayoutModel",
          "state": {
            "_view_name": "LayoutView",
            "grid_template_rows": null,
            "right": null,
            "justify_content": null,
            "_view_module": "@jupyter-widgets/base",
            "overflow": null,
            "_model_module_version": "1.2.0",
            "_view_count": null,
            "flex_flow": null,
            "width": null,
            "min_width": null,
            "border": null,
            "align_items": null,
            "bottom": null,
            "_model_module": "@jupyter-widgets/base",
            "top": null,
            "grid_column": null,
            "overflow_y": null,
            "overflow_x": null,
            "grid_auto_flow": null,
            "grid_area": null,
            "grid_template_columns": null,
            "flex": null,
            "_model_name": "LayoutModel",
            "justify_items": null,
            "grid_row": null,
            "max_height": null,
            "align_content": null,
            "visibility": null,
            "align_self": null,
            "height": null,
            "min_height": null,
            "padding": null,
            "grid_auto_rows": null,
            "grid_gap": null,
            "max_width": null,
            "order": null,
            "_view_module_version": "1.2.0",
            "grid_template_areas": null,
            "object_position": null,
            "object_fit": null,
            "grid_auto_columns": null,
            "margin": null,
            "display": null,
            "left": null
          }
        },
        "c1fefe0000f74aa88e89be75629e0396": {
          "model_module": "@jupyter-widgets/controls",
          "model_name": "ProgressStyleModel",
          "state": {
            "_view_name": "StyleView",
            "_model_name": "ProgressStyleModel",
            "description_width": "",
            "_view_module": "@jupyter-widgets/base",
            "_model_module_version": "1.5.0",
            "_view_count": null,
            "_view_module_version": "1.2.0",
            "bar_color": null,
            "_model_module": "@jupyter-widgets/controls"
          }
        },
        "5e5e1e78653a4cbd8865dca73031ff67": {
          "model_module": "@jupyter-widgets/base",
          "model_name": "LayoutModel",
          "state": {
            "_view_name": "LayoutView",
            "grid_template_rows": null,
            "right": null,
            "justify_content": null,
            "_view_module": "@jupyter-widgets/base",
            "overflow": null,
            "_model_module_version": "1.2.0",
            "_view_count": null,
            "flex_flow": null,
            "width": null,
            "min_width": null,
            "border": null,
            "align_items": null,
            "bottom": null,
            "_model_module": "@jupyter-widgets/base",
            "top": null,
            "grid_column": null,
            "overflow_y": null,
            "overflow_x": null,
            "grid_auto_flow": null,
            "grid_area": null,
            "grid_template_columns": null,
            "flex": null,
            "_model_name": "LayoutModel",
            "justify_items": null,
            "grid_row": null,
            "max_height": null,
            "align_content": null,
            "visibility": null,
            "align_self": null,
            "height": null,
            "min_height": null,
            "padding": null,
            "grid_auto_rows": null,
            "grid_gap": null,
            "max_width": null,
            "order": null,
            "_view_module_version": "1.2.0",
            "grid_template_areas": null,
            "object_position": null,
            "object_fit": null,
            "grid_auto_columns": null,
            "margin": null,
            "display": null,
            "left": null
          }
        },
        "74883b02f1a749cc80bbdd3a22ecbe0d": {
          "model_module": "@jupyter-widgets/controls",
          "model_name": "VBoxModel",
          "state": {
            "_view_name": "VBoxView",
            "_dom_classes": [],
            "_model_name": "VBoxModel",
            "_view_module": "@jupyter-widgets/controls",
            "_model_module_version": "1.5.0",
            "_view_count": null,
            "_view_module_version": "1.5.0",
            "box_style": "",
            "layout": "IPY_MODEL_9a91a580902b4dfcb66a30bf4783a7d0",
            "_model_module": "@jupyter-widgets/controls",
            "children": [
              "IPY_MODEL_770202d617b549ab9fba019c5b76fb75",
              "IPY_MODEL_6dd21f3b2ed64af1a70258e6313f9446"
            ]
          }
        },
        "9a91a580902b4dfcb66a30bf4783a7d0": {
          "model_module": "@jupyter-widgets/base",
          "model_name": "LayoutModel",
          "state": {
            "_view_name": "LayoutView",
            "grid_template_rows": null,
            "right": null,
            "justify_content": null,
            "_view_module": "@jupyter-widgets/base",
            "overflow": null,
            "_model_module_version": "1.2.0",
            "_view_count": null,
            "flex_flow": null,
            "width": null,
            "min_width": null,
            "border": null,
            "align_items": null,
            "bottom": null,
            "_model_module": "@jupyter-widgets/base",
            "top": null,
            "grid_column": null,
            "overflow_y": null,
            "overflow_x": null,
            "grid_auto_flow": null,
            "grid_area": null,
            "grid_template_columns": null,
            "flex": null,
            "_model_name": "LayoutModel",
            "justify_items": null,
            "grid_row": null,
            "max_height": null,
            "align_content": null,
            "visibility": null,
            "align_self": null,
            "height": null,
            "min_height": null,
            "padding": null,
            "grid_auto_rows": null,
            "grid_gap": null,
            "max_width": null,
            "order": null,
            "_view_module_version": "1.2.0",
            "grid_template_areas": null,
            "object_position": null,
            "object_fit": null,
            "grid_auto_columns": null,
            "margin": null,
            "display": null,
            "left": null
          }
        },
        "770202d617b549ab9fba019c5b76fb75": {
          "model_module": "@jupyter-widgets/controls",
          "model_name": "HTMLModel",
          "state": {
            "_view_name": "HTMLView",
            "style": "IPY_MODEL_f15998d515ee4d25869bec4515e4bbd9",
            "_dom_classes": [],
            "description": "",
            "_model_name": "HTMLModel",
            "placeholder": "​",
            "_view_module": "@jupyter-widgets/controls",
            "_model_module_version": "1.5.0",
            "value": "Test Images: 1000",
            "_view_count": null,
            "_view_module_version": "1.5.0",
            "description_tooltip": null,
            "_model_module": "@jupyter-widgets/controls",
            "layout": "IPY_MODEL_588f6d40402642fdb8f16c74c479917b"
          }
        },
        "6dd21f3b2ed64af1a70258e6313f9446": {
          "model_module": "@jupyter-widgets/controls",
          "model_name": "IntProgressModel",
          "state": {
            "_view_name": "ProgressView",
            "style": "IPY_MODEL_36d9edcd3dae421abee2771782b264c8",
            "_dom_classes": [],
            "description": "",
            "_model_name": "IntProgressModel",
            "bar_style": "success",
            "max": 1000,
            "_view_module": "@jupyter-widgets/controls",
            "_model_module_version": "1.5.0",
            "value": 1000,
            "_view_count": null,
            "_view_module_version": "1.5.0",
            "orientation": "horizontal",
            "min": 0,
            "description_tooltip": null,
            "_model_module": "@jupyter-widgets/controls",
            "layout": "IPY_MODEL_2bcc904392054e389eb57333339b7984"
          }
        },
        "f15998d515ee4d25869bec4515e4bbd9": {
          "model_module": "@jupyter-widgets/controls",
          "model_name": "DescriptionStyleModel",
          "state": {
            "_view_name": "StyleView",
            "_model_name": "DescriptionStyleModel",
            "description_width": "",
            "_view_module": "@jupyter-widgets/base",
            "_model_module_version": "1.5.0",
            "_view_count": null,
            "_view_module_version": "1.2.0",
            "_model_module": "@jupyter-widgets/controls"
          }
        },
        "588f6d40402642fdb8f16c74c479917b": {
          "model_module": "@jupyter-widgets/base",
          "model_name": "LayoutModel",
          "state": {
            "_view_name": "LayoutView",
            "grid_template_rows": null,
            "right": null,
            "justify_content": null,
            "_view_module": "@jupyter-widgets/base",
            "overflow": null,
            "_model_module_version": "1.2.0",
            "_view_count": null,
            "flex_flow": null,
            "width": null,
            "min_width": null,
            "border": null,
            "align_items": null,
            "bottom": null,
            "_model_module": "@jupyter-widgets/base",
            "top": null,
            "grid_column": null,
            "overflow_y": null,
            "overflow_x": null,
            "grid_auto_flow": null,
            "grid_area": null,
            "grid_template_columns": null,
            "flex": null,
            "_model_name": "LayoutModel",
            "justify_items": null,
            "grid_row": null,
            "max_height": null,
            "align_content": null,
            "visibility": null,
            "align_self": null,
            "height": null,
            "min_height": null,
            "padding": null,
            "grid_auto_rows": null,
            "grid_gap": null,
            "max_width": null,
            "order": null,
            "_view_module_version": "1.2.0",
            "grid_template_areas": null,
            "object_position": null,
            "object_fit": null,
            "grid_auto_columns": null,
            "margin": null,
            "display": null,
            "left": null
          }
        },
        "36d9edcd3dae421abee2771782b264c8": {
          "model_module": "@jupyter-widgets/controls",
          "model_name": "ProgressStyleModel",
          "state": {
            "_view_name": "StyleView",
            "_model_name": "ProgressStyleModel",
            "description_width": "",
            "_view_module": "@jupyter-widgets/base",
            "_model_module_version": "1.5.0",
            "_view_count": null,
            "_view_module_version": "1.2.0",
            "bar_color": null,
            "_model_module": "@jupyter-widgets/controls"
          }
        },
        "2bcc904392054e389eb57333339b7984": {
          "model_module": "@jupyter-widgets/base",
          "model_name": "LayoutModel",
          "state": {
            "_view_name": "LayoutView",
            "grid_template_rows": null,
            "right": null,
            "justify_content": null,
            "_view_module": "@jupyter-widgets/base",
            "overflow": null,
            "_model_module_version": "1.2.0",
            "_view_count": null,
            "flex_flow": null,
            "width": null,
            "min_width": null,
            "border": null,
            "align_items": null,
            "bottom": null,
            "_model_module": "@jupyter-widgets/base",
            "top": null,
            "grid_column": null,
            "overflow_y": null,
            "overflow_x": null,
            "grid_auto_flow": null,
            "grid_area": null,
            "grid_template_columns": null,
            "flex": null,
            "_model_name": "LayoutModel",
            "justify_items": null,
            "grid_row": null,
            "max_height": null,
            "align_content": null,
            "visibility": null,
            "align_self": null,
            "height": null,
            "min_height": null,
            "padding": null,
            "grid_auto_rows": null,
            "grid_gap": null,
            "max_width": null,
            "order": null,
            "_view_module_version": "1.2.0",
            "grid_template_areas": null,
            "object_position": null,
            "object_fit": null,
            "grid_auto_columns": null,
            "margin": null,
            "display": null,
            "left": null
          }
        }
      }
    }
  },
  "cells": [
    {
      "cell_type": "markdown",
      "metadata": {
        "id": "view-in-github",
        "colab_type": "text"
      },
      "source": [
        "<a href=\"https://colab.research.google.com/github/0201shj/CNN-Cats-Dogs/blob/main/1_cnn_basic.ipynb\" target=\"_parent\"><img src=\"https://colab.research.google.com/assets/colab-badge.svg\" alt=\"Open In Colab\"/></a>"
      ]
    },
    {
      "cell_type": "markdown",
      "metadata": {
        "id": "iJ2wI0yN4hZM"
      },
      "source": [
        "# Dataset-CNN"
      ]
    },
    {
      "cell_type": "code",
      "metadata": {
        "id": "Dt4RcRNL1Vzl"
      },
      "source": [
        "!unzip dogs_cats.zip"
      ],
      "execution_count": null,
      "outputs": []
    },
    {
      "cell_type": "code",
      "metadata": {
        "colab": {
          "base_uri": "https://localhost:8080/",
          "height": 35
        },
        "id": "tFfDSmsI1lnA",
        "outputId": "df4a397e-bb17-4efc-ab7e-8f1d73081e2e"
      },
      "source": [
        "import keras\r\n",
        "keras.__version__"
      ],
      "execution_count": 2,
      "outputs": [
        {
          "output_type": "execute_result",
          "data": {
            "application/vnd.google.colaboratory.intrinsic+json": {
              "type": "string"
            },
            "text/plain": [
              "'2.4.3'"
            ]
          },
          "metadata": {
            "tags": []
          },
          "execution_count": 2
        }
      ]
    },
    {
      "cell_type": "code",
      "metadata": {
        "id": "uKOybkFG1lrN"
      },
      "source": [
        "import glob\r\n",
        "import numpy as np\r\n",
        "import os\r\n",
        "import shutil\r\n",
        "#from utils import log_progress\r\n",
        "\r\n",
        "np.random.seed(42)"
      ],
      "execution_count": 3,
      "outputs": []
    },
    {
      "cell_type": "code",
      "metadata": {
        "id": "ePABZCkw1opY"
      },
      "source": [
        "def log_progress(sequence, every=None, size=None, name='Items'):\r\n",
        "    from ipywidgets import IntProgress, HTML, VBox\r\n",
        "    from IPython.display import display\r\n",
        "\r\n",
        "    is_iterator = False\r\n",
        "    if size is None:\r\n",
        "        try:\r\n",
        "            size = len(sequence)\r\n",
        "        except TypeError:\r\n",
        "            is_iterator = True\r\n",
        "    if size is not None:\r\n",
        "        if every is None:\r\n",
        "            if size <= 200:\r\n",
        "                every = 1\r\n",
        "            else:\r\n",
        "                every = int(size / 200)     # every 0.5%\r\n",
        "    else:\r\n",
        "        assert every is not None, 'sequence is iterator, set every'\r\n",
        "\r\n",
        "    if is_iterator:\r\n",
        "        progress = IntProgress(min=0, max=1, value=1)\r\n",
        "        progress.bar_style = 'info'\r\n",
        "    else:\r\n",
        "        progress = IntProgress(min=0, max=size, value=0)\r\n",
        "    label = HTML()\r\n",
        "    box = VBox(children=[label, progress])\r\n",
        "    display(box)\r\n",
        "\r\n",
        "    index = 0\r\n",
        "    try:\r\n",
        "        for index, record in enumerate(sequence, 1):\r\n",
        "            if index == 1 or index % every == 0:\r\n",
        "                if is_iterator:\r\n",
        "                    label.value = '{name}: {index} / ?'.format(\r\n",
        "                        name=name,\r\n",
        "                        index=index\r\n",
        "                    )\r\n",
        "                else:\r\n",
        "                    progress.value = index\r\n",
        "                    label.value = u'{name}: {index} / {size}'.format(\r\n",
        "                        name=name,\r\n",
        "                        index=index,\r\n",
        "                        size=size\r\n",
        "                    )\r\n",
        "            yield record\r\n",
        "    except:\r\n",
        "        progress.bar_style = 'danger'\r\n",
        "        raise\r\n",
        "    else:\r\n",
        "        progress.bar_style = 'success'\r\n",
        "        progress.value = index\r\n",
        "        label.value = \"{name}: {index}\".format(\r\n",
        "            name=name,\r\n",
        "            index=str(index or '?')\r\n",
        "        )"
      ],
      "execution_count": 4,
      "outputs": []
    },
    {
      "cell_type": "code",
      "metadata": {
        "colab": {
          "base_uri": "https://localhost:8080/"
        },
        "id": "Xs3dJutN1pH-",
        "outputId": "20e96780-54c0-4f8c-b2d2-67c89211634b"
      },
      "source": [
        "files = glob.glob('train/*')\r\n",
        "\r\n",
        "cat_files = [fn for fn in files if 'cat' in fn]\r\n",
        "dog_files = [fn for fn in files if 'dog' in fn]\r\n",
        "len(cat_files), len(dog_files)"
      ],
      "execution_count": 5,
      "outputs": [
        {
          "output_type": "execute_result",
          "data": {
            "text/plain": [
              "(12500, 12514)"
            ]
          },
          "metadata": {
            "tags": []
          },
          "execution_count": 5
        }
      ]
    },
    {
      "cell_type": "code",
      "metadata": {
        "colab": {
          "base_uri": "https://localhost:8080/"
        },
        "id": "wzCBY16Q1pdJ",
        "outputId": "f97b9393-3d3d-4a4e-a50c-88a3d7a31833"
      },
      "source": [
        "cat_train = np.random.choice(cat_files, size=1500, replace=False)\r\n",
        "dog_train = np.random.choice(dog_files, size=1500, replace=False)\r\n",
        "cat_files = list(set(cat_files) - set(cat_train))\r\n",
        "dog_files = list(set(dog_files) - set(dog_train))\r\n",
        "\r\n",
        "cat_val = np.random.choice(cat_files, size=500, replace=False)\r\n",
        "dog_val = np.random.choice(dog_files, size=500, replace=False)\r\n",
        "cat_files = list(set(cat_files) - set(cat_val))\r\n",
        "dog_files = list(set(dog_files) - set(dog_val))\r\n",
        "\r\n",
        "cat_test = np.random.choice(cat_files, size=500, replace=False)\r\n",
        "dog_test = np.random.choice(dog_files, size=500, replace=False)\r\n",
        "\r\n",
        "print('Cat datasets:', cat_train.shape, cat_val.shape, cat_test.shape)\r\n",
        "print('Dog datasets:', dog_train.shape, dog_val.shape, dog_test.shape)"
      ],
      "execution_count": 6,
      "outputs": [
        {
          "output_type": "stream",
          "text": [
            "Cat datasets: (1500,) (500,) (500,)\n",
            "Dog datasets: (1500,) (500,) (500,)\n"
          ],
          "name": "stdout"
        }
      ]
    },
    {
      "cell_type": "code",
      "metadata": {
        "colab": {
          "base_uri": "https://localhost:8080/",
          "height": 209,
          "referenced_widgets": [
            "07fc459d0a2743c8bdaecf81140134c6",
            "f9004b003bc94388b8c86a0d036d7857",
            "d6bf7c551d184341acf896fccd816c4a",
            "5969b038a66a4cc592cd2ed460b25b78",
            "5a4004c2def64cfb82015c1555411cd1",
            "eeb6d002c39c4179b513e7dce695dcca",
            "a11e4a69a4a4445dbc23bfc6f97a9ccc",
            "c14504a887284f59a64258fef165fef8",
            "0e6534d0a25c45c9bac8435146d2f8f3",
            "54c6b26d7cdf4b1fb8e7b07bda4535fa",
            "711422c5a68a4a17bba1e137cae03cec",
            "eacca8ba660b464fac88ff5c8e4c6b08",
            "22ccfdd9d3cd4438af47716f2f8af127",
            "788247b7797d45aeb07f98636c30cf42",
            "c1fefe0000f74aa88e89be75629e0396",
            "5e5e1e78653a4cbd8865dca73031ff67",
            "74883b02f1a749cc80bbdd3a22ecbe0d",
            "9a91a580902b4dfcb66a30bf4783a7d0",
            "770202d617b549ab9fba019c5b76fb75",
            "6dd21f3b2ed64af1a70258e6313f9446",
            "f15998d515ee4d25869bec4515e4bbd9",
            "588f6d40402642fdb8f16c74c479917b",
            "36d9edcd3dae421abee2771782b264c8",
            "2bcc904392054e389eb57333339b7984"
          ]
        },
        "id": "qeRCUe2U1xAI",
        "outputId": "fdd84493-f359-43d0-ad1c-6e21a376554e"
      },
      "source": [
        "train_dir = 'training_data'\r\n",
        "val_dir = 'validation_data'\r\n",
        "test_dir = 'test_data'\r\n",
        "\r\n",
        "train_files = np.concatenate([cat_train, dog_train])\r\n",
        "validate_files = np.concatenate([cat_val, dog_val])\r\n",
        "test_files = np.concatenate([cat_test, dog_test])\r\n",
        "\r\n",
        "os.mkdir(train_dir) if not os.path.isdir(train_dir) else None\r\n",
        "os.mkdir(val_dir) if not os.path.isdir(val_dir) else None\r\n",
        "os.mkdir(test_dir) if not os.path.isdir(test_dir) else None\r\n",
        "\r\n",
        "for fn in log_progress(train_files, name='Training Images'):\r\n",
        "    shutil.copy(fn, train_dir)\r\n",
        "\r\n",
        "for fn in log_progress(validate_files, name='Validation Images'):\r\n",
        "    shutil.copy(fn, val_dir)\r\n",
        "    \r\n",
        "for fn in log_progress(test_files, name='Test Images'):\r\n",
        "    shutil.copy(fn, test_dir)"
      ],
      "execution_count": 7,
      "outputs": [
        {
          "output_type": "display_data",
          "data": {
            "application/vnd.jupyter.widget-view+json": {
              "model_id": "07fc459d0a2743c8bdaecf81140134c6",
              "version_minor": 0,
              "version_major": 2
            },
            "text/plain": [
              "VBox(children=(HTML(value=''), IntProgress(value=0, max=3000)))"
            ]
          },
          "metadata": {
            "tags": []
          }
        },
        {
          "output_type": "display_data",
          "data": {
            "application/vnd.jupyter.widget-view+json": {
              "model_id": "0e6534d0a25c45c9bac8435146d2f8f3",
              "version_minor": 0,
              "version_major": 2
            },
            "text/plain": [
              "VBox(children=(HTML(value=''), IntProgress(value=0, max=1000)))"
            ]
          },
          "metadata": {
            "tags": []
          }
        },
        {
          "output_type": "display_data",
          "data": {
            "application/vnd.jupyter.widget-view+json": {
              "model_id": "74883b02f1a749cc80bbdd3a22ecbe0d",
              "version_minor": 0,
              "version_major": 2
            },
            "text/plain": [
              "VBox(children=(HTML(value=''), IntProgress(value=0, max=1000)))"
            ]
          },
          "metadata": {
            "tags": []
          }
        }
      ]
    },
    {
      "cell_type": "markdown",
      "metadata": {
        "id": "ib9yFP074d3u"
      },
      "source": [
        "# Basic CNN"
      ]
    },
    {
      "cell_type": "code",
      "metadata": {
        "id": "b8ZEzQ3p4V-E"
      },
      "source": [
        "%matplotlib inline"
      ],
      "execution_count": 8,
      "outputs": []
    },
    {
      "cell_type": "code",
      "metadata": {
        "id": "-jDbOXeP4RI2"
      },
      "source": [
        "import glob\r\n",
        "import numpy as np\r\n",
        "import matplotlib.pyplot as plt\r\n",
        "from tensorflow.keras.preprocessing.image import ImageDataGenerator, load_img, img_to_array, array_to_img"
      ],
      "execution_count": 9,
      "outputs": []
    },
    {
      "cell_type": "code",
      "metadata": {
        "colab": {
          "base_uri": "https://localhost:8080/"
        },
        "id": "3t1SVkPq4Rue",
        "outputId": "92f2bf7a-3ce0-4659-a561-8aa9aa677a36"
      },
      "source": [
        "IMG_DIM = (150, 150)\r\n",
        "\r\n",
        "train_files = glob.glob('training_data/*')\r\n",
        "train_imgs = [img_to_array(load_img(img, target_size=IMG_DIM)) for img in train_files]\r\n",
        "train_imgs = np.array(train_imgs)\r\n",
        "train_labels = [fn.split('/')[1].split('.')[0].strip() for fn in train_files]\r\n",
        "\r\n",
        "validation_files = glob.glob('validation_data/*')\r\n",
        "validation_imgs = [img_to_array(load_img(img, target_size=IMG_DIM)) for img in validation_files]\r\n",
        "validation_imgs = np.array(validation_imgs)\r\n",
        "validation_labels = [fn.split('/')[1].split('.')[0].strip() for fn in validation_files]\r\n",
        "\r\n",
        "print('Train dataset shape:', train_imgs.shape, \r\n",
        "      '\\tValidation dataset shape:', validation_imgs.shape)"
      ],
      "execution_count": 10,
      "outputs": [
        {
          "output_type": "stream",
          "text": [
            "Train dataset shape: (3000, 150, 150, 3) \tValidation dataset shape: (1000, 150, 150, 3)\n"
          ],
          "name": "stdout"
        }
      ]
    },
    {
      "cell_type": "code",
      "metadata": {
        "id": "L6265ucV4Y2N"
      },
      "source": [
        "train_imgs_scaled = train_imgs.astype('float32')\r\n",
        "validation_imgs_scaled  = validation_imgs.astype('float32')\r\n",
        "train_imgs_scaled /= 255\r\n",
        "validation_imgs_scaled /= 255"
      ],
      "execution_count": 11,
      "outputs": []
    },
    {
      "cell_type": "code",
      "metadata": {
        "colab": {
          "base_uri": "https://localhost:8080/",
          "height": 185
        },
        "id": "LohoQuKv4xWp",
        "outputId": "a13f7943-8dba-48af-946a-118c634bf5b4"
      },
      "source": [
        "print(train_imgs[99].shape)\r\n",
        "array_to_img(train_imgs[99])"
      ],
      "execution_count": 12,
      "outputs": [
        {
          "output_type": "stream",
          "text": [
            "(150, 150, 3)\n"
          ],
          "name": "stdout"
        },
        {
          "output_type": "execute_result",
          "data": {
            "image/png": "[encoded data removed]",
            "text/plain": [
              "<PIL.Image.Image image mode=RGB size=150x150 at 0x7F667C2CDB70>"
            ]
          },
          "metadata": {
            "tags": []
          },
          "execution_count": 12
        }
      ]
    },
    {
      "cell_type": "code",
      "metadata": {
        "colab": {
          "base_uri": "https://localhost:8080/"
        },
        "id": "tkF84EQ843n2",
        "outputId": "dc5d9302-3ae1-46d4-8163-a61cb94642fd"
      },
      "source": [
        "batch_size = 50\r\n",
        "num_classes = 2\r\n",
        "epochs = 150\r\n",
        "input_shape = (150, 150, 3)\r\n",
        "\r\n",
        "# encode text category labels\r\n",
        "from sklearn.preprocessing import LabelEncoder\r\n",
        "\r\n",
        "le = LabelEncoder()\r\n",
        "le.fit(train_labels)\r\n",
        "train_labels_enc = le.transform(train_labels)\r\n",
        "validation_labels_enc = le.transform(validation_labels)\r\n",
        "\r\n",
        "print(train_labels[1495:1505], train_labels_enc[1495:1505])"
      ],
      "execution_count": 13,
      "outputs": [
        {
          "output_type": "stream",
          "text": [
            "['dog', 'dog', 'cat', 'cat', 'dog', 'dog', 'cat', 'dog', 'dog', 'dog'] [1 1 0 0 1 1 0 1 1 1]\n"
          ],
          "name": "stdout"
        }
      ]
    },
    {
      "cell_type": "code",
      "metadata": {
        "id": "6yCHRKM548Ix"
      },
      "source": [
        "from tensorflow.keras.layers import Conv2D, MaxPooling2D, Flatten, Dense, Dropout\r\n",
        "from tensorflow.keras.models import Sequential\r\n",
        "from tensorflow.keras import optimizers"
      ],
      "execution_count": 14,
      "outputs": []
    },
    {
      "cell_type": "code",
      "metadata": {
        "id": "i_paGZr_48ab"
      },
      "source": [
        "model = Sequential()\r\n",
        "\r\n",
        "model.add(Conv2D(16, kernel_size=(3, 3), activation='relu', padding='same',\r\n",
        "                 input_shape=input_shape))\r\n",
        "model.add(MaxPooling2D(pool_size=(2, 2)))\r\n",
        "\r\n",
        "model.add(Conv2D(64, kernel_size=(3, 3), activation='relu', padding='same'))\r\n",
        "model.add(MaxPooling2D(pool_size=(2, 2)))\r\n",
        "\r\n",
        "model.add(Conv2D(128, kernel_size=(3, 3), activation='relu', padding='same'))\r\n",
        "model.add(MaxPooling2D(pool_size=(2, 2)))"
      ],
      "execution_count": 15,
      "outputs": []
    },
    {
      "cell_type": "code",
      "metadata": {
        "id": "VMLQU11I6CcP"
      },
      "source": [
        "model.add(Flatten())\r\n",
        "model.add(Dense(512, activation='relu'))\r\n",
        "model.add(Dense(1, activation='sigmoid'))"
      ],
      "execution_count": 16,
      "outputs": []
    },
    {
      "cell_type": "code",
      "metadata": {
        "id": "lLf5tcnK6ic8"
      },
      "source": [
        "model.compile(loss='binary_crossentropy',\r\n",
        "              optimizer=optimizers.RMSprop(),\r\n",
        "              metrics=['accuracy'])"
      ],
      "execution_count": 17,
      "outputs": []
    },
    {
      "cell_type": "code",
      "metadata": {
        "colab": {
          "base_uri": "https://localhost:8080/"
        },
        "id": "WuhhMTPs774y",
        "outputId": "3335748e-483a-424a-b784-27d2202a1af5"
      },
      "source": [
        "model.summary()"
      ],
      "execution_count": 18,
      "outputs": [
        {
          "output_type": "stream",
          "text": [
            "Model: \"sequential\"\n",
            "_________________________________________________________________\n",
            "Layer (type)                 Output Shape              Param #   \n",
            "=================================================================\n",
            "conv2d (Conv2D)              (None, 150, 150, 16)      448       \n",
            "_________________________________________________________________\n",
            "max_pooling2d (MaxPooling2D) (None, 75, 75, 16)        0         \n",
            "_________________________________________________________________\n",
            "conv2d_1 (Conv2D)            (None, 75, 75, 64)        9280      \n",
            "_________________________________________________________________\n",
            "max_pooling2d_1 (MaxPooling2 (None, 37, 37, 64)        0         \n",
            "_________________________________________________________________\n",
            "conv2d_2 (Conv2D)            (None, 37, 37, 128)       73856     \n",
            "_________________________________________________________________\n",
            "max_pooling2d_2 (MaxPooling2 (None, 18, 18, 128)       0         \n",
            "_________________________________________________________________\n",
            "flatten (Flatten)            (None, 41472)             0         \n",
            "_________________________________________________________________\n",
            "dense (Dense)                (None, 512)               21234176  \n",
            "_________________________________________________________________\n",
            "dense_1 (Dense)              (None, 1)                 513       \n",
            "=================================================================\n",
            "Total params: 21,318,273\n",
            "Trainable params: 21,318,273\n",
            "Non-trainable params: 0\n",
            "_________________________________________________________________\n"
          ],
          "name": "stdout"
        }
      ]
    },
    {
      "cell_type": "code",
      "metadata": {
        "colab": {
          "base_uri": "https://localhost:8080/",
          "height": 1000
        },
        "id": "KYFOxEcm5J-3",
        "outputId": "bddab5d4-b6c6-4a4d-9a57-24995b77cc5f"
      },
      "source": [
        "from IPython.display import SVG\r\n",
        "from tensorflow.python.keras.utils.vis_utils import model_to_dot\r\n",
        "\r\n",
        "SVG(model_to_dot(model, show_shapes=True, \r\n",
        "                 show_layer_names=True, rankdir='TB', dpi=69).create(prog='dot', format='svg'))"
      ],
      "execution_count": 19,
      "outputs": [
        {
          "output_type": "execute_result",
          "data": {
            "text/plain": [
              "<IPython.core.display.SVG object>"
            ],
            "image/svg+xml": "<svg height=\"769pt\" viewBox=\"0.00 0.00 419.00 802.00\" width=\"402pt\" xmlns=\"http://www.w3.org/2000/svg\" xmlns:xlink=\"http://www.w3.org/1999/xlink\">\n<g class=\"graph\" id=\"graph0\" transform=\"scale(.9583 .9583) rotate(0) translate(4 798)\">\n<title>G</title>\n<polygon fill=\"#ffffff\" points=\"-4,4 -4,-798 415,-798 415,4 -4,4\" stroke=\"transparent\"/>\n<!-- 140077051225424 -->\n<g class=\"node\" id=\"node1\">\n<title>140077051225424</title>\n<polygon fill=\"none\" points=\"21.5,-747.5 21.5,-793.5 389.5,-793.5 389.5,-747.5 21.5,-747.5\" stroke=\"#000000\"/>\n<text fill=\"#000000\" font-family=\"Times,serif\" font-size=\"14.00\" text-anchor=\"middle\" x=\"106\" y=\"-766.8\">conv2d_input: InputLayer</text>\n<polyline fill=\"none\" points=\"190.5,-747.5 190.5,-793.5 \" stroke=\"#000000\"/>\n<text fill=\"#000000\" font-family=\"Times,serif\" font-size=\"14.00\" text-anchor=\"middle\" x=\"219.5\" y=\"-778.3\">input:</text>\n<polyline fill=\"none\" points=\"190.5,-770.5 248.5,-770.5 \" stroke=\"#000000\"/>\n<text fill=\"#000000\" font-family=\"Times,serif\" font-size=\"14.00\" text-anchor=\"middle\" x=\"219.5\" y=\"-755.3\">output:</text>\n<polyline fill=\"none\" points=\"248.5,-747.5 248.5,-793.5 \" stroke=\"#000000\"/>\n<text fill=\"#000000\" font-family=\"Times,serif\" font-size=\"14.00\" text-anchor=\"middle\" x=\"319\" y=\"-778.3\">[(None, 150, 150, 3)]</text>\n<polyline fill=\"none\" points=\"248.5,-770.5 389.5,-770.5 \" stroke=\"#000000\"/>\n<text fill=\"#000000\" font-family=\"Times,serif\" font-size=\"14.00\" text-anchor=\"middle\" x=\"319\" y=\"-755.3\">[(None, 150, 150, 3)]</text>\n</g>\n<!-- 140078162659480 -->\n<g class=\"node\" id=\"node2\">\n<title>140078162659480</title>\n<polygon fill=\"none\" points=\"47.5,-664.5 47.5,-710.5 363.5,-710.5 363.5,-664.5 47.5,-664.5\" stroke=\"#000000\"/>\n<text fill=\"#000000\" font-family=\"Times,serif\" font-size=\"14.00\" text-anchor=\"middle\" x=\"106.5\" y=\"-683.8\">conv2d: Conv2D</text>\n<polyline fill=\"none\" points=\"165.5,-664.5 165.5,-710.5 \" stroke=\"#000000\"/>\n<text fill=\"#000000\" font-family=\"Times,serif\" font-size=\"14.00\" text-anchor=\"middle\" x=\"194.5\" y=\"-695.3\">input:</text>\n<polyline fill=\"none\" points=\"165.5,-687.5 223.5,-687.5 \" stroke=\"#000000\"/>\n<text fill=\"#000000\" font-family=\"Times,serif\" font-size=\"14.00\" text-anchor=\"middle\" x=\"194.5\" y=\"-672.3\">output:</text>\n<polyline fill=\"none\" points=\"223.5,-664.5 223.5,-710.5 \" stroke=\"#000000\"/>\n<text fill=\"#000000\" font-family=\"Times,serif\" font-size=\"14.00\" text-anchor=\"middle\" x=\"293.5\" y=\"-695.3\">(None, 150, 150, 3)</text>\n<polyline fill=\"none\" points=\"223.5,-687.5 363.5,-687.5 \" stroke=\"#000000\"/>\n<text fill=\"#000000\" font-family=\"Times,serif\" font-size=\"14.00\" text-anchor=\"middle\" x=\"293.5\" y=\"-672.3\">(None, 150, 150, 16)</text>\n</g>\n<!-- 140077051225424&#45;&gt;140078162659480 -->\n<g class=\"edge\" id=\"edge1\">\n<title>140077051225424-&gt;140078162659480</title>\n<path d=\"M205.5,-747.3799C205.5,-739.1745 205.5,-729.7679 205.5,-720.8786\" fill=\"none\" stroke=\"#000000\"/>\n<polygon fill=\"#000000\" points=\"209.0001,-720.784 205.5,-710.784 202.0001,-720.784 209.0001,-720.784\" stroke=\"#000000\"/>\n</g>\n<!-- 140077051228112 -->\n<g class=\"node\" id=\"node3\">\n<title>140077051228112</title>\n<polygon fill=\"none\" points=\"3.5,-581.5 3.5,-627.5 407.5,-627.5 407.5,-581.5 3.5,-581.5\" stroke=\"#000000\"/>\n<text fill=\"#000000\" font-family=\"Times,serif\" font-size=\"14.00\" text-anchor=\"middle\" x=\"106.5\" y=\"-600.8\">max_pooling2d: MaxPooling2D</text>\n<polyline fill=\"none\" points=\"209.5,-581.5 209.5,-627.5 \" stroke=\"#000000\"/>\n<text fill=\"#000000\" font-family=\"Times,serif\" font-size=\"14.00\" text-anchor=\"middle\" x=\"238.5\" y=\"-612.3\">input:</text>\n<polyline fill=\"none\" points=\"209.5,-604.5 267.5,-604.5 \" stroke=\"#000000\"/>\n<text fill=\"#000000\" font-family=\"Times,serif\" font-size=\"14.00\" text-anchor=\"middle\" x=\"238.5\" y=\"-589.3\">output:</text>\n<polyline fill=\"none\" points=\"267.5,-581.5 267.5,-627.5 \" stroke=\"#000000\"/>\n<text fill=\"#000000\" font-family=\"Times,serif\" font-size=\"14.00\" text-anchor=\"middle\" x=\"337.5\" y=\"-612.3\">(None, 150, 150, 16)</text>\n<polyline fill=\"none\" points=\"267.5,-604.5 407.5,-604.5 \" stroke=\"#000000\"/>\n<text fill=\"#000000\" font-family=\"Times,serif\" font-size=\"14.00\" text-anchor=\"middle\" x=\"337.5\" y=\"-589.3\">(None, 75, 75, 16)</text>\n</g>\n<!-- 140078162659480&#45;&gt;140077051228112 -->\n<g class=\"edge\" id=\"edge2\">\n<title>140078162659480-&gt;140077051228112</title>\n<path d=\"M205.5,-664.3799C205.5,-656.1745 205.5,-646.7679 205.5,-637.8786\" fill=\"none\" stroke=\"#000000\"/>\n<polygon fill=\"#000000\" points=\"209.0001,-637.784 205.5,-627.784 202.0001,-637.784 209.0001,-637.784\" stroke=\"#000000\"/>\n</g>\n<!-- 140076869779128 -->\n<g class=\"node\" id=\"node4\">\n<title>140076869779128</title>\n<polygon fill=\"none\" points=\"47.5,-498.5 47.5,-544.5 363.5,-544.5 363.5,-498.5 47.5,-498.5\" stroke=\"#000000\"/>\n<text fill=\"#000000\" font-family=\"Times,serif\" font-size=\"14.00\" text-anchor=\"middle\" x=\"114\" y=\"-517.8\">conv2d_1: Conv2D</text>\n<polyline fill=\"none\" points=\"180.5,-498.5 180.5,-544.5 \" stroke=\"#000000\"/>\n<text fill=\"#000000\" font-family=\"Times,serif\" font-size=\"14.00\" text-anchor=\"middle\" x=\"209.5\" y=\"-529.3\">input:</text>\n<polyline fill=\"none\" points=\"180.5,-521.5 238.5,-521.5 \" stroke=\"#000000\"/>\n<text fill=\"#000000\" font-family=\"Times,serif\" font-size=\"14.00\" text-anchor=\"middle\" x=\"209.5\" y=\"-506.3\">output:</text>\n<polyline fill=\"none\" points=\"238.5,-498.5 238.5,-544.5 \" stroke=\"#000000\"/>\n<text fill=\"#000000\" font-family=\"Times,serif\" font-size=\"14.00\" text-anchor=\"middle\" x=\"301\" y=\"-529.3\">(None, 75, 75, 16)</text>\n<polyline fill=\"none\" points=\"238.5,-521.5 363.5,-521.5 \" stroke=\"#000000\"/>\n<text fill=\"#000000\" font-family=\"Times,serif\" font-size=\"14.00\" text-anchor=\"middle\" x=\"301\" y=\"-506.3\">(None, 75, 75, 64)</text>\n</g>\n<!-- 140077051228112&#45;&gt;140076869779128 -->\n<g class=\"edge\" id=\"edge3\">\n<title>140077051228112-&gt;140076869779128</title>\n<path d=\"M205.5,-581.3799C205.5,-573.1745 205.5,-563.7679 205.5,-554.8786\" fill=\"none\" stroke=\"#000000\"/>\n<polygon fill=\"#000000\" points=\"209.0001,-554.784 205.5,-544.784 202.0001,-554.784 209.0001,-554.784\" stroke=\"#000000\"/>\n</g>\n<!-- 140076869775600 -->\n<g class=\"node\" id=\"node5\">\n<title>140076869775600</title>\n<polygon fill=\"none\" points=\"3.5,-415.5 3.5,-461.5 407.5,-461.5 407.5,-415.5 3.5,-415.5\" stroke=\"#000000\"/>\n<text fill=\"#000000\" font-family=\"Times,serif\" font-size=\"14.00\" text-anchor=\"middle\" x=\"114\" y=\"-434.8\">max_pooling2d_1: MaxPooling2D</text>\n<polyline fill=\"none\" points=\"224.5,-415.5 224.5,-461.5 \" stroke=\"#000000\"/>\n<text fill=\"#000000\" font-family=\"Times,serif\" font-size=\"14.00\" text-anchor=\"middle\" x=\"253.5\" y=\"-446.3\">input:</text>\n<polyline fill=\"none\" points=\"224.5,-438.5 282.5,-438.5 \" stroke=\"#000000\"/>\n<text fill=\"#000000\" font-family=\"Times,serif\" font-size=\"14.00\" text-anchor=\"middle\" x=\"253.5\" y=\"-423.3\">output:</text>\n<polyline fill=\"none\" points=\"282.5,-415.5 282.5,-461.5 \" stroke=\"#000000\"/>\n<text fill=\"#000000\" font-family=\"Times,serif\" font-size=\"14.00\" text-anchor=\"middle\" x=\"345\" y=\"-446.3\">(None, 75, 75, 64)</text>\n<polyline fill=\"none\" points=\"282.5,-438.5 407.5,-438.5 \" stroke=\"#000000\"/>\n<text fill=\"#000000\" font-family=\"Times,serif\" font-size=\"14.00\" text-anchor=\"middle\" x=\"345\" y=\"-423.3\">(None, 37, 37, 64)</text>\n</g>\n<!-- 140076869779128&#45;&gt;140076869775600 -->\n<g class=\"edge\" id=\"edge4\">\n<title>140076869779128-&gt;140076869775600</title>\n<path d=\"M205.5,-498.3799C205.5,-490.1745 205.5,-480.7679 205.5,-471.8786\" fill=\"none\" stroke=\"#000000\"/>\n<polygon fill=\"#000000\" points=\"209.0001,-471.784 205.5,-461.784 202.0001,-471.784 209.0001,-471.784\" stroke=\"#000000\"/>\n</g>\n<!-- 140076869472552 -->\n<g class=\"node\" id=\"node6\">\n<title>140076869472552</title>\n<polygon fill=\"none\" points=\"44,-332.5 44,-378.5 367,-378.5 367,-332.5 44,-332.5\" stroke=\"#000000\"/>\n<text fill=\"#000000\" font-family=\"Times,serif\" font-size=\"14.00\" text-anchor=\"middle\" x=\"110.5\" y=\"-351.8\">conv2d_2: Conv2D</text>\n<polyline fill=\"none\" points=\"177,-332.5 177,-378.5 \" stroke=\"#000000\"/>\n<text fill=\"#000000\" font-family=\"Times,serif\" font-size=\"14.00\" text-anchor=\"middle\" x=\"206\" y=\"-363.3\">input:</text>\n<polyline fill=\"none\" points=\"177,-355.5 235,-355.5 \" stroke=\"#000000\"/>\n<text fill=\"#000000\" font-family=\"Times,serif\" font-size=\"14.00\" text-anchor=\"middle\" x=\"206\" y=\"-340.3\">output:</text>\n<polyline fill=\"none\" points=\"235,-332.5 235,-378.5 \" stroke=\"#000000\"/>\n<text fill=\"#000000\" font-family=\"Times,serif\" font-size=\"14.00\" text-anchor=\"middle\" x=\"301\" y=\"-363.3\">(None, 37, 37, 64)</text>\n<polyline fill=\"none\" points=\"235,-355.5 367,-355.5 \" stroke=\"#000000\"/>\n<text fill=\"#000000\" font-family=\"Times,serif\" font-size=\"14.00\" text-anchor=\"middle\" x=\"301\" y=\"-340.3\">(None, 37, 37, 128)</text>\n</g>\n<!-- 140076869775600&#45;&gt;140076869472552 -->\n<g class=\"edge\" id=\"edge5\">\n<title>140076869775600-&gt;140076869472552</title>\n<path d=\"M205.5,-415.3799C205.5,-407.1745 205.5,-397.7679 205.5,-388.8786\" fill=\"none\" stroke=\"#000000\"/>\n<polygon fill=\"#000000\" points=\"209.0001,-388.784 205.5,-378.784 202.0001,-388.784 209.0001,-388.784\" stroke=\"#000000\"/>\n</g>\n<!-- 140076869475800 -->\n<g class=\"node\" id=\"node7\">\n<title>140076869475800</title>\n<polygon fill=\"none\" points=\"0,-249.5 0,-295.5 411,-295.5 411,-249.5 0,-249.5\" stroke=\"#000000\"/>\n<text fill=\"#000000\" font-family=\"Times,serif\" font-size=\"14.00\" text-anchor=\"middle\" x=\"110.5\" y=\"-268.8\">max_pooling2d_2: MaxPooling2D</text>\n<polyline fill=\"none\" points=\"221,-249.5 221,-295.5 \" stroke=\"#000000\"/>\n<text fill=\"#000000\" font-family=\"Times,serif\" font-size=\"14.00\" text-anchor=\"middle\" x=\"250\" y=\"-280.3\">input:</text>\n<polyline fill=\"none\" points=\"221,-272.5 279,-272.5 \" stroke=\"#000000\"/>\n<text fill=\"#000000\" font-family=\"Times,serif\" font-size=\"14.00\" text-anchor=\"middle\" x=\"250\" y=\"-257.3\">output:</text>\n<polyline fill=\"none\" points=\"279,-249.5 279,-295.5 \" stroke=\"#000000\"/>\n<text fill=\"#000000\" font-family=\"Times,serif\" font-size=\"14.00\" text-anchor=\"middle\" x=\"345\" y=\"-280.3\">(None, 37, 37, 128)</text>\n<polyline fill=\"none\" points=\"279,-272.5 411,-272.5 \" stroke=\"#000000\"/>\n<text fill=\"#000000\" font-family=\"Times,serif\" font-size=\"14.00\" text-anchor=\"middle\" x=\"345\" y=\"-257.3\">(None, 18, 18, 128)</text>\n</g>\n<!-- 140076869472552&#45;&gt;140076869475800 -->\n<g class=\"edge\" id=\"edge6\">\n<title>140076869472552-&gt;140076869475800</title>\n<path d=\"M205.5,-332.3799C205.5,-324.1745 205.5,-314.7679 205.5,-305.8786\" fill=\"none\" stroke=\"#000000\"/>\n<polygon fill=\"#000000\" points=\"209.0001,-305.784 205.5,-295.784 202.0001,-305.784 209.0001,-305.784\" stroke=\"#000000\"/>\n</g>\n<!-- 140078146706736 -->\n<g class=\"node\" id=\"node8\">\n<title>140078146706736</title>\n<polygon fill=\"none\" points=\"61.5,-166.5 61.5,-212.5 349.5,-212.5 349.5,-166.5 61.5,-166.5\" stroke=\"#000000\"/>\n<text fill=\"#000000\" font-family=\"Times,serif\" font-size=\"14.00\" text-anchor=\"middle\" x=\"110.5\" y=\"-185.8\">flatten: Flatten</text>\n<polyline fill=\"none\" points=\"159.5,-166.5 159.5,-212.5 \" stroke=\"#000000\"/>\n<text fill=\"#000000\" font-family=\"Times,serif\" font-size=\"14.00\" text-anchor=\"middle\" x=\"188.5\" y=\"-197.3\">input:</text>\n<polyline fill=\"none\" points=\"159.5,-189.5 217.5,-189.5 \" stroke=\"#000000\"/>\n<text fill=\"#000000\" font-family=\"Times,serif\" font-size=\"14.00\" text-anchor=\"middle\" x=\"188.5\" y=\"-174.3\">output:</text>\n<polyline fill=\"none\" points=\"217.5,-166.5 217.5,-212.5 \" stroke=\"#000000\"/>\n<text fill=\"#000000\" font-family=\"Times,serif\" font-size=\"14.00\" text-anchor=\"middle\" x=\"283.5\" y=\"-197.3\">(None, 18, 18, 128)</text>\n<polyline fill=\"none\" points=\"217.5,-189.5 349.5,-189.5 \" stroke=\"#000000\"/>\n<text fill=\"#000000\" font-family=\"Times,serif\" font-size=\"14.00\" text-anchor=\"middle\" x=\"283.5\" y=\"-174.3\">(None, 41472)</text>\n</g>\n<!-- 140076869475800&#45;&gt;140078146706736 -->\n<g class=\"edge\" id=\"edge7\">\n<title>140076869475800-&gt;140078146706736</title>\n<path d=\"M205.5,-249.3799C205.5,-241.1745 205.5,-231.7679 205.5,-222.8786\" fill=\"none\" stroke=\"#000000\"/>\n<polygon fill=\"#000000\" points=\"209.0001,-222.784 205.5,-212.784 202.0001,-222.784 209.0001,-222.784\" stroke=\"#000000\"/>\n</g>\n<!-- 140078146706960 -->\n<g class=\"node\" id=\"node9\">\n<title>140078146706960</title>\n<polygon fill=\"none\" points=\"79.5,-83.5 79.5,-129.5 331.5,-129.5 331.5,-83.5 79.5,-83.5\" stroke=\"#000000\"/>\n<text fill=\"#000000\" font-family=\"Times,serif\" font-size=\"14.00\" text-anchor=\"middle\" x=\"125.5\" y=\"-102.8\">dense: Dense</text>\n<polyline fill=\"none\" points=\"171.5,-83.5 171.5,-129.5 \" stroke=\"#000000\"/>\n<text fill=\"#000000\" font-family=\"Times,serif\" font-size=\"14.00\" text-anchor=\"middle\" x=\"200.5\" y=\"-114.3\">input:</text>\n<polyline fill=\"none\" points=\"171.5,-106.5 229.5,-106.5 \" stroke=\"#000000\"/>\n<text fill=\"#000000\" font-family=\"Times,serif\" font-size=\"14.00\" text-anchor=\"middle\" x=\"200.5\" y=\"-91.3\">output:</text>\n<polyline fill=\"none\" points=\"229.5,-83.5 229.5,-129.5 \" stroke=\"#000000\"/>\n<text fill=\"#000000\" font-family=\"Times,serif\" font-size=\"14.00\" text-anchor=\"middle\" x=\"280.5\" y=\"-114.3\">(None, 41472)</text>\n<polyline fill=\"none\" points=\"229.5,-106.5 331.5,-106.5 \" stroke=\"#000000\"/>\n<text fill=\"#000000\" font-family=\"Times,serif\" font-size=\"14.00\" text-anchor=\"middle\" x=\"280.5\" y=\"-91.3\">(None, 512)</text>\n</g>\n<!-- 140078146706736&#45;&gt;140078146706960 -->\n<g class=\"edge\" id=\"edge8\">\n<title>140078146706736-&gt;140078146706960</title>\n<path d=\"M205.5,-166.3799C205.5,-158.1745 205.5,-148.7679 205.5,-139.8786\" fill=\"none\" stroke=\"#000000\"/>\n<polygon fill=\"#000000\" points=\"209.0001,-139.784 205.5,-129.784 202.0001,-139.784 209.0001,-139.784\" stroke=\"#000000\"/>\n</g>\n<!-- 140077058900768 -->\n<g class=\"node\" id=\"node10\">\n<title>140077058900768</title>\n<polygon fill=\"none\" points=\"79.5,-.5 79.5,-46.5 331.5,-46.5 331.5,-.5 79.5,-.5\" stroke=\"#000000\"/>\n<text fill=\"#000000\" font-family=\"Times,serif\" font-size=\"14.00\" text-anchor=\"middle\" x=\"133\" y=\"-19.8\">dense_1: Dense</text>\n<polyline fill=\"none\" points=\"186.5,-.5 186.5,-46.5 \" stroke=\"#000000\"/>\n<text fill=\"#000000\" font-family=\"Times,serif\" font-size=\"14.00\" text-anchor=\"middle\" x=\"215.5\" y=\"-31.3\">input:</text>\n<polyline fill=\"none\" points=\"186.5,-23.5 244.5,-23.5 \" stroke=\"#000000\"/>\n<text fill=\"#000000\" font-family=\"Times,serif\" font-size=\"14.00\" text-anchor=\"middle\" x=\"215.5\" y=\"-8.3\">output:</text>\n<polyline fill=\"none\" points=\"244.5,-.5 244.5,-46.5 \" stroke=\"#000000\"/>\n<text fill=\"#000000\" font-family=\"Times,serif\" font-size=\"14.00\" text-anchor=\"middle\" x=\"288\" y=\"-31.3\">(None, 512)</text>\n<polyline fill=\"none\" points=\"244.5,-23.5 331.5,-23.5 \" stroke=\"#000000\"/>\n<text fill=\"#000000\" font-family=\"Times,serif\" font-size=\"14.00\" text-anchor=\"middle\" x=\"288\" y=\"-8.3\">(None, 1)</text>\n</g>\n<!-- 140078146706960&#45;&gt;140077058900768 -->\n<g class=\"edge\" id=\"edge9\">\n<title>140078146706960-&gt;140077058900768</title>\n<path d=\"M205.5,-83.3799C205.5,-75.1745 205.5,-65.7679 205.5,-56.8786\" fill=\"none\" stroke=\"#000000\"/>\n<polygon fill=\"#000000\" points=\"209.0001,-56.784 205.5,-46.784 202.0001,-56.784 209.0001,-56.784\" stroke=\"#000000\"/>\n</g>\n</g>\n</svg>"
          },
          "metadata": {
            "tags": []
          },
          "execution_count": 19
        }
      ]
    },
    {
      "cell_type": "code",
      "metadata": {
        "colab": {
          "base_uri": "https://localhost:8080/"
        },
        "id": "tiUJAI_a5NDv",
        "outputId": "c559f669-6412-44e1-aa51-c3285eb48328"
      },
      "source": [
        "history = model.fit(x=train_imgs_scaled, y=train_labels_enc,\r\n",
        "                    validation_data=(validation_imgs_scaled, validation_labels_enc),\r\n",
        "                    batch_size=batch_size,\r\n",
        "                    epochs=epochs,\r\n",
        "                    verbose=1)"
      ],
      "execution_count": 20,
      "outputs": [
        {
          "output_type": "stream",
          "text": [
            "Epoch 1/150\n",
            "60/60 [==============================] - 6s 47ms/step - loss: 2.9853 - accuracy: 0.5048 - val_loss: 0.6753 - val_accuracy: 0.5640\n",
            "Epoch 2/150\n",
            "60/60 [==============================] - 2s 42ms/step - loss: 0.7112 - accuracy: 0.5856 - val_loss: 0.6706 - val_accuracy: 0.6030\n",
            "Epoch 3/150\n",
            "60/60 [==============================] - 2s 41ms/step - loss: 0.6522 - accuracy: 0.6317 - val_loss: 0.5995 - val_accuracy: 0.6950\n",
            "Epoch 4/150\n",
            "60/60 [==============================] - 3s 42ms/step - loss: 0.5978 - accuracy: 0.7099 - val_loss: 0.6266 - val_accuracy: 0.6480\n",
            "Epoch 5/150\n",
            "60/60 [==============================] - 2s 42ms/step - loss: 0.5077 - accuracy: 0.7471 - val_loss: 0.5944 - val_accuracy: 0.7010\n",
            "Epoch 6/150\n",
            "60/60 [==============================] - 2s 41ms/step - loss: 0.4298 - accuracy: 0.7893 - val_loss: 0.6264 - val_accuracy: 0.7080\n",
            "Epoch 7/150\n",
            "60/60 [==============================] - 2s 41ms/step - loss: 0.3306 - accuracy: 0.8460 - val_loss: 0.6416 - val_accuracy: 0.7250\n",
            "Epoch 8/150\n",
            "60/60 [==============================] - 3s 42ms/step - loss: 0.2286 - accuracy: 0.9097 - val_loss: 0.6783 - val_accuracy: 0.7190\n",
            "Epoch 9/150\n",
            "60/60 [==============================] - 2s 42ms/step - loss: 0.1449 - accuracy: 0.9444 - val_loss: 0.8818 - val_accuracy: 0.7310\n",
            "Epoch 10/150\n",
            "60/60 [==============================] - 3s 43ms/step - loss: 0.1172 - accuracy: 0.9565 - val_loss: 1.0325 - val_accuracy: 0.7330\n",
            "Epoch 11/150\n",
            "60/60 [==============================] - 3s 42ms/step - loss: 0.0532 - accuracy: 0.9819 - val_loss: 1.2544 - val_accuracy: 0.7010\n",
            "Epoch 12/150\n",
            "60/60 [==============================] - 3s 42ms/step - loss: 0.0753 - accuracy: 0.9778 - val_loss: 1.2577 - val_accuracy: 0.7130\n",
            "Epoch 13/150\n",
            "60/60 [==============================] - 2s 42ms/step - loss: 0.0420 - accuracy: 0.9872 - val_loss: 1.4437 - val_accuracy: 0.7090\n",
            "Epoch 14/150\n",
            "60/60 [==============================] - 3s 42ms/step - loss: 0.0561 - accuracy: 0.9858 - val_loss: 1.4468 - val_accuracy: 0.7280\n",
            "Epoch 15/150\n",
            "60/60 [==============================] - 3s 42ms/step - loss: 0.0260 - accuracy: 0.9952 - val_loss: 1.3827 - val_accuracy: 0.7220\n",
            "Epoch 16/150\n",
            "60/60 [==============================] - 3s 42ms/step - loss: 0.0601 - accuracy: 0.9912 - val_loss: 1.4063 - val_accuracy: 0.7040\n",
            "Epoch 17/150\n",
            "60/60 [==============================] - 3s 42ms/step - loss: 0.0120 - accuracy: 0.9985 - val_loss: 1.3123 - val_accuracy: 0.6970\n",
            "Epoch 18/150\n",
            "60/60 [==============================] - 3s 42ms/step - loss: 0.0220 - accuracy: 0.9982 - val_loss: 1.3411 - val_accuracy: 0.7000\n",
            "Epoch 19/150\n",
            "60/60 [==============================] - 3s 42ms/step - loss: 0.0036 - accuracy: 1.0000 - val_loss: 1.7913 - val_accuracy: 0.7320\n",
            "Epoch 20/150\n",
            "60/60 [==============================] - 3s 42ms/step - loss: 0.0077 - accuracy: 0.9992 - val_loss: 1.1299 - val_accuracy: 0.5970\n",
            "Epoch 21/150\n",
            "60/60 [==============================] - 3s 42ms/step - loss: 0.0376 - accuracy: 0.9860 - val_loss: 1.7857 - val_accuracy: 0.7140\n",
            "Epoch 22/150\n",
            "60/60 [==============================] - 3s 42ms/step - loss: 0.0016 - accuracy: 1.0000 - val_loss: 3.0573 - val_accuracy: 0.7340\n",
            "Epoch 23/150\n",
            "60/60 [==============================] - 3s 42ms/step - loss: 0.6665 - accuracy: 0.9493 - val_loss: 2.1995 - val_accuracy: 0.7210\n",
            "Epoch 24/150\n",
            "60/60 [==============================] - 3s 42ms/step - loss: 1.1693e-04 - accuracy: 1.0000 - val_loss: 2.5794 - val_accuracy: 0.7150\n",
            "Epoch 25/150\n",
            "60/60 [==============================] - 3s 42ms/step - loss: 0.0595 - accuracy: 0.9932 - val_loss: 1.9025 - val_accuracy: 0.7070\n",
            "Epoch 26/150\n",
            "60/60 [==============================] - 3s 43ms/step - loss: 0.0048 - accuracy: 0.9992 - val_loss: 1.6656 - val_accuracy: 0.6910\n",
            "Epoch 27/150\n",
            "60/60 [==============================] - 3s 43ms/step - loss: 0.0057 - accuracy: 0.9992 - val_loss: 3.7952 - val_accuracy: 0.6050\n",
            "Epoch 28/150\n",
            "60/60 [==============================] - 3s 43ms/step - loss: 0.0364 - accuracy: 0.9877 - val_loss: 2.3830 - val_accuracy: 0.7060\n",
            "Epoch 29/150\n",
            "60/60 [==============================] - 3s 43ms/step - loss: 6.7216e-04 - accuracy: 1.0000 - val_loss: 2.9989 - val_accuracy: 0.7180\n",
            "Epoch 30/150\n",
            "60/60 [==============================] - 3s 43ms/step - loss: 3.3940e-06 - accuracy: 1.0000 - val_loss: 3.3796 - val_accuracy: 0.7180\n",
            "Epoch 31/150\n",
            "60/60 [==============================] - 3s 43ms/step - loss: 0.0721 - accuracy: 0.9988 - val_loss: 2.4522 - val_accuracy: 0.6860\n",
            "Epoch 32/150\n",
            "60/60 [==============================] - 3s 43ms/step - loss: 0.0105 - accuracy: 0.9977 - val_loss: 2.4985 - val_accuracy: 0.7050\n",
            "Epoch 33/150\n",
            "60/60 [==============================] - 3s 43ms/step - loss: 6.5531e-05 - accuracy: 1.0000 - val_loss: 2.9219 - val_accuracy: 0.7070\n",
            "Epoch 34/150\n",
            "60/60 [==============================] - 3s 42ms/step - loss: 5.7595e-06 - accuracy: 1.0000 - val_loss: 3.9043 - val_accuracy: 0.7210\n",
            "Epoch 35/150\n",
            "60/60 [==============================] - 3s 42ms/step - loss: 0.7515 - accuracy: 0.9516 - val_loss: 2.6802 - val_accuracy: 0.6900\n",
            "Epoch 36/150\n",
            "60/60 [==============================] - 3s 42ms/step - loss: 6.7077e-04 - accuracy: 1.0000 - val_loss: 2.7562 - val_accuracy: 0.7180\n",
            "Epoch 37/150\n",
            "60/60 [==============================] - 3s 42ms/step - loss: 0.1089 - accuracy: 0.9947 - val_loss: 1.4814 - val_accuracy: 0.7090\n",
            "Epoch 38/150\n",
            "60/60 [==============================] - 3s 42ms/step - loss: 0.0084 - accuracy: 0.9983 - val_loss: 2.2360 - val_accuracy: 0.7270\n",
            "Epoch 39/150\n",
            "60/60 [==============================] - 3s 42ms/step - loss: 4.8266e-05 - accuracy: 1.0000 - val_loss: 2.8514 - val_accuracy: 0.7220\n",
            "Epoch 40/150\n",
            "60/60 [==============================] - 3s 42ms/step - loss: 3.8065e-06 - accuracy: 1.0000 - val_loss: 2.9888 - val_accuracy: 0.7310\n",
            "Epoch 41/150\n",
            "60/60 [==============================] - 3s 42ms/step - loss: 2.2430e-07 - accuracy: 1.0000 - val_loss: 3.4254 - val_accuracy: 0.7310\n",
            "Epoch 42/150\n",
            "60/60 [==============================] - 3s 42ms/step - loss: 2.7519e-08 - accuracy: 1.0000 - val_loss: 3.7955 - val_accuracy: 0.7420\n",
            "Epoch 43/150\n",
            "60/60 [==============================] - 3s 42ms/step - loss: 4.2335e-09 - accuracy: 1.0000 - val_loss: 4.1416 - val_accuracy: 0.7340\n",
            "Epoch 44/150\n",
            "60/60 [==============================] - 3s 42ms/step - loss: 1.9401e-09 - accuracy: 1.0000 - val_loss: 4.2484 - val_accuracy: 0.7350\n",
            "Epoch 45/150\n",
            "60/60 [==============================] - 3s 42ms/step - loss: 9.3312e-10 - accuracy: 1.0000 - val_loss: 4.3061 - val_accuracy: 0.7380\n",
            "Epoch 46/150\n",
            "60/60 [==============================] - 3s 42ms/step - loss: 9.3892e-10 - accuracy: 1.0000 - val_loss: 4.3256 - val_accuracy: 0.7390\n",
            "Epoch 47/150\n",
            "60/60 [==============================] - 3s 42ms/step - loss: 6.2027e-10 - accuracy: 1.0000 - val_loss: 4.3585 - val_accuracy: 0.7390\n",
            "Epoch 48/150\n",
            "60/60 [==============================] - 3s 42ms/step - loss: 6.4541e-10 - accuracy: 1.0000 - val_loss: 4.3870 - val_accuracy: 0.7370\n",
            "Epoch 49/150\n",
            "60/60 [==============================] - 3s 42ms/step - loss: 6.5419e-10 - accuracy: 1.0000 - val_loss: 4.3969 - val_accuracy: 0.7330\n",
            "Epoch 50/150\n",
            "60/60 [==============================] - 3s 42ms/step - loss: 5.9970e-10 - accuracy: 1.0000 - val_loss: 4.4575 - val_accuracy: 0.7370\n",
            "Epoch 51/150\n",
            "60/60 [==============================] - 3s 42ms/step - loss: 5.4278e-10 - accuracy: 1.0000 - val_loss: 4.4511 - val_accuracy: 0.7380\n",
            "Epoch 52/150\n",
            "60/60 [==============================] - 3s 42ms/step - loss: 5.6298e-10 - accuracy: 1.0000 - val_loss: 4.4583 - val_accuracy: 0.7380\n",
            "Epoch 53/150\n",
            "60/60 [==============================] - 3s 43ms/step - loss: 5.5652e-10 - accuracy: 1.0000 - val_loss: 4.4736 - val_accuracy: 0.7350\n",
            "Epoch 54/150\n",
            "60/60 [==============================] - 3s 44ms/step - loss: 4.9997e-10 - accuracy: 1.0000 - val_loss: 4.4797 - val_accuracy: 0.7370\n",
            "Epoch 55/150\n",
            "60/60 [==============================] - 3s 43ms/step - loss: 5.5055e-10 - accuracy: 1.0000 - val_loss: 4.4600 - val_accuracy: 0.7340\n",
            "Epoch 56/150\n",
            "60/60 [==============================] - 3s 42ms/step - loss: 5.8254e-10 - accuracy: 1.0000 - val_loss: 4.4982 - val_accuracy: 0.7360\n",
            "Epoch 57/150\n",
            "60/60 [==============================] - 3s 43ms/step - loss: 4.4175e-10 - accuracy: 1.0000 - val_loss: 4.5020 - val_accuracy: 0.7340\n",
            "Epoch 58/150\n",
            "60/60 [==============================] - 3s 43ms/step - loss: 5.1354e-10 - accuracy: 1.0000 - val_loss: 4.5069 - val_accuracy: 0.7360\n",
            "Epoch 59/150\n",
            "60/60 [==============================] - 3s 42ms/step - loss: 6.2257e-10 - accuracy: 1.0000 - val_loss: 4.5294 - val_accuracy: 0.7360\n",
            "Epoch 60/150\n",
            "60/60 [==============================] - 3s 43ms/step - loss: 5.6449e-10 - accuracy: 1.0000 - val_loss: 4.5297 - val_accuracy: 0.7400\n",
            "Epoch 61/150\n",
            "60/60 [==============================] - 3s 42ms/step - loss: 4.8160e-10 - accuracy: 1.0000 - val_loss: 4.5347 - val_accuracy: 0.7360\n",
            "Epoch 62/150\n",
            "60/60 [==============================] - 3s 42ms/step - loss: 4.2304e-10 - accuracy: 1.0000 - val_loss: 4.5409 - val_accuracy: 0.7370\n",
            "Epoch 63/150\n",
            "60/60 [==============================] - 3s 42ms/step - loss: 5.2850e-10 - accuracy: 1.0000 - val_loss: 4.5580 - val_accuracy: 0.7360\n",
            "Epoch 64/150\n",
            "60/60 [==============================] - 3s 42ms/step - loss: 4.4693e-10 - accuracy: 1.0000 - val_loss: 4.5605 - val_accuracy: 0.7360\n",
            "Epoch 65/150\n",
            "60/60 [==============================] - 3s 43ms/step - loss: 3.7484e-10 - accuracy: 1.0000 - val_loss: 4.5643 - val_accuracy: 0.7360\n",
            "Epoch 66/150\n",
            "60/60 [==============================] - 3s 43ms/step - loss: 4.7918e-10 - accuracy: 1.0000 - val_loss: 4.5686 - val_accuracy: 0.7370\n",
            "Epoch 67/150\n",
            "60/60 [==============================] - 3s 43ms/step - loss: 4.7988e-10 - accuracy: 1.0000 - val_loss: 4.5803 - val_accuracy: 0.7370\n",
            "Epoch 68/150\n",
            "60/60 [==============================] - 3s 42ms/step - loss: 4.1023e-10 - accuracy: 1.0000 - val_loss: 4.6041 - val_accuracy: 0.7380\n",
            "Epoch 69/150\n",
            "60/60 [==============================] - 3s 42ms/step - loss: 4.2000e-10 - accuracy: 1.0000 - val_loss: 4.6030 - val_accuracy: 0.7390\n",
            "Epoch 70/150\n",
            "60/60 [==============================] - 3s 42ms/step - loss: 4.3700e-10 - accuracy: 1.0000 - val_loss: 4.6037 - val_accuracy: 0.7380\n",
            "Epoch 71/150\n",
            "60/60 [==============================] - 3s 42ms/step - loss: 4.6872e-10 - accuracy: 1.0000 - val_loss: 4.6060 - val_accuracy: 0.7370\n",
            "Epoch 72/150\n",
            "60/60 [==============================] - 3s 42ms/step - loss: 4.3854e-10 - accuracy: 1.0000 - val_loss: 4.6090 - val_accuracy: 0.7380\n",
            "Epoch 73/150\n",
            "60/60 [==============================] - 3s 42ms/step - loss: 4.6446e-10 - accuracy: 1.0000 - val_loss: 4.6125 - val_accuracy: 0.7370\n",
            "Epoch 74/150\n",
            "60/60 [==============================] - 3s 42ms/step - loss: 5.1096e-10 - accuracy: 1.0000 - val_loss: 4.6385 - val_accuracy: 0.7390\n",
            "Epoch 75/150\n",
            "60/60 [==============================] - 3s 42ms/step - loss: 3.9188e-10 - accuracy: 1.0000 - val_loss: 4.6402 - val_accuracy: 0.7380\n",
            "Epoch 76/150\n",
            "60/60 [==============================] - 3s 42ms/step - loss: 3.8613e-10 - accuracy: 1.0000 - val_loss: 4.6423 - val_accuracy: 0.7370\n",
            "Epoch 77/150\n",
            "60/60 [==============================] - 3s 42ms/step - loss: 4.2489e-10 - accuracy: 1.0000 - val_loss: 4.6449 - val_accuracy: 0.7370\n",
            "Epoch 78/150\n",
            "60/60 [==============================] - 3s 42ms/step - loss: 4.2810e-10 - accuracy: 1.0000 - val_loss: 4.6475 - val_accuracy: 0.7380\n",
            "Epoch 79/150\n",
            "60/60 [==============================] - 3s 42ms/step - loss: 4.9495e-10 - accuracy: 1.0000 - val_loss: 4.6506 - val_accuracy: 0.7390\n",
            "Epoch 80/150\n",
            "60/60 [==============================] - 3s 42ms/step - loss: 3.3103e-10 - accuracy: 1.0000 - val_loss: 4.6535 - val_accuracy: 0.7390\n",
            "Epoch 81/150\n",
            "60/60 [==============================] - 3s 43ms/step - loss: 3.7294e-10 - accuracy: 1.0000 - val_loss: 4.6696 - val_accuracy: 0.7380\n",
            "Epoch 82/150\n",
            "60/60 [==============================] - 3s 42ms/step - loss: 3.7667e-10 - accuracy: 1.0000 - val_loss: 4.6646 - val_accuracy: 0.7380\n",
            "Epoch 83/150\n",
            "60/60 [==============================] - 3s 43ms/step - loss: 4.1670e-10 - accuracy: 1.0000 - val_loss: 4.6658 - val_accuracy: 0.7370\n",
            "Epoch 84/150\n",
            "60/60 [==============================] - 3s 42ms/step - loss: 3.0438e-10 - accuracy: 1.0000 - val_loss: 4.6676 - val_accuracy: 0.7370\n",
            "Epoch 85/150\n",
            "60/60 [==============================] - 3s 42ms/step - loss: 3.1277e-10 - accuracy: 1.0000 - val_loss: 4.6698 - val_accuracy: 0.7370\n",
            "Epoch 86/150\n",
            "60/60 [==============================] - 3s 42ms/step - loss: 3.5313e-10 - accuracy: 1.0000 - val_loss: 4.6723 - val_accuracy: 0.7390\n",
            "Epoch 87/150\n",
            "60/60 [==============================] - 3s 42ms/step - loss: 3.7950e-10 - accuracy: 1.0000 - val_loss: 4.6750 - val_accuracy: 0.7390\n",
            "Epoch 88/150\n",
            "60/60 [==============================] - 3s 43ms/step - loss: 3.8775e-10 - accuracy: 1.0000 - val_loss: 4.6777 - val_accuracy: 0.7400\n",
            "Epoch 89/150\n",
            "60/60 [==============================] - 3s 43ms/step - loss: 4.5821e-10 - accuracy: 1.0000 - val_loss: 4.6804 - val_accuracy: 0.7410\n",
            "Epoch 90/150\n",
            "60/60 [==============================] - 3s 42ms/step - loss: 4.6121e-10 - accuracy: 1.0000 - val_loss: 4.6833 - val_accuracy: 0.7390\n",
            "Epoch 91/150\n",
            "60/60 [==============================] - 3s 42ms/step - loss: 4.7220e-10 - accuracy: 1.0000 - val_loss: 4.6973 - val_accuracy: 0.7380\n",
            "Epoch 92/150\n",
            "60/60 [==============================] - 3s 42ms/step - loss: 3.4767e-10 - accuracy: 1.0000 - val_loss: 4.6977 - val_accuracy: 0.7390\n",
            "Epoch 93/150\n",
            "60/60 [==============================] - 3s 43ms/step - loss: 3.8838e-10 - accuracy: 1.0000 - val_loss: 4.6948 - val_accuracy: 0.7360\n",
            "Epoch 94/150\n",
            "60/60 [==============================] - 3s 42ms/step - loss: 3.7495e-10 - accuracy: 1.0000 - val_loss: 4.6984 - val_accuracy: 0.7360\n",
            "Epoch 95/150\n",
            "60/60 [==============================] - 3s 43ms/step - loss: 3.5159e-10 - accuracy: 1.0000 - val_loss: 4.7018 - val_accuracy: 0.7350\n",
            "Epoch 96/150\n",
            "60/60 [==============================] - 3s 42ms/step - loss: 4.2758e-10 - accuracy: 1.0000 - val_loss: 4.7049 - val_accuracy: 0.7370\n",
            "Epoch 97/150\n",
            "60/60 [==============================] - 3s 42ms/step - loss: 3.9542e-10 - accuracy: 1.0000 - val_loss: 4.7080 - val_accuracy: 0.7380\n",
            "Epoch 98/150\n",
            "60/60 [==============================] - 3s 43ms/step - loss: 3.7227e-10 - accuracy: 1.0000 - val_loss: 4.7509 - val_accuracy: 0.7410\n",
            "Epoch 99/150\n",
            "60/60 [==============================] - 3s 42ms/step - loss: 4.2053e-10 - accuracy: 1.0000 - val_loss: 4.7460 - val_accuracy: 0.7400\n",
            "Epoch 100/150\n",
            "60/60 [==============================] - 3s 43ms/step - loss: 3.7997e-10 - accuracy: 1.0000 - val_loss: 4.7427 - val_accuracy: 0.7380\n",
            "Epoch 101/150\n",
            "60/60 [==============================] - 3s 42ms/step - loss: 3.2062e-10 - accuracy: 1.0000 - val_loss: 4.7406 - val_accuracy: 0.7390\n",
            "Epoch 102/150\n",
            "60/60 [==============================] - 3s 42ms/step - loss: 3.8922e-10 - accuracy: 1.0000 - val_loss: 4.7394 - val_accuracy: 0.7390\n",
            "Epoch 103/150\n",
            "60/60 [==============================] - 3s 43ms/step - loss: 4.6705e-10 - accuracy: 1.0000 - val_loss: 4.7388 - val_accuracy: 0.7390\n",
            "Epoch 104/150\n",
            "60/60 [==============================] - 3s 43ms/step - loss: 4.1943e-10 - accuracy: 1.0000 - val_loss: 4.7386 - val_accuracy: 0.7390\n",
            "Epoch 105/150\n",
            "60/60 [==============================] - 3s 43ms/step - loss: 3.6318e-10 - accuracy: 1.0000 - val_loss: 4.7389 - val_accuracy: 0.7400\n",
            "Epoch 106/150\n",
            "60/60 [==============================] - 3s 43ms/step - loss: 4.6074e-10 - accuracy: 1.0000 - val_loss: 4.7395 - val_accuracy: 0.7400\n",
            "Epoch 107/150\n",
            "60/60 [==============================] - 3s 42ms/step - loss: 3.8903e-10 - accuracy: 1.0000 - val_loss: 4.7403 - val_accuracy: 0.7390\n",
            "Epoch 108/150\n",
            "60/60 [==============================] - 3s 42ms/step - loss: 3.3108e-10 - accuracy: 1.0000 - val_loss: 4.7414 - val_accuracy: 0.7390\n",
            "Epoch 109/150\n",
            "60/60 [==============================] - 3s 42ms/step - loss: 4.0193e-10 - accuracy: 1.0000 - val_loss: 4.7427 - val_accuracy: 0.7400\n",
            "Epoch 110/150\n",
            "60/60 [==============================] - 3s 42ms/step - loss: 4.4645e-10 - accuracy: 1.0000 - val_loss: 4.7441 - val_accuracy: 0.7400\n",
            "Epoch 111/150\n",
            "60/60 [==============================] - 3s 42ms/step - loss: 4.5165e-10 - accuracy: 1.0000 - val_loss: 4.7456 - val_accuracy: 0.7400\n",
            "Epoch 112/150\n",
            "60/60 [==============================] - 3s 43ms/step - loss: 5.6124e-10 - accuracy: 1.0000 - val_loss: 4.7471 - val_accuracy: 0.7410\n",
            "Epoch 113/150\n",
            "60/60 [==============================] - 3s 42ms/step - loss: 4.5096e-10 - accuracy: 1.0000 - val_loss: 4.7489 - val_accuracy: 0.7410\n",
            "Epoch 114/150\n",
            "60/60 [==============================] - 3s 43ms/step - loss: 4.4918e-10 - accuracy: 1.0000 - val_loss: 4.7506 - val_accuracy: 0.7410\n",
            "Epoch 115/150\n",
            "60/60 [==============================] - 3s 42ms/step - loss: 5.0134e-10 - accuracy: 1.0000 - val_loss: 4.7523 - val_accuracy: 0.7410\n",
            "Epoch 116/150\n",
            "60/60 [==============================] - 3s 42ms/step - loss: 4.6646e-10 - accuracy: 1.0000 - val_loss: 4.7541 - val_accuracy: 0.7410\n",
            "Epoch 117/150\n",
            "60/60 [==============================] - 3s 42ms/step - loss: 4.3694e-10 - accuracy: 1.0000 - val_loss: 4.7559 - val_accuracy: 0.7410\n",
            "Epoch 118/150\n",
            "60/60 [==============================] - 3s 42ms/step - loss: 5.3173e-10 - accuracy: 1.0000 - val_loss: 4.7577 - val_accuracy: 0.7410\n",
            "Epoch 119/150\n",
            "60/60 [==============================] - 3s 42ms/step - loss: 5.1634e-10 - accuracy: 1.0000 - val_loss: 4.7596 - val_accuracy: 0.7410\n",
            "Epoch 120/150\n",
            "60/60 [==============================] - 3s 43ms/step - loss: 4.5991e-10 - accuracy: 1.0000 - val_loss: 4.7690 - val_accuracy: 0.7400\n",
            "Epoch 121/150\n",
            "60/60 [==============================] - 3s 42ms/step - loss: 4.0268e-10 - accuracy: 1.0000 - val_loss: 4.7817 - val_accuracy: 0.7390\n",
            "Epoch 122/150\n",
            "60/60 [==============================] - 3s 43ms/step - loss: 2.8400e-10 - accuracy: 1.0000 - val_loss: 4.7808 - val_accuracy: 0.7390\n",
            "Epoch 123/150\n",
            "60/60 [==============================] - 3s 42ms/step - loss: 3.9951e-10 - accuracy: 1.0000 - val_loss: 4.7803 - val_accuracy: 0.7400\n",
            "Epoch 124/150\n",
            "60/60 [==============================] - 3s 42ms/step - loss: 3.4391e-10 - accuracy: 1.0000 - val_loss: 4.7802 - val_accuracy: 0.7400\n",
            "Epoch 125/150\n",
            "60/60 [==============================] - 3s 42ms/step - loss: 3.7727e-10 - accuracy: 1.0000 - val_loss: 4.7804 - val_accuracy: 0.7400\n",
            "Epoch 126/150\n",
            "60/60 [==============================] - 3s 42ms/step - loss: 4.1607e-10 - accuracy: 1.0000 - val_loss: 4.7809 - val_accuracy: 0.7390\n",
            "Epoch 127/150\n",
            "60/60 [==============================] - 3s 42ms/step - loss: 3.7602e-10 - accuracy: 1.0000 - val_loss: 4.7817 - val_accuracy: 0.7390\n",
            "Epoch 128/150\n",
            "60/60 [==============================] - 3s 43ms/step - loss: 3.4460e-10 - accuracy: 1.0000 - val_loss: 4.7827 - val_accuracy: 0.7390\n",
            "Epoch 129/150\n",
            "60/60 [==============================] - 3s 42ms/step - loss: 3.3960e-10 - accuracy: 1.0000 - val_loss: 4.7838 - val_accuracy: 0.7410\n",
            "Epoch 130/150\n",
            "60/60 [==============================] - 3s 43ms/step - loss: 4.0773e-10 - accuracy: 1.0000 - val_loss: 4.7849 - val_accuracy: 0.7410\n",
            "Epoch 131/150\n",
            "60/60 [==============================] - 3s 43ms/step - loss: 4.1281e-10 - accuracy: 1.0000 - val_loss: 4.7862 - val_accuracy: 0.7410\n",
            "Epoch 132/150\n",
            "60/60 [==============================] - 3s 42ms/step - loss: 4.4172e-10 - accuracy: 1.0000 - val_loss: 4.7874 - val_accuracy: 0.7410\n",
            "Epoch 133/150\n",
            "60/60 [==============================] - 3s 42ms/step - loss: 3.9104e-10 - accuracy: 1.0000 - val_loss: 4.7887 - val_accuracy: 0.7410\n",
            "Epoch 134/150\n",
            "60/60 [==============================] - 3s 43ms/step - loss: 4.4380e-10 - accuracy: 1.0000 - val_loss: 4.7900 - val_accuracy: 0.7410\n",
            "Epoch 135/150\n",
            "60/60 [==============================] - 3s 42ms/step - loss: 4.0835e-10 - accuracy: 1.0000 - val_loss: 4.7915 - val_accuracy: 0.7410\n",
            "Epoch 136/150\n",
            "60/60 [==============================] - 3s 43ms/step - loss: 3.0348e-10 - accuracy: 1.0000 - val_loss: 4.7929 - val_accuracy: 0.7410\n",
            "Epoch 137/150\n",
            "60/60 [==============================] - 3s 43ms/step - loss: 4.5259e-10 - accuracy: 1.0000 - val_loss: 4.7944 - val_accuracy: 0.7410\n",
            "Epoch 138/150\n",
            "60/60 [==============================] - 3s 43ms/step - loss: 3.7169e-10 - accuracy: 1.0000 - val_loss: 4.7959 - val_accuracy: 0.7410\n",
            "Epoch 139/150\n",
            "60/60 [==============================] - 3s 42ms/step - loss: 4.1070e-10 - accuracy: 1.0000 - val_loss: 4.7974 - val_accuracy: 0.7410\n",
            "Epoch 140/150\n",
            "60/60 [==============================] - 3s 42ms/step - loss: 5.0095e-10 - accuracy: 1.0000 - val_loss: 4.7988 - val_accuracy: 0.7410\n",
            "Epoch 141/150\n",
            "60/60 [==============================] - 3s 43ms/step - loss: 4.4534e-10 - accuracy: 1.0000 - val_loss: 4.8003 - val_accuracy: 0.7410\n",
            "Epoch 142/150\n",
            "60/60 [==============================] - 3s 45ms/step - loss: 4.9800e-10 - accuracy: 1.0000 - val_loss: 4.8018 - val_accuracy: 0.7400\n",
            "Epoch 143/150\n",
            "60/60 [==============================] - 3s 43ms/step - loss: 5.2261e-10 - accuracy: 1.0000 - val_loss: 4.8033 - val_accuracy: 0.7400\n",
            "Epoch 144/150\n",
            "60/60 [==============================] - 3s 43ms/step - loss: 5.1793e-10 - accuracy: 1.0000 - val_loss: 4.8048 - val_accuracy: 0.7400\n",
            "Epoch 145/150\n",
            "60/60 [==============================] - 3s 42ms/step - loss: 5.3739e-10 - accuracy: 1.0000 - val_loss: 4.8063 - val_accuracy: 0.7400\n",
            "Epoch 146/150\n",
            "60/60 [==============================] - 3s 43ms/step - loss: 4.8426e-10 - accuracy: 1.0000 - val_loss: 4.8078 - val_accuracy: 0.7390\n",
            "Epoch 147/150\n",
            "60/60 [==============================] - 3s 42ms/step - loss: 4.4372e-10 - accuracy: 1.0000 - val_loss: 4.8094 - val_accuracy: 0.7390\n",
            "Epoch 148/150\n",
            "60/60 [==============================] - 3s 42ms/step - loss: 4.6167e-10 - accuracy: 1.0000 - val_loss: 4.8070 - val_accuracy: 0.7390\n",
            "Epoch 149/150\n",
            "60/60 [==============================] - 3s 43ms/step - loss: 3.8263e-10 - accuracy: 1.0000 - val_loss: 4.8079 - val_accuracy: 0.7390\n",
            "Epoch 150/150\n",
            "60/60 [==============================] - 3s 42ms/step - loss: 4.1598e-10 - accuracy: 1.0000 - val_loss: 4.8089 - val_accuracy: 0.7390\n"
          ],
          "name": "stdout"
        }
      ]
    },
    {
      "cell_type": "code",
      "metadata": {
        "colab": {
          "base_uri": "https://localhost:8080/",
          "height": 308
        },
        "id": "fPzPmTkB5OpM",
        "outputId": "84ecb67a-2d55-42d2-cf43-f0ac06b00b20"
      },
      "source": [
        "f, (ax1, ax2) = plt.subplots(1, 2, figsize=(12, 4))\r\n",
        "t = f.suptitle('Basic CNN Performance', fontsize=12)\r\n",
        "f.subplots_adjust(top=0.85, wspace=0.3)\r\n",
        "\r\n",
        "epoch_list = list(range(1, 151))\r\n",
        "ax1.plot(epoch_list, history.history['accuracy'], label='Train Accuracy')\r\n",
        "ax1.plot(epoch_list, history.history['val_accuracy'], label='Validation Accuracy')\r\n",
        "ax1.set_xticks(np.arange(0, 151, 5))\r\n",
        "ax1.set_ylabel('Accuracy Value')\r\n",
        "ax1.set_xlabel('Epoch')\r\n",
        "ax1.set_title('Accuracy')\r\n",
        "l1 = ax1.legend(loc=\"best\")\r\n",
        "\r\n",
        "ax2.plot(epoch_list, history.history['loss'], label='Train Loss')\r\n",
        "ax2.plot(epoch_list, history.history['val_loss'], label='Validation Loss')\r\n",
        "ax2.set_xticks(np.arange(0, 151, 5))\r\n",
        "ax2.set_ylabel('Loss Value')\r\n",
        "ax2.set_xlabel('Epoch')\r\n",
        "ax2.set_title('Loss')\r\n",
        "l2 = ax2.legend(loc=\"best\")"
      ],
      "execution_count": 21,
      "outputs": [
        {
          "output_type": "display_data",
          "data": {
            "image/png": "[encoded data removed]",
            "text/plain": [
              "<Figure size 864x288 with 2 Axes>"
            ]
          },
          "metadata": {
            "tags": [],
            "needs_background": "light"
          }
        }
      ]
    },
    {
      "cell_type": "code",
      "metadata": {
        "id": "ZoH5AoiA5Rby"
      },
      "source": [
        "model.save('1-basic-cnn.h5')"
      ],
      "execution_count": 24,
      "outputs": []
    }
  ]
}