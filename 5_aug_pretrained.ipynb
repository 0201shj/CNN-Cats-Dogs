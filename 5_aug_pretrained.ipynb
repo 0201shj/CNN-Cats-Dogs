{
  "nbformat": 4,
  "nbformat_minor": 0,
  "metadata": {
    "kernelspec": {
      "display_name": "Python 3",
      "language": "python",
      "name": "python3"
    },
    "language_info": {
      "codemirror_mode": {
        "name": "ipython",
        "version": 3
      },
      "file_extension": ".py",
      "mimetype": "text/x-python",
      "name": "python",
      "nbconvert_exporter": "python",
      "pygments_lexer": "ipython3",
      "version": "3.7.6"
    },
    "colab": {
      "name": "5-aug-pretrained.ipynb",
      "provenance": [],
      "collapsed_sections": [],
      "include_colab_link": true
    },
    "accelerator": "GPU"
  },
  "cells": [
    {
      "cell_type": "markdown",
      "metadata": {
        "id": "view-in-github",
        "colab_type": "text"
      },
      "source": [
        "<a href=\"https://colab.research.google.com/github/0201shj/CNN-Cats-Dogs/blob/main/5_aug_pretrained.ipynb\" target=\"_parent\"><img src=\"https://colab.research.google.com/assets/colab-badge.svg\" alt=\"Open In Colab\"/></a>"
      ]
    },
    {
      "cell_type": "code",
      "metadata": {
        "colab": {
          "base_uri": "https://localhost:8080/"
        },
        "id": "22mg_PXnCKsU",
        "outputId": "c8cb4024-e8b3-403f-d9cd-b4e62a9d7498"
      },
      "source": [
        "from google.colab import drive\n",
        "drive.mount('/content/drive')"
      ],
      "execution_count": 1,
      "outputs": [
        {
          "output_type": "stream",
          "text": [
            "Mounted at /content/drive\n"
          ],
          "name": "stdout"
        }
      ]
    },
    {
      "cell_type": "code",
      "metadata": {
        "id": "6giq8ls1A3jN"
      },
      "source": [
        "%matplotlib inline"
      ],
      "execution_count": 2,
      "outputs": []
    },
    {
      "cell_type": "code",
      "metadata": {
        "id": "B9GBtXmwA47m",
        "colab": {
          "base_uri": "https://localhost:8080/"
        },
        "outputId": "1e788516-2465-4923-956f-2905c9dc5f88"
      },
      "source": [
        "!ls -l"
      ],
      "execution_count": 3,
      "outputs": [
        {
          "output_type": "stream",
          "text": [
            "total 8\n",
            "drwx------ 5 root root 4096 Jan 25 01:23 drive\n",
            "drwxr-xr-x 1 root root 4096 Jan 20 17:27 sample_data\n"
          ],
          "name": "stdout"
        }
      ]
    },
    {
      "cell_type": "code",
      "metadata": {
        "id": "AEJfrotXA58E"
      },
      "source": [
        "!unzip training_data.zip"
      ],
      "execution_count": null,
      "outputs": []
    },
    {
      "cell_type": "code",
      "metadata": {
        "id": "O5M05p_pA5rd"
      },
      "source": [
        "!unzip validation_data.zip"
      ],
      "execution_count": null,
      "outputs": []
    },
    {
      "cell_type": "code",
      "metadata": {
        "id": "KPy5I5SBA3jW"
      },
      "source": [
        "import glob\n",
        "import numpy as np\n",
        "import matplotlib.pyplot as plt\n",
        "from tensorflow.keras.preprocessing.image import ImageDataGenerator, load_img, img_to_array, array_to_img"
      ],
      "execution_count": 7,
      "outputs": []
    },
    {
      "cell_type": "code",
      "metadata": {
        "id": "eZImnfGOA3jX",
        "colab": {
          "base_uri": "https://localhost:8080/"
        },
        "outputId": "2cbae24c-48aa-4881-df58-eb6a4ddb38f8"
      },
      "source": [
        "IMG_DIM = (150, 150)\n",
        "\n",
        "train_files = glob.glob('training_data/*')\n",
        "train_imgs = [img_to_array(load_img(img, target_size=IMG_DIM)) for img in train_files]\n",
        "train_imgs = np.array(train_imgs)\n",
        "train_labels = [fn.split('/')[1].split('.')[0].strip() for fn in train_files]\n",
        "\n",
        "validation_files = glob.glob('validation_data/*')\n",
        "validation_imgs = [img_to_array(load_img(img, target_size=IMG_DIM)) for img in validation_files]\n",
        "validation_imgs = np.array(validation_imgs)\n",
        "validation_labels = [fn.split('/')[1].split('.')[0].strip() for fn in validation_files]\n",
        "\n",
        "print('Train dataset shape:', train_imgs.shape, \n",
        "      '\\tValidation dataset shape:', validation_imgs.shape)"
      ],
      "execution_count": 8,
      "outputs": [
        {
          "output_type": "stream",
          "text": [
            "Train dataset shape: (3000, 150, 150, 3) \tValidation dataset shape: (1000, 150, 150, 3)\n"
          ],
          "name": "stdout"
        }
      ]
    },
    {
      "cell_type": "code",
      "metadata": {
        "id": "OiDa5o60A3jX"
      },
      "source": [
        "train_imgs_scaled = train_imgs.astype('float32')\n",
        "validation_imgs_scaled = validation_imgs.astype('float32')\n",
        "train_imgs_scaled /= 255\n",
        "validation_imgs_scaled /= 255"
      ],
      "execution_count": 9,
      "outputs": []
    },
    {
      "cell_type": "code",
      "metadata": {
        "id": "COLKZn79A3jY",
        "colab": {
          "base_uri": "https://localhost:8080/"
        },
        "outputId": "0dd1cf52-cc7e-4ff6-d607-21bef1b48cc8"
      },
      "source": [
        "batch_size = 50\n",
        "num_classes = 2\n",
        "epochs = 100\n",
        "input_shape = (150, 150, 3)\n",
        "\n",
        "from sklearn.preprocessing import LabelEncoder\n",
        "\n",
        "le = LabelEncoder()\n",
        "le.fit(train_labels)\n",
        "# encode wine type labels\n",
        "train_labels_enc = le.transform(train_labels)\n",
        "validation_labels_enc = le.transform(validation_labels)\n",
        "\n",
        "print(train_labels[0:5], train_labels_enc[0:5])"
      ],
      "execution_count": 10,
      "outputs": [
        {
          "output_type": "stream",
          "text": [
            "['dog', 'cat', 'dog', 'dog', 'cat'] [1 0 1 1 0]\n"
          ],
          "name": "stdout"
        }
      ]
    },
    {
      "cell_type": "code",
      "metadata": {
        "id": "Ieppy25xFE_N"
      },
      "source": [
        ""
      ],
      "execution_count": null,
      "outputs": []
    },
    {
      "cell_type": "code",
      "metadata": {
        "id": "j0wF41XlFEu9"
      },
      "source": [
        "train_datagen = ImageDataGenerator( zoom_range=0.3, rotation_range=50,  # rescale=1./255,\r\n",
        "                                   width_shift_range=0.2, height_shift_range=0.2, shear_range=0.2, \r\n",
        "                                   horizontal_flip=True, fill_mode='nearest')\r\n",
        "\r\n",
        "val_datagen = ImageDataGenerator() # rescale=1./255\r\n",
        "\r\n",
        "train_generator = train_datagen.flow(train_imgs, train_labels_enc, batch_size=30)\r\n",
        "val_generator = val_datagen.flow(validation_imgs, validation_labels_enc, batch_size=20)"
      ],
      "execution_count": 11,
      "outputs": []
    },
    {
      "cell_type": "code",
      "metadata": {
        "id": "wDDCzCWzFEDf"
      },
      "source": [
        ""
      ],
      "execution_count": null,
      "outputs": []
    },
    {
      "cell_type": "code",
      "metadata": {
        "id": "9fVVMivMA3jZ",
        "colab": {
          "base_uri": "https://localhost:8080/"
        },
        "outputId": "b3a291a6-301b-4b60-fc9a-87cc0019f25b"
      },
      "source": [
        "\n",
        "from tensorflow.keras.applications import vgg16\n",
        "from tensorflow.keras.models import Model\n",
        "import tensorflow.keras\n",
        "\n",
        "vgg = vgg16.VGG16(include_top=False, weights='imagenet',\n",
        "                                     input_shape=input_shape)\n",
        "\n",
        "output = vgg.layers[-1].output\n",
        "output = tensorflow.keras.layers.Flatten()(output)\n",
        "\n",
        "vgg_model = Model(vgg.input, output)\n",
        "vgg_model.trainable = False\n",
        "\n",
        "for layer in vgg_model.layers:\n",
        "    layer.trainable = False\n",
        "\n",
        "vgg_model.summary()\n"
      ],
      "execution_count": 12,
      "outputs": [
        {
          "output_type": "stream",
          "text": [
            "Downloading data from https://storage.googleapis.com/tensorflow/keras-applications/vgg16/vgg16_weights_tf_dim_ordering_tf_kernels_notop.h5\n",
            "58892288/58889256 [==============================] - 0s 0us/step\n",
            "Model: \"model\"\n",
            "_________________________________________________________________\n",
            "Layer (type)                 Output Shape              Param #   \n",
            "=================================================================\n",
            "input_1 (InputLayer)         [(None, 150, 150, 3)]     0         \n",
            "_________________________________________________________________\n",
            "block1_conv1 (Conv2D)        (None, 150, 150, 64)      1792      \n",
            "_________________________________________________________________\n",
            "block1_conv2 (Conv2D)        (None, 150, 150, 64)      36928     \n",
            "_________________________________________________________________\n",
            "block1_pool (MaxPooling2D)   (None, 75, 75, 64)        0         \n",
            "_________________________________________________________________\n",
            "block2_conv1 (Conv2D)        (None, 75, 75, 128)       73856     \n",
            "_________________________________________________________________\n",
            "block2_conv2 (Conv2D)        (None, 75, 75, 128)       147584    \n",
            "_________________________________________________________________\n",
            "block2_pool (MaxPooling2D)   (None, 37, 37, 128)       0         \n",
            "_________________________________________________________________\n",
            "block3_conv1 (Conv2D)        (None, 37, 37, 256)       295168    \n",
            "_________________________________________________________________\n",
            "block3_conv2 (Conv2D)        (None, 37, 37, 256)       590080    \n",
            "_________________________________________________________________\n",
            "block3_conv3 (Conv2D)        (None, 37, 37, 256)       590080    \n",
            "_________________________________________________________________\n",
            "block3_pool (MaxPooling2D)   (None, 18, 18, 256)       0         \n",
            "_________________________________________________________________\n",
            "block4_conv1 (Conv2D)        (None, 18, 18, 512)       1180160   \n",
            "_________________________________________________________________\n",
            "block4_conv2 (Conv2D)        (None, 18, 18, 512)       2359808   \n",
            "_________________________________________________________________\n",
            "block4_conv3 (Conv2D)        (None, 18, 18, 512)       2359808   \n",
            "_________________________________________________________________\n",
            "block4_pool (MaxPooling2D)   (None, 9, 9, 512)         0         \n",
            "_________________________________________________________________\n",
            "block5_conv1 (Conv2D)        (None, 9, 9, 512)         2359808   \n",
            "_________________________________________________________________\n",
            "block5_conv2 (Conv2D)        (None, 9, 9, 512)         2359808   \n",
            "_________________________________________________________________\n",
            "block5_conv3 (Conv2D)        (None, 9, 9, 512)         2359808   \n",
            "_________________________________________________________________\n",
            "block5_pool (MaxPooling2D)   (None, 4, 4, 512)         0         \n",
            "_________________________________________________________________\n",
            "flatten (Flatten)            (None, 8192)              0         \n",
            "=================================================================\n",
            "Total params: 14,714,688\n",
            "Trainable params: 0\n",
            "Non-trainable params: 14,714,688\n",
            "_________________________________________________________________\n"
          ],
          "name": "stdout"
        }
      ]
    },
    {
      "cell_type": "code",
      "metadata": {
        "id": "c6M8SjAvDA8O"
      },
      "source": [
        "vgg_model.trainable = True\r\n",
        "\r\n",
        "set_trainable = False\r\n",
        "for layer in vgg_model.layers:\r\n",
        "    if layer.name in ['block5_conv1', 'block4_conv1']:\r\n",
        "        set_trainable = True\r\n",
        "    if set_trainable:\r\n",
        "        layer.trainable = True\r\n",
        "    else:\r\n",
        "        layer.trainable = False\r\n",
        "        \r\n",
        "print(\"Trainable layers:\", vgg_model.trainable_weights)"
      ],
      "execution_count": null,
      "outputs": []
    },
    {
      "cell_type": "code",
      "metadata": {
        "id": "T9SDjC3EA3jZ",
        "colab": {
          "base_uri": "https://localhost:8080/",
          "height": 694
        },
        "outputId": "097bed7c-c932-4dd0-debb-eacc00d5ce55"
      },
      "source": [
        "import pandas as pd\n",
        "pd.set_option('max_colwidth', -1)\n",
        "\n",
        "layers = [(layer, layer.name, layer.trainable) for layer in vgg_model.layers]\n",
        "pd.DataFrame(layers, columns=['Layer Type', 'Layer Name', 'Layer Trainable'])"
      ],
      "execution_count": 14,
      "outputs": [
        {
          "output_type": "stream",
          "text": [
            "/usr/local/lib/python3.6/dist-packages/ipykernel_launcher.py:2: FutureWarning: Passing a negative integer is deprecated in version 1.0 and will not be supported in future version. Instead, use None to not limit the column width.\n",
            "  \n"
          ],
          "name": "stderr"
        },
        {
          "output_type": "execute_result",
          "data": {
            "text/html": [
              "<div>\n",
              "<style scoped>\n",
              "    .dataframe tbody tr th:only-of-type {\n",
              "        vertical-align: middle;\n",
              "    }\n",
              "\n",
              "    .dataframe tbody tr th {\n",
              "        vertical-align: top;\n",
              "    }\n",
              "\n",
              "    .dataframe thead th {\n",
              "        text-align: right;\n",
              "    }\n",
              "</style>\n",
              "<table border=\"1\" class=\"dataframe\">\n",
              "  <thead>\n",
              "    <tr style=\"text-align: right;\">\n",
              "      <th></th>\n",
              "      <th>Layer Type</th>\n",
              "      <th>Layer Name</th>\n",
              "      <th>Layer Trainable</th>\n",
              "    </tr>\n",
              "  </thead>\n",
              "  <tbody>\n",
              "    <tr>\n",
              "      <th>0</th>\n",
              "      <td>&lt;tensorflow.python.keras.engine.input_layer.InputLayer object at 0x7fb8432be390&gt;</td>\n",
              "      <td>input_1</td>\n",
              "      <td>False</td>\n",
              "    </tr>\n",
              "    <tr>\n",
              "      <th>1</th>\n",
              "      <td>&lt;tensorflow.python.keras.layers.convolutional.Conv2D object at 0x7fb84325e470&gt;</td>\n",
              "      <td>block1_conv1</td>\n",
              "      <td>False</td>\n",
              "    </tr>\n",
              "    <tr>\n",
              "      <th>2</th>\n",
              "      <td>&lt;tensorflow.python.keras.layers.convolutional.Conv2D object at 0x7fb84325efd0&gt;</td>\n",
              "      <td>block1_conv2</td>\n",
              "      <td>False</td>\n",
              "    </tr>\n",
              "    <tr>\n",
              "      <th>3</th>\n",
              "      <td>&lt;tensorflow.python.keras.layers.pooling.MaxPooling2D object at 0x7fb830161828&gt;</td>\n",
              "      <td>block1_pool</td>\n",
              "      <td>False</td>\n",
              "    </tr>\n",
              "    <tr>\n",
              "      <th>4</th>\n",
              "      <td>&lt;tensorflow.python.keras.layers.convolutional.Conv2D object at 0x7fb8301617f0&gt;</td>\n",
              "      <td>block2_conv1</td>\n",
              "      <td>False</td>\n",
              "    </tr>\n",
              "    <tr>\n",
              "      <th>5</th>\n",
              "      <td>&lt;tensorflow.python.keras.layers.convolutional.Conv2D object at 0x7fb830165e10&gt;</td>\n",
              "      <td>block2_conv2</td>\n",
              "      <td>False</td>\n",
              "    </tr>\n",
              "    <tr>\n",
              "      <th>6</th>\n",
              "      <td>&lt;tensorflow.python.keras.layers.pooling.MaxPooling2D object at 0x7fb830170eb8&gt;</td>\n",
              "      <td>block2_pool</td>\n",
              "      <td>False</td>\n",
              "    </tr>\n",
              "    <tr>\n",
              "      <th>7</th>\n",
              "      <td>&lt;tensorflow.python.keras.layers.convolutional.Conv2D object at 0x7fb8301733c8&gt;</td>\n",
              "      <td>block3_conv1</td>\n",
              "      <td>False</td>\n",
              "    </tr>\n",
              "    <tr>\n",
              "      <th>8</th>\n",
              "      <td>&lt;tensorflow.python.keras.layers.convolutional.Conv2D object at 0x7fb8301700b8&gt;</td>\n",
              "      <td>block3_conv2</td>\n",
              "      <td>False</td>\n",
              "    </tr>\n",
              "    <tr>\n",
              "      <th>9</th>\n",
              "      <td>&lt;tensorflow.python.keras.layers.convolutional.Conv2D object at 0x7fb83017a518&gt;</td>\n",
              "      <td>block3_conv3</td>\n",
              "      <td>False</td>\n",
              "    </tr>\n",
              "    <tr>\n",
              "      <th>10</th>\n",
              "      <td>&lt;tensorflow.python.keras.layers.pooling.MaxPooling2D object at 0x7fb830183550&gt;</td>\n",
              "      <td>block3_pool</td>\n",
              "      <td>False</td>\n",
              "    </tr>\n",
              "    <tr>\n",
              "      <th>11</th>\n",
              "      <td>&lt;tensorflow.python.keras.layers.convolutional.Conv2D object at 0x7fb830165b00&gt;</td>\n",
              "      <td>block4_conv1</td>\n",
              "      <td>True</td>\n",
              "    </tr>\n",
              "    <tr>\n",
              "      <th>12</th>\n",
              "      <td>&lt;tensorflow.python.keras.layers.convolutional.Conv2D object at 0x7fb83018aa58&gt;</td>\n",
              "      <td>block4_conv2</td>\n",
              "      <td>True</td>\n",
              "    </tr>\n",
              "    <tr>\n",
              "      <th>13</th>\n",
              "      <td>&lt;tensorflow.python.keras.layers.convolutional.Conv2D object at 0x7fb830190da0&gt;</td>\n",
              "      <td>block4_conv3</td>\n",
              "      <td>True</td>\n",
              "    </tr>\n",
              "    <tr>\n",
              "      <th>14</th>\n",
              "      <td>&lt;tensorflow.python.keras.layers.pooling.MaxPooling2D object at 0x7fb8301909e8&gt;</td>\n",
              "      <td>block4_pool</td>\n",
              "      <td>True</td>\n",
              "    </tr>\n",
              "    <tr>\n",
              "      <th>15</th>\n",
              "      <td>&lt;tensorflow.python.keras.layers.convolutional.Conv2D object at 0x7fb830197208&gt;</td>\n",
              "      <td>block5_conv1</td>\n",
              "      <td>True</td>\n",
              "    </tr>\n",
              "    <tr>\n",
              "      <th>16</th>\n",
              "      <td>&lt;tensorflow.python.keras.layers.convolutional.Conv2D object at 0x7fb8301967f0&gt;</td>\n",
              "      <td>block5_conv2</td>\n",
              "      <td>True</td>\n",
              "    </tr>\n",
              "    <tr>\n",
              "      <th>17</th>\n",
              "      <td>&lt;tensorflow.python.keras.layers.convolutional.Conv2D object at 0x7fb830125f98&gt;</td>\n",
              "      <td>block5_conv3</td>\n",
              "      <td>True</td>\n",
              "    </tr>\n",
              "    <tr>\n",
              "      <th>18</th>\n",
              "      <td>&lt;tensorflow.python.keras.layers.pooling.MaxPooling2D object at 0x7fb83017a668&gt;</td>\n",
              "      <td>block5_pool</td>\n",
              "      <td>True</td>\n",
              "    </tr>\n",
              "    <tr>\n",
              "      <th>19</th>\n",
              "      <td>&lt;tensorflow.python.keras.layers.core.Flatten object at 0x7fb8301966d8&gt;</td>\n",
              "      <td>flatten</td>\n",
              "      <td>True</td>\n",
              "    </tr>\n",
              "  </tbody>\n",
              "</table>\n",
              "</div>"
            ],
            "text/plain": [
              "                                                                          Layer Type  ... Layer Trainable\n",
              "0   <tensorflow.python.keras.engine.input_layer.InputLayer object at 0x7fb8432be390>  ...  False         \n",
              "1   <tensorflow.python.keras.layers.convolutional.Conv2D object at 0x7fb84325e470>    ...  False         \n",
              "2   <tensorflow.python.keras.layers.convolutional.Conv2D object at 0x7fb84325efd0>    ...  False         \n",
              "3   <tensorflow.python.keras.layers.pooling.MaxPooling2D object at 0x7fb830161828>    ...  False         \n",
              "4   <tensorflow.python.keras.layers.convolutional.Conv2D object at 0x7fb8301617f0>    ...  False         \n",
              "5   <tensorflow.python.keras.layers.convolutional.Conv2D object at 0x7fb830165e10>    ...  False         \n",
              "6   <tensorflow.python.keras.layers.pooling.MaxPooling2D object at 0x7fb830170eb8>    ...  False         \n",
              "7   <tensorflow.python.keras.layers.convolutional.Conv2D object at 0x7fb8301733c8>    ...  False         \n",
              "8   <tensorflow.python.keras.layers.convolutional.Conv2D object at 0x7fb8301700b8>    ...  False         \n",
              "9   <tensorflow.python.keras.layers.convolutional.Conv2D object at 0x7fb83017a518>    ...  False         \n",
              "10  <tensorflow.python.keras.layers.pooling.MaxPooling2D object at 0x7fb830183550>    ...  False         \n",
              "11  <tensorflow.python.keras.layers.convolutional.Conv2D object at 0x7fb830165b00>    ...  True          \n",
              "12  <tensorflow.python.keras.layers.convolutional.Conv2D object at 0x7fb83018aa58>    ...  True          \n",
              "13  <tensorflow.python.keras.layers.convolutional.Conv2D object at 0x7fb830190da0>    ...  True          \n",
              "14  <tensorflow.python.keras.layers.pooling.MaxPooling2D object at 0x7fb8301909e8>    ...  True          \n",
              "15  <tensorflow.python.keras.layers.convolutional.Conv2D object at 0x7fb830197208>    ...  True          \n",
              "16  <tensorflow.python.keras.layers.convolutional.Conv2D object at 0x7fb8301967f0>    ...  True          \n",
              "17  <tensorflow.python.keras.layers.convolutional.Conv2D object at 0x7fb830125f98>    ...  True          \n",
              "18  <tensorflow.python.keras.layers.pooling.MaxPooling2D object at 0x7fb83017a668>    ...  True          \n",
              "19  <tensorflow.python.keras.layers.core.Flatten object at 0x7fb8301966d8>            ...  True          \n",
              "\n",
              "[20 rows x 3 columns]"
            ]
          },
          "metadata": {
            "tags": []
          },
          "execution_count": 14
        }
      ]
    },
    {
      "cell_type": "code",
      "metadata": {
        "id": "hJxdtonlDK1Y"
      },
      "source": [
        ""
      ],
      "execution_count": null,
      "outputs": []
    },
    {
      "cell_type": "code",
      "metadata": {
        "id": "OvJvrtrgA3ja"
      },
      "source": [
        "#print(\"Trainable layers:\", vgg_model.trainable_weights)"
      ],
      "execution_count": null,
      "outputs": []
    },
    {
      "cell_type": "code",
      "metadata": {
        "id": "J_Zbyst4A3ja",
        "colab": {
          "base_uri": "https://localhost:8080/",
          "height": 304
        },
        "outputId": "84674a38-6130-43e3-e928-2c9218cadb97"
      },
      "source": [
        "bottleneck_feature_example = vgg.predict(train_imgs_scaled[0:1])\n",
        "print(bottleneck_feature_example.shape)\n",
        "plt.imshow(bottleneck_feature_example[0][:,:,0])"
      ],
      "execution_count": 27,
      "outputs": [
        {
          "output_type": "stream",
          "text": [
            "(1, 4, 4, 512)\n"
          ],
          "name": "stdout"
        },
        {
          "output_type": "execute_result",
          "data": {
            "text/plain": [
              "<matplotlib.image.AxesImage at 0x7fb7e2560da0>"
            ]
          },
          "metadata": {
            "tags": []
          },
          "execution_count": 27
        },
        {
          "output_type": "display_data",
          "data": {
            "image/png": "[encoded data removed]",
            "text/plain": [
              "<Figure size 432x288 with 1 Axes>"
            ]
          },
          "metadata": {
            "tags": [],
            "needs_background": "light"
          }
        }
      ]
    },
    {
      "cell_type": "code",
      "metadata": {
        "id": "_8LY2OOaA3jb"
      },
      "source": [
        "def get_bottleneck_features(model, input_imgs):\n",
        "    \n",
        "    features = model.predict(input_imgs, verbose=0)\n",
        "    return features"
      ],
      "execution_count": 16,
      "outputs": []
    },
    {
      "cell_type": "code",
      "metadata": {
        "id": "8sekjWocA3jb",
        "colab": {
          "base_uri": "https://localhost:8080/"
        },
        "outputId": "97508116-2962-4fb4-bb31-0bc45d73e862"
      },
      "source": [
        "train_features_vgg = get_bottleneck_features(vgg_model, train_imgs_scaled)\n",
        "validation_features_vgg = get_bottleneck_features(vgg_model, validation_imgs_scaled)\n",
        "\n",
        "print('Train Bottleneck Features:', train_features_vgg.shape, \n",
        "      '\\tValidation Bottleneck Features:', validation_features_vgg.shape)"
      ],
      "execution_count": 17,
      "outputs": [
        {
          "output_type": "stream",
          "text": [
            "Train Bottleneck Features: (3000, 8192) \tValidation Bottleneck Features: (1000, 8192)\n"
          ],
          "name": "stdout"
        }
      ]
    },
    {
      "cell_type": "code",
      "metadata": {
        "id": "unerLhrzF2HL"
      },
      "source": [
        ""
      ],
      "execution_count": null,
      "outputs": []
    },
    {
      "cell_type": "code",
      "metadata": {
        "id": "qyFijnDhGBjn",
        "colab": {
          "base_uri": "https://localhost:8080/"
        },
        "outputId": "a3b282c0-f09a-4aae-a6c5-81e718cce57e"
      },
      "source": [
        "from tensorflow.keras.layers import Conv2D, MaxPooling2D, Flatten, Dense, Dropout, InputLayer\r\n",
        "from tensorflow.keras.models import Sequential\r\n",
        "from tensorflow.keras import optimizers\r\n",
        "\r\n",
        "model = Sequential()\r\n",
        "model.add(vgg_model)\r\n",
        "model.add(Dense(512, activation='relu', input_dim=input_shape))\r\n",
        "model.add(Dropout(0.3))\r\n",
        "model.add(Dense(512, activation='relu'))\r\n",
        "model.add(Dropout(0.3))\r\n",
        "model.add(Dense(1, activation='sigmoid'))\r\n",
        "\r\n",
        "model.compile(loss='binary_crossentropy',\r\n",
        "              optimizer=optimizers.RMSprop(lr=2e-5),\r\n",
        "              metrics=['accuracy'])\r\n",
        "\r\n",
        "model.summary()"
      ],
      "execution_count": 18,
      "outputs": [
        {
          "output_type": "stream",
          "text": [
            "Model: \"sequential\"\n",
            "_________________________________________________________________\n",
            "Layer (type)                 Output Shape              Param #   \n",
            "=================================================================\n",
            "model (Functional)           (None, 8192)              14714688  \n",
            "_________________________________________________________________\n",
            "dense (Dense)                (None, 512)               4194816   \n",
            "_________________________________________________________________\n",
            "dropout (Dropout)            (None, 512)               0         \n",
            "_________________________________________________________________\n",
            "dense_1 (Dense)              (None, 512)               262656    \n",
            "_________________________________________________________________\n",
            "dropout_1 (Dropout)          (None, 512)               0         \n",
            "_________________________________________________________________\n",
            "dense_2 (Dense)              (None, 1)                 513       \n",
            "=================================================================\n",
            "Total params: 19,172,673\n",
            "Trainable params: 17,437,185\n",
            "Non-trainable params: 1,735,488\n",
            "_________________________________________________________________\n"
          ],
          "name": "stdout"
        }
      ]
    },
    {
      "cell_type": "code",
      "metadata": {
        "id": "oXhFf4HLA3jc",
        "colab": {
          "base_uri": "https://localhost:8080/"
        },
        "outputId": "10456c5b-8e75-4629-ad9c-82597348a283"
      },
      "source": [
        "history = model.fit_generator(train_generator,  epochs=epochs,\r\n",
        "                              validation_data=val_generator,  verbose=1)"
      ],
      "execution_count": 19,
      "outputs": [
        {
          "output_type": "stream",
          "text": [
            "/usr/local/lib/python3.6/dist-packages/tensorflow/python/keras/engine/training.py:1844: UserWarning: `Model.fit_generator` is deprecated and will be removed in a future version. Please use `Model.fit`, which supports generators.\n",
            "  warnings.warn('`Model.fit_generator` is deprecated and '\n"
          ],
          "name": "stderr"
        },
        {
          "output_type": "stream",
          "text": [
            "Epoch 1/100\n",
            "100/100 [==============================] - 23s 209ms/step - loss: 2.4595 - accuracy: 0.5871 - val_loss: 0.2786 - val_accuracy: 0.8770\n",
            "Epoch 2/100\n",
            "100/100 [==============================] - 20s 200ms/step - loss: 0.5046 - accuracy: 0.7597 - val_loss: 0.1548 - val_accuracy: 0.9410\n",
            "Epoch 3/100\n",
            "100/100 [==============================] - 20s 201ms/step - loss: 0.3325 - accuracy: 0.8515 - val_loss: 0.3469 - val_accuracy: 0.9050\n",
            "Epoch 4/100\n",
            "100/100 [==============================] - 20s 203ms/step - loss: 0.2760 - accuracy: 0.8861 - val_loss: 0.1852 - val_accuracy: 0.9270\n",
            "Epoch 5/100\n",
            "100/100 [==============================] - 20s 201ms/step - loss: 0.2156 - accuracy: 0.9137 - val_loss: 0.1881 - val_accuracy: 0.9340\n",
            "Epoch 6/100\n",
            "100/100 [==============================] - 20s 203ms/step - loss: 0.1948 - accuracy: 0.9120 - val_loss: 0.1882 - val_accuracy: 0.9340\n",
            "Epoch 7/100\n",
            "100/100 [==============================] - 20s 203ms/step - loss: 0.1814 - accuracy: 0.9265 - val_loss: 0.3713 - val_accuracy: 0.9330\n",
            "Epoch 8/100\n",
            "100/100 [==============================] - 20s 202ms/step - loss: 0.1581 - accuracy: 0.9354 - val_loss: 0.1313 - val_accuracy: 0.9640\n",
            "Epoch 9/100\n",
            "100/100 [==============================] - 20s 202ms/step - loss: 0.1586 - accuracy: 0.9362 - val_loss: 0.1281 - val_accuracy: 0.9660\n",
            "Epoch 10/100\n",
            "100/100 [==============================] - 20s 203ms/step - loss: 0.1642 - accuracy: 0.9328 - val_loss: 0.1294 - val_accuracy: 0.9630\n",
            "Epoch 11/100\n",
            "100/100 [==============================] - 20s 201ms/step - loss: 0.1586 - accuracy: 0.9360 - val_loss: 0.1707 - val_accuracy: 0.9610\n",
            "Epoch 12/100\n",
            "100/100 [==============================] - 20s 202ms/step - loss: 0.1191 - accuracy: 0.9554 - val_loss: 0.1374 - val_accuracy: 0.9650\n",
            "Epoch 13/100\n",
            "100/100 [==============================] - 20s 201ms/step - loss: 0.1302 - accuracy: 0.9511 - val_loss: 0.2116 - val_accuracy: 0.9550\n",
            "Epoch 14/100\n",
            "100/100 [==============================] - 20s 202ms/step - loss: 0.1315 - accuracy: 0.9446 - val_loss: 0.1837 - val_accuracy: 0.9600\n",
            "Epoch 15/100\n",
            "100/100 [==============================] - 20s 202ms/step - loss: 0.1140 - accuracy: 0.9624 - val_loss: 0.1365 - val_accuracy: 0.9570\n",
            "Epoch 16/100\n",
            "100/100 [==============================] - 20s 201ms/step - loss: 0.0982 - accuracy: 0.9618 - val_loss: 0.2458 - val_accuracy: 0.9520\n",
            "Epoch 17/100\n",
            "100/100 [==============================] - 20s 203ms/step - loss: 0.0953 - accuracy: 0.9694 - val_loss: 0.3624 - val_accuracy: 0.9440\n",
            "Epoch 18/100\n",
            "100/100 [==============================] - 20s 202ms/step - loss: 0.1129 - accuracy: 0.9610 - val_loss: 0.1330 - val_accuracy: 0.9660\n",
            "Epoch 19/100\n",
            "100/100 [==============================] - 20s 202ms/step - loss: 0.0918 - accuracy: 0.9694 - val_loss: 0.1600 - val_accuracy: 0.9600\n",
            "Epoch 20/100\n",
            "100/100 [==============================] - 20s 202ms/step - loss: 0.1255 - accuracy: 0.9580 - val_loss: 0.1452 - val_accuracy: 0.9670\n",
            "Epoch 21/100\n",
            "100/100 [==============================] - 20s 201ms/step - loss: 0.0833 - accuracy: 0.9694 - val_loss: 0.2398 - val_accuracy: 0.9540\n",
            "Epoch 22/100\n",
            "100/100 [==============================] - 20s 202ms/step - loss: 0.1108 - accuracy: 0.9639 - val_loss: 0.3668 - val_accuracy: 0.9490\n",
            "Epoch 23/100\n",
            "100/100 [==============================] - 20s 203ms/step - loss: 0.0783 - accuracy: 0.9762 - val_loss: 0.7785 - val_accuracy: 0.9270\n",
            "Epoch 24/100\n",
            "100/100 [==============================] - 20s 201ms/step - loss: 0.0951 - accuracy: 0.9660 - val_loss: 0.2488 - val_accuracy: 0.9650\n",
            "Epoch 25/100\n",
            "100/100 [==============================] - 20s 201ms/step - loss: 0.0834 - accuracy: 0.9735 - val_loss: 0.4613 - val_accuracy: 0.9380\n",
            "Epoch 26/100\n",
            "100/100 [==============================] - 20s 202ms/step - loss: 0.0903 - accuracy: 0.9677 - val_loss: 0.2577 - val_accuracy: 0.9680\n",
            "Epoch 27/100\n",
            "100/100 [==============================] - 20s 202ms/step - loss: 0.0715 - accuracy: 0.9736 - val_loss: 0.2867 - val_accuracy: 0.9650\n",
            "Epoch 28/100\n",
            "100/100 [==============================] - 20s 202ms/step - loss: 0.0776 - accuracy: 0.9700 - val_loss: 0.3989 - val_accuracy: 0.9460\n",
            "Epoch 29/100\n",
            "100/100 [==============================] - 20s 202ms/step - loss: 0.0983 - accuracy: 0.9663 - val_loss: 0.1703 - val_accuracy: 0.9560\n",
            "Epoch 30/100\n",
            "100/100 [==============================] - 20s 202ms/step - loss: 0.1082 - accuracy: 0.9702 - val_loss: 0.4657 - val_accuracy: 0.9580\n",
            "Epoch 31/100\n",
            "100/100 [==============================] - 20s 201ms/step - loss: 0.1051 - accuracy: 0.9676 - val_loss: 0.3225 - val_accuracy: 0.9650\n",
            "Epoch 32/100\n",
            "100/100 [==============================] - 20s 202ms/step - loss: 0.1130 - accuracy: 0.9643 - val_loss: 0.3583 - val_accuracy: 0.9420\n",
            "Epoch 33/100\n",
            "100/100 [==============================] - 20s 201ms/step - loss: 0.0813 - accuracy: 0.9781 - val_loss: 0.2425 - val_accuracy: 0.9650\n",
            "Epoch 34/100\n",
            "100/100 [==============================] - 20s 203ms/step - loss: 0.0870 - accuracy: 0.9748 - val_loss: 0.2245 - val_accuracy: 0.9610\n",
            "Epoch 35/100\n",
            "100/100 [==============================] - 20s 203ms/step - loss: 0.0641 - accuracy: 0.9813 - val_loss: 0.4247 - val_accuracy: 0.9520\n",
            "Epoch 36/100\n",
            "100/100 [==============================] - 20s 200ms/step - loss: 0.0867 - accuracy: 0.9740 - val_loss: 0.2762 - val_accuracy: 0.9650\n",
            "Epoch 37/100\n",
            "100/100 [==============================] - 20s 201ms/step - loss: 0.1027 - accuracy: 0.9657 - val_loss: 0.2548 - val_accuracy: 0.9590\n",
            "Epoch 38/100\n",
            "100/100 [==============================] - 20s 202ms/step - loss: 0.0888 - accuracy: 0.9774 - val_loss: 0.2253 - val_accuracy: 0.9630\n",
            "Epoch 39/100\n",
            "100/100 [==============================] - 20s 201ms/step - loss: 0.0844 - accuracy: 0.9759 - val_loss: 0.2686 - val_accuracy: 0.9580\n",
            "Epoch 40/100\n",
            "100/100 [==============================] - 20s 201ms/step - loss: 0.0600 - accuracy: 0.9827 - val_loss: 0.4305 - val_accuracy: 0.9580\n",
            "Epoch 41/100\n",
            "100/100 [==============================] - 20s 201ms/step - loss: 0.1355 - accuracy: 0.9630 - val_loss: 0.3720 - val_accuracy: 0.9470\n",
            "Epoch 42/100\n",
            "100/100 [==============================] - 20s 201ms/step - loss: 0.0735 - accuracy: 0.9765 - val_loss: 0.2851 - val_accuracy: 0.9580\n",
            "Epoch 43/100\n",
            "100/100 [==============================] - 20s 202ms/step - loss: 0.0662 - accuracy: 0.9782 - val_loss: 0.4610 - val_accuracy: 0.9650\n",
            "Epoch 44/100\n",
            "100/100 [==============================] - 20s 201ms/step - loss: 0.1246 - accuracy: 0.9636 - val_loss: 0.2690 - val_accuracy: 0.9500\n",
            "Epoch 45/100\n",
            "100/100 [==============================] - 20s 201ms/step - loss: 0.0830 - accuracy: 0.9780 - val_loss: 0.2863 - val_accuracy: 0.9680\n",
            "Epoch 46/100\n",
            "100/100 [==============================] - 20s 201ms/step - loss: 0.0920 - accuracy: 0.9728 - val_loss: 0.2644 - val_accuracy: 0.9670\n",
            "Epoch 47/100\n",
            "100/100 [==============================] - 20s 201ms/step - loss: 0.0579 - accuracy: 0.9879 - val_loss: 0.2452 - val_accuracy: 0.9670\n",
            "Epoch 48/100\n",
            "100/100 [==============================] - 20s 201ms/step - loss: 0.0661 - accuracy: 0.9773 - val_loss: 0.2824 - val_accuracy: 0.9660\n",
            "Epoch 49/100\n",
            "100/100 [==============================] - 20s 202ms/step - loss: 0.0797 - accuracy: 0.9756 - val_loss: 0.3971 - val_accuracy: 0.9310\n",
            "Epoch 50/100\n",
            "100/100 [==============================] - 20s 202ms/step - loss: 0.0783 - accuracy: 0.9795 - val_loss: 0.7150 - val_accuracy: 0.9550\n",
            "Epoch 51/100\n",
            "100/100 [==============================] - 20s 201ms/step - loss: 0.1398 - accuracy: 0.9730 - val_loss: 0.3302 - val_accuracy: 0.9600\n",
            "Epoch 52/100\n",
            "100/100 [==============================] - 20s 199ms/step - loss: 0.0744 - accuracy: 0.9812 - val_loss: 0.3668 - val_accuracy: 0.9620\n",
            "Epoch 53/100\n",
            "100/100 [==============================] - 20s 200ms/step - loss: 0.0761 - accuracy: 0.9802 - val_loss: 1.1955 - val_accuracy: 0.9500\n",
            "Epoch 54/100\n",
            "100/100 [==============================] - 20s 203ms/step - loss: 0.0883 - accuracy: 0.9760 - val_loss: 0.2660 - val_accuracy: 0.9530\n",
            "Epoch 55/100\n",
            "100/100 [==============================] - 21s 205ms/step - loss: 0.1193 - accuracy: 0.9676 - val_loss: 0.2295 - val_accuracy: 0.9620\n",
            "Epoch 56/100\n",
            "100/100 [==============================] - 21s 205ms/step - loss: 0.0964 - accuracy: 0.9745 - val_loss: 0.6713 - val_accuracy: 0.9640\n",
            "Epoch 57/100\n",
            "100/100 [==============================] - 21s 206ms/step - loss: 0.1031 - accuracy: 0.9680 - val_loss: 0.3442 - val_accuracy: 0.9610\n",
            "Epoch 58/100\n",
            "100/100 [==============================] - 20s 202ms/step - loss: 0.0696 - accuracy: 0.9817 - val_loss: 0.3078 - val_accuracy: 0.9620\n",
            "Epoch 59/100\n",
            "100/100 [==============================] - 20s 202ms/step - loss: 0.1159 - accuracy: 0.9730 - val_loss: 0.4655 - val_accuracy: 0.9540\n",
            "Epoch 60/100\n",
            "100/100 [==============================] - 20s 202ms/step - loss: 0.0989 - accuracy: 0.9809 - val_loss: 0.5858 - val_accuracy: 0.9700\n",
            "Epoch 61/100\n",
            "100/100 [==============================] - 20s 201ms/step - loss: 0.0954 - accuracy: 0.9783 - val_loss: 0.4264 - val_accuracy: 0.9600\n",
            "Epoch 62/100\n",
            "100/100 [==============================] - 20s 203ms/step - loss: 0.0673 - accuracy: 0.9822 - val_loss: 0.5229 - val_accuracy: 0.9570\n",
            "Epoch 63/100\n",
            "100/100 [==============================] - 20s 201ms/step - loss: 0.0690 - accuracy: 0.9831 - val_loss: 0.3035 - val_accuracy: 0.9550\n",
            "Epoch 64/100\n",
            "100/100 [==============================] - 20s 203ms/step - loss: 0.1242 - accuracy: 0.9674 - val_loss: 0.6349 - val_accuracy: 0.9400\n",
            "Epoch 65/100\n",
            "100/100 [==============================] - 20s 203ms/step - loss: 0.0960 - accuracy: 0.9706 - val_loss: 0.2837 - val_accuracy: 0.9460\n",
            "Epoch 66/100\n",
            "100/100 [==============================] - 20s 204ms/step - loss: 0.0958 - accuracy: 0.9665 - val_loss: 0.2390 - val_accuracy: 0.9510\n",
            "Epoch 67/100\n",
            "100/100 [==============================] - 20s 202ms/step - loss: 0.0714 - accuracy: 0.9761 - val_loss: 0.8666 - val_accuracy: 0.9520\n",
            "Epoch 68/100\n",
            "100/100 [==============================] - 20s 202ms/step - loss: 0.0887 - accuracy: 0.9798 - val_loss: 0.5941 - val_accuracy: 0.9600\n",
            "Epoch 69/100\n",
            "100/100 [==============================] - 20s 202ms/step - loss: 0.1084 - accuracy: 0.9636 - val_loss: 0.7693 - val_accuracy: 0.9340\n",
            "Epoch 70/100\n",
            "100/100 [==============================] - 20s 203ms/step - loss: 0.0866 - accuracy: 0.9740 - val_loss: 0.2886 - val_accuracy: 0.9600\n",
            "Epoch 71/100\n",
            "100/100 [==============================] - 20s 202ms/step - loss: 0.1562 - accuracy: 0.9653 - val_loss: 0.3413 - val_accuracy: 0.9520\n",
            "Epoch 72/100\n",
            "100/100 [==============================] - 20s 201ms/step - loss: 0.1412 - accuracy: 0.9608 - val_loss: 0.7171 - val_accuracy: 0.9340\n",
            "Epoch 73/100\n",
            "100/100 [==============================] - 20s 202ms/step - loss: 0.1058 - accuracy: 0.9714 - val_loss: 0.2696 - val_accuracy: 0.9600\n",
            "Epoch 74/100\n",
            "100/100 [==============================] - 20s 204ms/step - loss: 0.0668 - accuracy: 0.9788 - val_loss: 0.3327 - val_accuracy: 0.9640\n",
            "Epoch 75/100\n",
            "100/100 [==============================] - 20s 203ms/step - loss: 0.0882 - accuracy: 0.9801 - val_loss: 0.9760 - val_accuracy: 0.9610\n",
            "Epoch 76/100\n",
            "100/100 [==============================] - 20s 202ms/step - loss: 0.1287 - accuracy: 0.9712 - val_loss: 1.0807 - val_accuracy: 0.9530\n",
            "Epoch 77/100\n",
            "100/100 [==============================] - 20s 202ms/step - loss: 0.0753 - accuracy: 0.9767 - val_loss: 1.5062 - val_accuracy: 0.9470\n",
            "Epoch 78/100\n",
            "100/100 [==============================] - 20s 203ms/step - loss: 0.0997 - accuracy: 0.9688 - val_loss: 0.9952 - val_accuracy: 0.9560\n",
            "Epoch 79/100\n",
            "100/100 [==============================] - 20s 202ms/step - loss: 0.1481 - accuracy: 0.9727 - val_loss: 0.4160 - val_accuracy: 0.9520\n",
            "Epoch 80/100\n",
            "100/100 [==============================] - 20s 203ms/step - loss: 0.0980 - accuracy: 0.9696 - val_loss: 0.6804 - val_accuracy: 0.9490\n",
            "Epoch 81/100\n",
            "100/100 [==============================] - 21s 205ms/step - loss: 0.1628 - accuracy: 0.9717 - val_loss: 0.9940 - val_accuracy: 0.9530\n",
            "Epoch 82/100\n",
            "100/100 [==============================] - 20s 204ms/step - loss: 0.1476 - accuracy: 0.9630 - val_loss: 0.4379 - val_accuracy: 0.9510\n",
            "Epoch 83/100\n",
            "100/100 [==============================] - 20s 203ms/step - loss: 0.1028 - accuracy: 0.9689 - val_loss: 0.3149 - val_accuracy: 0.9680\n",
            "Epoch 84/100\n",
            "100/100 [==============================] - 20s 203ms/step - loss: 0.1415 - accuracy: 0.9681 - val_loss: 0.2850 - val_accuracy: 0.9660\n",
            "Epoch 85/100\n",
            "100/100 [==============================] - 20s 203ms/step - loss: 0.0793 - accuracy: 0.9763 - val_loss: 1.1043 - val_accuracy: 0.9180\n",
            "Epoch 86/100\n",
            "100/100 [==============================] - 20s 204ms/step - loss: 0.1434 - accuracy: 0.9752 - val_loss: 0.6336 - val_accuracy: 0.9460\n",
            "Epoch 87/100\n",
            "100/100 [==============================] - 20s 203ms/step - loss: 0.1581 - accuracy: 0.9712 - val_loss: 0.6014 - val_accuracy: 0.9530\n",
            "Epoch 88/100\n",
            "100/100 [==============================] - 20s 203ms/step - loss: 0.0756 - accuracy: 0.9696 - val_loss: 0.9884 - val_accuracy: 0.9530\n",
            "Epoch 89/100\n",
            "100/100 [==============================] - 20s 202ms/step - loss: 0.1340 - accuracy: 0.9644 - val_loss: 0.7790 - val_accuracy: 0.9630\n",
            "Epoch 90/100\n",
            "100/100 [==============================] - 20s 203ms/step - loss: 0.1096 - accuracy: 0.9797 - val_loss: 0.5015 - val_accuracy: 0.9380\n",
            "Epoch 91/100\n",
            "100/100 [==============================] - 20s 203ms/step - loss: 0.0677 - accuracy: 0.9809 - val_loss: 0.3435 - val_accuracy: 0.9610\n",
            "Epoch 92/100\n",
            "100/100 [==============================] - 20s 202ms/step - loss: 0.1106 - accuracy: 0.9667 - val_loss: 3.2059 - val_accuracy: 0.8740\n",
            "Epoch 93/100\n",
            "100/100 [==============================] - 20s 203ms/step - loss: 0.1339 - accuracy: 0.9700 - val_loss: 0.2638 - val_accuracy: 0.9560\n",
            "Epoch 94/100\n",
            "100/100 [==============================] - 20s 203ms/step - loss: 0.1002 - accuracy: 0.9815 - val_loss: 0.5343 - val_accuracy: 0.9550\n",
            "Epoch 95/100\n",
            "100/100 [==============================] - 20s 202ms/step - loss: 0.0712 - accuracy: 0.9798 - val_loss: 0.9214 - val_accuracy: 0.9370\n",
            "Epoch 96/100\n",
            "100/100 [==============================] - 21s 205ms/step - loss: 0.1021 - accuracy: 0.9684 - val_loss: 0.8763 - val_accuracy: 0.9550\n",
            "Epoch 97/100\n",
            "100/100 [==============================] - 20s 203ms/step - loss: 0.0679 - accuracy: 0.9796 - val_loss: 0.3564 - val_accuracy: 0.9640\n",
            "Epoch 98/100\n",
            "100/100 [==============================] - 20s 204ms/step - loss: 0.1223 - accuracy: 0.9736 - val_loss: 0.9329 - val_accuracy: 0.9450\n",
            "Epoch 99/100\n",
            "100/100 [==============================] - 20s 203ms/step - loss: 0.1321 - accuracy: 0.9747 - val_loss: 0.3956 - val_accuracy: 0.9600\n",
            "Epoch 100/100\n",
            "100/100 [==============================] - 20s 202ms/step - loss: 0.1167 - accuracy: 0.9656 - val_loss: 0.6646 - val_accuracy: 0.9580\n"
          ],
          "name": "stdout"
        }
      ]
    },
    {
      "cell_type": "code",
      "metadata": {
        "id": "UV-VPb-lA3jc"
      },
      "source": [
        ""
      ],
      "execution_count": null,
      "outputs": []
    },
    {
      "cell_type": "code",
      "metadata": {
        "id": "P0Fk-e8wA3jd",
        "colab": {
          "base_uri": "https://localhost:8080/",
          "height": 308
        },
        "outputId": "d453029e-ec6a-41a8-ca28-254bb49d0a88"
      },
      "source": [
        "f, (ax1, ax2) = plt.subplots(1, 2, figsize=(12, 4))\n",
        "t = f.suptitle('Pre-trained CNN (Transfer Learning) Performance', fontsize=12)\n",
        "f.subplots_adjust(top=0.85, wspace=0.3)\n",
        "\n",
        "epoch_list = list(range(1,101))\n",
        "ax1.plot(epoch_list, history.history['accuracy'], label='Train Accuracy')\n",
        "ax1.plot(epoch_list, history.history['val_accuracy'], label='Validation Accuracy')\n",
        "ax1.set_xticks(np.arange(0, 101, 5))\n",
        "ax1.set_ylabel('Accuracy Value')\n",
        "ax1.set_xlabel('Epoch')\n",
        "ax1.set_title('Accuracy')\n",
        "l1 = ax1.legend(loc=\"best\")\n",
        "\n",
        "ax2.plot(epoch_list, history.history['loss'], label='Train Loss')\n",
        "ax2.plot(epoch_list, history.history['val_loss'], label='Validation Loss')\n",
        "ax2.set_xticks(np.arange(0, 101, 5))\n",
        "ax2.set_ylabel('Loss Value')\n",
        "ax2.set_xlabel('Epoch')\n",
        "ax2.set_title('Loss')\n",
        "l2 = ax2.legend(loc=\"best\")"
      ],
      "execution_count": 28,
      "outputs": [
        {
          "output_type": "display_data",
          "data": {
            "image/png": "[encoded data removed]",
            "text/plain": [
              "<Figure size 864x288 with 2 Axes>"
            ]
          },
          "metadata": {
            "tags": [],
            "needs_background": "light"
          }
        }
      ]
    },
    {
      "cell_type": "code",
      "metadata": {
        "id": "wHLV0XfKA3jd"
      },
      "source": [
        "model.save('5-pre-aug-vgg16.h5')"
      ],
      "execution_count": 29,
      "outputs": []
    },
    {
      "cell_type": "code",
      "metadata": {
        "id": "eBjX3kbpA3je"
      },
      "source": [
        ""
      ],
      "execution_count": null,
      "outputs": []
    },
    {
      "cell_type": "code",
      "metadata": {
        "id": "3IaOWSbaA3je"
      },
      "source": [
        ""
      ],
      "execution_count": null,
      "outputs": []
    },
    {
      "cell_type": "code",
      "metadata": {
        "id": "Q7SzUeawA3jn"
      },
      "source": [
        ""
      ],
      "execution_count": null,
      "outputs": []
    }
  ]
}